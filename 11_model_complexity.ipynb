{
 "cells": [
  {
   "cell_type": "markdown",
   "id": "ec02c415-becb-4625-bd39-7eea8a052bb2",
   "metadata": {},
   "source": [
    "# Model Complexity"
   ]
  },
  {
   "cell_type": "code",
   "execution_count": null,
   "id": "fac60507",
   "metadata": {},
   "outputs": [],
   "source": [
    "import pandas as pd\n",
    "import numpy as np\n",
    "import matplotlib.pyplot as plt\n",
    "import seaborn as sns\n",
    "\n",
    "import matplotlib.gridspec as gridspec\n",
    "from ipywidgets import interactive\n",
    "\n",
    "from sklearn.pipeline import Pipeline\n",
    "\n",
    "from sklearn.preprocessing import PolynomialFeatures\n",
    "from sklearn.preprocessing import StandardScaler\n",
    "from sklearn.preprocessing import LabelEncoder\n",
    "\n",
    "from sklearn.model_selection import train_test_split\n",
    "from sklearn.model_selection import cross_validate\n",
    "\n",
    "from sklearn.linear_model import LinearRegression\n",
    "from sklearn.neighbors import KNeighborsRegressor\n",
    "from sklearn.tree import DecisionTreeClassifier\n",
    "from sklearn.linear_model import Lasso\n",
    "from sklearn.linear_model import Ridge\n",
    "\n",
    "from sklearn.tree import plot_tree\n",
    "from sklearn.inspection import DecisionBoundaryDisplay\n",
    "\n",
    "from sklearn.model_selection import validation_curve\n",
    "\n",
    "from sklearn.metrics import mean_squared_error"
   ]
  },
  {
   "cell_type": "code",
   "execution_count": null,
   "id": "f8f990fc-1469-43eb-878f-7bb6457b9a5a",
   "metadata": {},
   "outputs": [],
   "source": [
    "rng = np.random.RandomState(2)"
   ]
  },
  {
   "cell_type": "markdown",
   "id": "7469813b-e0c5-45b1-8f34-c4b60d89fcbe",
   "metadata": {},
   "source": [
    "## Read in datasets and split them"
   ]
  },
  {
   "cell_type": "code",
   "execution_count": null,
   "id": "139d0d44-21c7-48c6-af92-748565c04458",
   "metadata": {},
   "outputs": [],
   "source": [
    "import os\n",
    "if 'google.colab' in str(get_ipython()):\n",
    "    from google.colab import drive\n",
    "    drive.mount('/content/drive')\n",
    "    base_dir = \"./drive/My Drive/Colab Notebooks/\" # You may need to change this, depending on where your notebooks are on Google Drive\n",
    "else:\n",
    "    base_dir = \".\"\n",
    "dataset_dir = os.path.join(base_dir, \"datasets\")"
   ]
  },
  {
   "cell_type": "code",
   "execution_count": null,
   "id": "19252902",
   "metadata": {},
   "outputs": [],
   "source": [
    "df_synthetic = pd.read_csv(os.path.join(dataset_dir, \"synthetic.csv\"))"
   ]
  },
  {
   "cell_type": "code",
   "execution_count": null,
   "id": "c2ef0291-99a5-48c0-a41d-8e25e64ad674",
   "metadata": {},
   "outputs": [],
   "source": [
    "X_synthetic = df_synthetic[[\"feature\"]].values\n",
    "y_synthetic = df_synthetic[\"target\"].values"
   ]
  },
  {
   "cell_type": "code",
   "execution_count": null,
   "id": "0e6a0d58-d0f8-4756-80c3-963333277196",
   "metadata": {},
   "outputs": [],
   "source": [
    "X_train_synthetic, X_test_synthetic, y_train_synthetic, y_test_synthetic = \\\n",
    "    train_test_split(X_synthetic, y_synthetic, test_size=0.2, random_state=rng)"
   ]
  },
  {
   "cell_type": "code",
   "execution_count": null,
   "id": "a0268e1e-2fa7-4309-aec3-5d6f97baedad",
   "metadata": {},
   "outputs": [],
   "source": [
    "df_cs1109 = pd.read_csv(os.path.join(dataset_dir, \"cs1109.csv\"))"
   ]
  },
  {
   "cell_type": "code",
   "execution_count": null,
   "id": "dd124af0-394a-44de-9440-ba9d59c20205",
   "metadata": {},
   "outputs": [],
   "source": [
    "features = [\"lect\", \"lab\"]\n",
    "\n",
    "X_cs1109 = df_cs1109[features]\n",
    "\n",
    "label_encoder = LabelEncoder()\n",
    "y_cs1109 = label_encoder.fit_transform(df_cs1109[\"outcome\"])"
   ]
  },
  {
   "cell_type": "code",
   "execution_count": null,
   "id": "a9be0a76-0055-4394-b878-fcb7167dca42",
   "metadata": {},
   "outputs": [],
   "source": [
    "X_train_cs1109, X_test_cs1109, y_train_cs1109, y_test_cs1109 = \\\n",
    "    train_test_split(X_cs1109, y_cs1109, test_size=0.2, stratify=df_cs1109[\"outcome\"], random_state=rng)"
   ]
  },
  {
   "cell_type": "code",
   "execution_count": null,
   "id": "9f89109f-0052-4e33-9f11-cad1d7e2ff93",
   "metadata": {},
   "outputs": [],
   "source": [
    "df_housing = pd.read_csv(os.path.join(dataset_dir, \"housing.csv\"))"
   ]
  },
  {
   "cell_type": "code",
   "execution_count": null,
   "id": "5329d5aa-c9d7-4291-8629-99b686a8450d",
   "metadata": {},
   "outputs": [],
   "source": [
    "features = [\"BasementArea\", \"GroundFloorArea\", \"Bedrooms\", \"Condition\"]\n",
    "\n",
    "X_housing = df_housing[features].values\n",
    "y_housing = df_housing[\"SalePrice\"].values"
   ]
  },
  {
   "cell_type": "code",
   "execution_count": null,
   "id": "60221ac8-b0b7-4a72-9a78-7ed92acdff16",
   "metadata": {},
   "outputs": [],
   "source": [
    "X_train_housing, X_test_housing, y_train_housing, y_test_housing = \\\n",
    "    train_test_split(X_housing, y_housing, test_size=0.2, random_state=rng)"
   ]
  },
  {
   "cell_type": "markdown",
   "id": "765ae8aa-47a0-4461-8b67-5c4f7042b692",
   "metadata": {},
   "source": [
    "## Polynomial Regression"
   ]
  },
  {
   "cell_type": "markdown",
   "id": "0d65e357-3d2f-4f88-9762-b4848e182fbe",
   "metadata": {},
   "source": [
    "We've seen this before. But here is a reminder."
   ]
  },
  {
   "cell_type": "code",
   "execution_count": null,
   "id": "6231cb50-66b0-4d0d-ad71-67592f66b0f5",
   "metadata": {},
   "outputs": [],
   "source": [
    "linear_model = LinearRegression()\n",
    "\n",
    "quadratic_model = Pipeline([\n",
    "    (\"poly\", PolynomialFeatures(degree=2, include_bias=False)),\n",
    "    (\"predictor\", LinearRegression())\n",
    "])\n",
    "\n",
    "cubic_model = Pipeline([\n",
    "    (\"poly\", PolynomialFeatures(degree=3, include_bias=False)),\n",
    "    (\"predictor\", LinearRegression())\n",
    "])\n",
    "\n",
    "degree_100_model = Pipeline([\n",
    "    (\"poly\", PolynomialFeatures(degree=100, include_bias=False)),\n",
    "    (\"predictor\", LinearRegression())\n",
    "])"
   ]
  },
  {
   "cell_type": "code",
   "execution_count": null,
   "id": "d92a7c82-aa17-4e9f-aacd-863290a6b8d6",
   "metadata": {},
   "outputs": [],
   "source": [
    "linear_model.fit(X_synthetic, y_synthetic)\n",
    "\n",
    "quadratic_model.fit(X_synthetic, y_synthetic)\n",
    "\n",
    "cubic_model.fit(X_synthetic, y_synthetic)\n",
    "\n",
    "degree_100_model.fit(X_synthetic, y_synthetic)"
   ]
  },
  {
   "cell_type": "markdown",
   "id": "df17b621-fcb4-4f28-9e30-c289ec97864a",
   "metadata": {},
   "source": [
    "## Underfitting and Overfitting"
   ]
  },
  {
   "cell_type": "code",
   "execution_count": null,
   "id": "332e2fc5-c6ce-4929-9908-8e34295ad1cd",
   "metadata": {},
   "outputs": [],
   "source": [
    "def plot_scatter_and_line(xs_scatter, ys_scatter, xs_line, ys_line):\n",
    "    fig, ax = plt.subplots()\n",
    "    sns.scatterplot(x=xs_scatter, y=ys_scatter, ax=ax)\n",
    "    sns.lineplot(x=xs_line, y=ys_line, color='g', ax=ax)"
   ]
  },
  {
   "cell_type": "code",
   "execution_count": null,
   "id": "d4bccd14-0dd8-4412-bff7-816dcd81f27d",
   "metadata": {},
   "outputs": [],
   "source": [
    "xs_line = np.linspace(0, 1, 50)"
   ]
  },
  {
   "cell_type": "code",
   "execution_count": null,
   "id": "9fc905df-027c-4605-93cc-119209850ab7",
   "metadata": {},
   "outputs": [],
   "source": [
    "plot_scatter_and_line(X_train_synthetic.flatten(), y_train_synthetic, xs_line, linear_model.predict(xs_line.reshape(50, 1)))"
   ]
  },
  {
   "cell_type": "code",
   "execution_count": null,
   "id": "9ff516f8-66ad-4e93-b9f2-682a11cba110",
   "metadata": {},
   "outputs": [],
   "source": [
    "plot_scatter_and_line(X_train_synthetic.flatten(), y_train_synthetic, xs_line, quadratic_model.predict(xs_line.reshape(50, 1)))"
   ]
  },
  {
   "cell_type": "code",
   "execution_count": null,
   "id": "f68f8d5c-d26d-46bd-9840-c632dd4a441d",
   "metadata": {},
   "outputs": [],
   "source": [
    "plot_scatter_and_line(X_train_synthetic.flatten(), y_train_synthetic, xs_line, cubic_model.predict(xs_line.reshape(50, 1)))"
   ]
  },
  {
   "cell_type": "code",
   "execution_count": null,
   "id": "be1272c8-9af4-4e91-8c92-7c375d3e7414",
   "metadata": {},
   "outputs": [],
   "source": [
    "plot_scatter_and_line(X_train_synthetic.flatten(), y_train_synthetic, xs_line, degree_100_model.predict(xs_line.reshape(50, 1)))"
   ]
  },
  {
   "cell_type": "code",
   "execution_count": null,
   "id": "e71f1dc4-3670-49d2-b1dd-682a66caa0be",
   "metadata": {},
   "outputs": [],
   "source": [
    "decision_tree_depth_1 = DecisionTreeClassifier(max_depth=1, random_state=rng)\n",
    "\n",
    "decision_tree_depth_2 = DecisionTreeClassifier(max_depth=2, random_state=rng)\n",
    "\n",
    "decision_tree_depth_3 = DecisionTreeClassifier(max_depth=3, random_state=rng)\n",
    "\n",
    "decision_tree_depth_4 = DecisionTreeClassifier(max_depth=4, random_state=rng)\n",
    "\n",
    "decision_tree_no_max_depth = DecisionTreeClassifier(max_depth=None, random_state=rng)"
   ]
  },
  {
   "cell_type": "code",
   "execution_count": null,
   "id": "aae1b3a3-3585-403a-a08b-fd1a17736cc0",
   "metadata": {},
   "outputs": [],
   "source": [
    "decision_tree_depth_1.fit(X_train_cs1109, y_train_cs1109)\n",
    "\n",
    "decision_tree_depth_2.fit(X_train_cs1109, y_train_cs1109)\n",
    "\n",
    "decision_tree_depth_3.fit(X_train_cs1109, y_train_cs1109)\n",
    "\n",
    "decision_tree_depth_4.fit(X_train_cs1109, y_train_cs1109)\n",
    "\n",
    "decision_tree_no_max_depth.fit(X_train_cs1109, y_train_cs1109)"
   ]
  },
  {
   "cell_type": "code",
   "execution_count": null,
   "id": "1096c7f0-7629-4cce-acbc-b26131056849",
   "metadata": {},
   "outputs": [],
   "source": [
    "def plot_scatter_and_boundaries(decision_tree):\n",
    "    fig, ax = plt.subplots()\n",
    "    DecisionBoundaryDisplay.from_estimator(\n",
    "        decision_tree, X_train_cs1109, cmap=plt.cm.RdBu, response_method=\"predict\", xlabel=\"lect\", ylabel=\"lab\", ax=ax)\n",
    "    sns.scatterplot(data=X_train_cs1109, x=\"lect\", y=\"lab\", hue=y_train_cs1109, style=y_train_cs1109, ax=ax)\n",
    "    plt.show()"
   ]
  },
  {
   "cell_type": "code",
   "execution_count": null,
   "id": "fd87ae91-e816-441a-951c-1b8abfa38b28",
   "metadata": {},
   "outputs": [],
   "source": [
    "plot_scatter_and_boundaries(decision_tree_depth_1)"
   ]
  },
  {
   "cell_type": "code",
   "execution_count": null,
   "id": "2c128fc6-b350-4614-b348-1c9bcffb59c1",
   "metadata": {},
   "outputs": [],
   "source": [
    "plot_scatter_and_boundaries(decision_tree_depth_2)"
   ]
  },
  {
   "cell_type": "code",
   "execution_count": null,
   "id": "52fbbd37-7fb2-44ad-9400-a127cfcdcc1e",
   "metadata": {},
   "outputs": [],
   "source": [
    "plot_scatter_and_boundaries(decision_tree_depth_3)"
   ]
  },
  {
   "cell_type": "code",
   "execution_count": null,
   "id": "ad253824-16c0-407a-8254-312045db1ec3",
   "metadata": {},
   "outputs": [],
   "source": [
    "plot_scatter_and_boundaries(decision_tree_depth_4)"
   ]
  },
  {
   "cell_type": "code",
   "execution_count": null,
   "id": "ab4d350e-11eb-42a6-b389-13a06f48e2f0",
   "metadata": {},
   "outputs": [],
   "source": [
    "plot_scatter_and_boundaries(decision_tree_no_max_depth)"
   ]
  },
  {
   "cell_type": "markdown",
   "id": "f4962113-aa47-412a-91ef-3ce0c8aa9dab",
   "metadata": {},
   "source": [
    "## Validation curves - plotting validation error against model complexity"
   ]
  },
  {
   "cell_type": "code",
   "execution_count": null,
   "id": "261b5857-b30c-4c0d-ab82-5fe902ed23d5",
   "metadata": {},
   "outputs": [],
   "source": [
    "def plot_validation_curve(x_range, train_errors, val_errors, invert_axis=False):\n",
    "    fig = plt.figure()\n",
    "    ax = plt.axes()\n",
    "    plt.xlabel(\"complexity\")\n",
    "    if invert_axis:\n",
    "        ax.invert_xaxis()\n",
    "    plt.ylabel(\"error\")\n",
    "    plt.plot(x_range, train_errors, label = \"training error\", color = \"red\")\n",
    "    plt.plot(x_range, val_errors, label=\"validation error\", color = \"gold\")\n",
    "    plt.legend()"
   ]
  },
  {
   "cell_type": "code",
   "execution_count": null,
   "id": "5f4982dd-35ff-4fba-bf49-a5e5191a383a",
   "metadata": {},
   "outputs": [],
   "source": [
    "degrees = np.arange(1, 30)\n",
    "\n",
    "poly_model = Pipeline([\n",
    "    (\"poly\", PolynomialFeatures(include_bias=False)),\n",
    "    (\"predictor\", LinearRegression())\n",
    "])\n",
    "\n",
    "cv_train_errors, cv_val_errors = validation_curve(\n",
    "    poly_model, X_train_synthetic, y_train_synthetic, param_name=\"poly__degree\", param_range=degrees, cv=10, scoring=\"neg_mean_absolute_error\")\n",
    "\n",
    "train_errors = np.mean(np.abs(cv_train_errors), axis=1)\n",
    "val_errors = np.mean(np.abs(cv_val_errors), axis=1)\n",
    "\n",
    "plot_validation_curve(x_range=degrees, train_errors=train_errors, val_errors=val_errors)\n",
    "plt.show()"
   ]
  },
  {
   "cell_type": "code",
   "execution_count": null,
   "id": "a9fe9c16-72de-4d9a-94e2-78815c3f0427",
   "metadata": {},
   "outputs": [],
   "source": [
    "depths = np.arange(1, 5)\n",
    "\n",
    "decision_tree = DecisionTreeClassifier()\n",
    "\n",
    "cv_train_errors, cv_val_errors = validation_curve(\n",
    "    decision_tree, X_train_cs1109, y_train_cs1109, param_name=\"max_depth\", param_range=depths, cv=10, scoring=\"accuracy\")\n",
    "\n",
    "train_errors = np.mean(np.abs(1 - cv_train_errors), axis=1)\n",
    "val_errors = np.mean(np.abs(1 - cv_val_errors), axis=1)\n",
    "\n",
    "plot_validation_curve(x_range=depths, train_errors=train_errors, val_errors=val_errors)\n",
    "plt.show()"
   ]
  },
  {
   "cell_type": "code",
   "execution_count": null,
   "id": "703823e2-2cad-4c8e-8a6b-f94939785d07",
   "metadata": {},
   "outputs": [],
   "source": [
    "k_vals = np.arange(1, 50)\n",
    "\n",
    "knn = Pipeline([\n",
    "    (\"scaler\", StandardScaler()),\n",
    "    (\"predictor\", KNeighborsRegressor())\n",
    "]) \n",
    "\n",
    "cv_train_errors, cv_val_errors = validation_curve(\n",
    "    knn, X_train_housing, y_train_housing, param_name=\"predictor__n_neighbors\", param_range=k_vals, cv=10, scoring=\"neg_mean_absolute_error\")\n",
    "\n",
    "train_errors = np.mean(np.abs(cv_train_errors), axis=1)\n",
    "val_errors = np.mean(np.abs(cv_val_errors), axis=1)\n",
    "\n",
    "plot_validation_curve(x_range=k_vals, train_errors=train_errors, val_errors=val_errors, invert_axis=True)\n",
    "plt.show()"
   ]
  },
  {
   "cell_type": "markdown",
   "id": "7361f6ea-ed21-4dfb-afa0-e121bbf832cb",
   "metadata": {},
   "source": [
    "## Diagnosis: Is a model underfitting or overfitting?"
   ]
  },
  {
   "cell_type": "markdown",
   "id": "af491e32-eba9-4ffa-a34a-3eaeb67e4e87",
   "metadata": {},
   "source": [
    "We know that:\n",
    "- Underfitting: the validation error is high and even the training error is high.\n",
    "- Overfitting: the training error is low but the validation error is high.\n",
    "\n",
    "So if we compute and compare training error and validation error, we can know whether our model is underfitting or overfiting and then take appropriate action. Here's a handy function for giving us the training error and validation error:"
   ]
  },
  {
   "cell_type": "code",
   "execution_count": null,
   "id": "a1c7fad9-065a-4585-b10d-0d8de5fe49a1",
   "metadata": {},
   "outputs": [],
   "source": [
    "def check_fit(model, X_train, y_train, cv, metric):\n",
    "    scores = cross_validate(model, X_train, y_train, cv=cv, scoring=metric, return_train_score=True, n_jobs=-1)\n",
    "    return scores[\"train_score\"].mean(), scores[\"test_score\"].mean()"
   ]
  },
  {
   "cell_type": "markdown",
   "id": "cfd00825-336a-4cd9-ae5a-48c973901108",
   "metadata": {},
   "source": [
    "So, now, tell me whether the following models are underfitting or overfitting:"
   ]
  },
  {
   "cell_type": "code",
   "execution_count": null,
   "id": "56ba894b-4ad1-4e89-977a-dbddd6c8c367",
   "metadata": {},
   "outputs": [],
   "source": [
    "train_err, val_err = check_fit(model=linear_model, \n",
    "            X_train=X_train_synthetic, y_train=y_train_synthetic, \n",
    "            cv=10, metric=\"neg_mean_absolute_error\")\n",
    "\n",
    "train_err, val_err"
   ]
  },
  {
   "cell_type": "code",
   "execution_count": null,
   "id": "d475769e-a16e-4465-88d8-7c2402a9a5ae",
   "metadata": {},
   "outputs": [],
   "source": [
    "train_err, val_err = check_fit(model=quadratic_model, \n",
    "            X_train=X_train_synthetic, y_train=y_train_synthetic, \n",
    "            cv=10, metric=\"neg_mean_absolute_error\")\n",
    "\n",
    "train_err, val_err"
   ]
  },
  {
   "cell_type": "code",
   "execution_count": null,
   "id": "0708fb90-6ecd-4a18-b765-a816f0a075d4",
   "metadata": {},
   "outputs": [],
   "source": [
    "train_err, val_err = check_fit(model=cubic_model, \n",
    "            X_train=X_train_synthetic, y_train=y_train_synthetic, \n",
    "            cv=10, metric=\"neg_mean_absolute_error\")\n",
    "\n",
    "train_err, val_err"
   ]
  },
  {
   "cell_type": "code",
   "execution_count": null,
   "id": "797f638f-db57-4209-be36-e052eadfb751",
   "metadata": {},
   "outputs": [],
   "source": [
    "train_err, val_err = check_fit(model=degree_100_model, \n",
    "            X_train=X_train_synthetic, y_train=y_train_synthetic, \n",
    "            cv=10, metric=\"neg_mean_absolute_error\")\n",
    "\n",
    "train_err, val_err"
   ]
  },
  {
   "cell_type": "code",
   "execution_count": null,
   "id": "bb06ec71-7630-43c6-b7a0-93f9ac65fae6",
   "metadata": {},
   "outputs": [],
   "source": [
    "train_acc, val_acc = check_fit(model=decision_tree_depth_1, \n",
    "            X_train=X_train_cs1109, y_train=y_train_cs1109, \n",
    "            cv=10, metric=\"accuracy\")\n",
    "\n",
    "train_acc, val_acc"
   ]
  },
  {
   "cell_type": "code",
   "execution_count": null,
   "id": "a485026a-7f5e-4b83-a529-0a0a08d7025d",
   "metadata": {},
   "outputs": [],
   "source": [
    "train_acc, val_acc = check_fit(model=decision_tree_depth_2, \n",
    "            X_train=X_train_cs1109, y_train=y_train_cs1109, \n",
    "            cv=10, metric=\"accuracy\")\n",
    "\n",
    "train_acc, val_acc"
   ]
  },
  {
   "cell_type": "code",
   "execution_count": null,
   "id": "100491aa-848d-4bb5-9d49-3266f755bc79",
   "metadata": {},
   "outputs": [],
   "source": [
    "train_acc, val_acc = check_fit(model=decision_tree_depth_3, \n",
    "            X_train=X_train_cs1109, y_train=y_train_cs1109, \n",
    "            cv=10, metric=\"accuracy\")\n",
    "\n",
    "train_acc, val_acc"
   ]
  },
  {
   "cell_type": "code",
   "execution_count": null,
   "id": "bde11cc2-5c3b-4f2f-8a91-50a846329152",
   "metadata": {},
   "outputs": [],
   "source": [
    "train_acc, val_acc = check_fit(model=decision_tree_depth_4, \n",
    "            X_train=X_train_cs1109, y_train=y_train_cs1109, \n",
    "            cv=10, metric=\"accuracy\")\n",
    "\n",
    "train_acc, val_acc"
   ]
  },
  {
   "cell_type": "code",
   "execution_count": null,
   "id": "f6b92970-34c8-4f71-9dc2-93ad9e223645",
   "metadata": {},
   "outputs": [],
   "source": [
    "train_acc, val_acc = check_fit(model=decision_tree_no_max_depth, \n",
    "            X_train=X_train_cs1109, y_train=y_train_cs1109, \n",
    "            cv=10, metric=\"accuracy\")\n",
    "\n",
    "train_acc, val_acc"
   ]
  },
  {
   "cell_type": "markdown",
   "id": "0ccfeb7a-1a79-4fa1-972d-e849078b215d",
   "metadata": {},
   "source": [
    "## Regularization"
   ]
  },
  {
   "cell_type": "markdown",
   "id": "2d848b9b-8537-4a57-a22f-18ade3c2da47",
   "metadata": {},
   "source": [
    "We'll fit an unregularized linear model and two regularized models (Lasso and Ridge) to the synthetic data."
   ]
  },
  {
   "cell_type": "code",
   "execution_count": null,
   "id": "04de7259-0390-444f-864d-3eede16109bd",
   "metadata": {},
   "outputs": [],
   "source": [
    "ols = LinearRegression()\n",
    "ols.fit(X_train_synthetic, y_train_synthetic)\n",
    "y_predicted_ols = ols.predict(X_test_synthetic)\n",
    "mse_ols = mean_squared_error(y_predicted_ols, y_test_synthetic)\n",
    "\n",
    "lasso = Lasso(alpha=1.0)\n",
    "lasso.fit(X_train_synthetic, y_train_synthetic)\n",
    "y_predicted_lasso = lasso.predict(X_test_synthetic)\n",
    "mse_lasso = mean_squared_error(y_predicted_lasso, y_test_synthetic)\n",
    "\n",
    "ridge = Ridge(alpha=1.0)\n",
    "ridge.fit(X_train_synthetic, y_train_synthetic)\n",
    "y_predicted_ridge = ridge.predict(X_test_synthetic)\n",
    "mse_ridge = mean_squared_error(y_predicted_ridge, y_test_synthetic)"
   ]
  },
  {
   "cell_type": "code",
   "execution_count": null,
   "id": "3f00bcdf-d6a6-4135-a15e-e63a3bc22bd2",
   "metadata": {},
   "outputs": [],
   "source": [
    "fig = plt.figure(figsize=(14, 4.5)) \n",
    "gs = gridspec.GridSpec(1, 3) \n",
    "# Leftmost diagram: OLS\n",
    "ax0 = plt.subplot(gs[0])\n",
    "plt.title(\"OLS Linear Regression\\nMSE: %.3f\\nIntercept: %.3f\\nCoefficient: %.3f\" % \n",
    "          (mse_ols, ols.intercept_, ols.coef_[0]))\n",
    "plt.xlabel(\"Feature\")\n",
    "plt.ylabel(\"MSE\")\n",
    "plt.ylim(-4, 14)\n",
    "ax0.scatter(X_train_synthetic, y_train_synthetic, color = \"green\")\n",
    "ax0.plot(X_test_synthetic, y_predicted_ols, color = \"blue\")\n",
    "# Middle diagram: Lasso\n",
    "ax1 = plt.subplot(gs[1])\n",
    "plt.title(\"Lasso Regression\\nMSE: %.3f\\nIntercept: %.3f\\nCoefficient: %.3f\" % \n",
    "          (mse_lasso, lasso.intercept_, lasso.coef_[0]))\n",
    "plt.xlabel(\"Feature\")\n",
    "plt.ylabel(\"MSE\")\n",
    "plt.ylim(-4, 14)\n",
    "ax1.scatter(X_train_synthetic, y_train_synthetic, color = \"green\")\n",
    "ax1.plot(X_test_synthetic, y_predicted_lasso, color = \"blue\")\n",
    "# Righmost diagram: Ridge\n",
    "ax2 = plt.subplot(gs[2])\n",
    "plt.title(\"Ridge Regression\\nMSE: %.3f\\nIntercept: %.3f\\nCoefficient: %.3f\" % \n",
    "          (mse_ridge, ridge.intercept_, ridge.coef_[0]))\n",
    "plt.xlabel(\"Feature\")\n",
    "plt.ylabel(\"MSE\")\n",
    "plt.ylim(-4, 14)\n",
    "ax2.scatter(X_train_synthetic, y_train_synthetic, color = \"green\")\n",
    "ax2.plot(X_test_synthetic, y_predicted_ridge, color = \"blue\")\n",
    "\n",
    "fig.tight_layout()\n",
    "plt.show()"
   ]
  },
  {
   "cell_type": "markdown",
   "id": "3f9da8d9-69b2-4669-af37-2fb9e519b0df",
   "metadata": {},
   "source": [
    "Here is an interactive version so that we can play with the regularization hyperparameter. (The slides refer to it as lambda, but scikit-learn calls it alpha)."
   ]
  },
  {
   "cell_type": "code",
   "execution_count": null,
   "id": "d487cac6-29e9-4630-9a1c-1aa20bc58673",
   "metadata": {},
   "outputs": [],
   "source": [
    "def plot_model(model, alpha):\n",
    "    plt.figure()\n",
    "    plt.title(\"%s with lambda (alpha) = %.1f\" % (model, alpha))\n",
    "    plt.xlabel(\"Feature\")\n",
    "    plt.ylabel(\"MSE\")\n",
    "    plt.ylim(-4, 14)\n",
    "    plt.scatter(X_train_synthetic, y_train_synthetic, color = \"green\")\n",
    "    if model == \"lasso\":\n",
    "        model = Lasso(alpha)\n",
    "    else:\n",
    "        model = Ridge(alpha)\n",
    "    model.fit(X_train_synthetic, y_train_synthetic)\n",
    "    y_predicted = model.predict(X_test_synthetic)\n",
    "    plt.plot(X_test_synthetic, y_predicted, color = \"blue\")\n",
    "    plt.show()\n",
    "    \n",
    "interactive_plot = interactive(plot_model, {'manual': True}, scale=True, alpha=(0,3,.1), model=[\"lasso\", \"ridge\"]) \n",
    "interactive_plot"
   ]
  },
  {
   "cell_type": "markdown",
   "id": "2ba7b947-0410-4656-a34f-e10378bfd183",
   "metadata": {},
   "source": [
    "Regularization is a response to overfitting. The problem with the example above is that we are regularizing a model (linear regression) on a dataset that it underfits!\n",
    "\n",
    "To see the value of regularization, let's regularize a model that does overfit. Let's regularize Polynomial Regression with degree 100."
   ]
  },
  {
   "cell_type": "code",
   "execution_count": null,
   "id": "d6207b0a-0e3f-44ae-bbc1-5e57f017f3eb",
   "metadata": {},
   "outputs": [],
   "source": [
    "def plot_model(model, alpha):\n",
    "    plt.figure()\n",
    "    plt.title(\"%s with lambda (alpha) = %.1f\" % (model, alpha))\n",
    "    plt.xlabel(\"Feature\")\n",
    "    plt.ylabel(\"MSE\")\n",
    "    plt.ylim(-4, 14)\n",
    "    plt.scatter(X_train_synthetic, y_train_synthetic, color = \"green\")\n",
    "    if model == \"lasso\":\n",
    "        model = Pipeline([(\"poly\", PolynomialFeatures(degree=100, include_bias=False)),\n",
    "                          (\"predictor\", Lasso(alpha))])\n",
    "    else:\n",
    "        model = Pipeline([(\"poly\", PolynomialFeatures(degree=100, include_bias=False)),\n",
    "                          (\"predictor\", Ridge(alpha))])\n",
    "    model.fit(X_train_synthetic, y_train_synthetic)\n",
    "    y_predicted = model.predict(X_test_synthetic)\n",
    "    test_sorted = sorted(zip(X_test_synthetic, y_predicted))\n",
    "    plt.plot([x for x, _ in test_sorted], [y_predicted for _, y_predicted in test_sorted], color = \"blue\")\n",
    "    plt.show()\n",
    "    \n",
    "interactive_plot = interactive(plot_model, {'manual': True}, scale=True, alpha=(0,3,.1), model=[\"lasso\", \"ridge\"]) \n",
    "interactive_plot"
   ]
  },
  {
   "cell_type": "code",
   "execution_count": null,
   "id": "7a660b5a-4d55-49dc-891d-3d3ed3c4755c",
   "metadata": {},
   "outputs": [],
   "source": []
  }
 ],
 "metadata": {
  "kernelspec": {
   "display_name": "Python 3 (ipykernel)",
   "language": "python",
   "name": "python3"
  },
  "language_info": {
   "codemirror_mode": {
    "name": "ipython",
    "version": 3
   },
   "file_extension": ".py",
   "mimetype": "text/x-python",
   "name": "python",
   "nbconvert_exporter": "python",
   "pygments_lexer": "ipython3",
   "version": "3.12.4"
  }
 },
 "nbformat": 4,
 "nbformat_minor": 5
}
