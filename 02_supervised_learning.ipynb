{
 "cells": [
  {
   "cell_type": "markdown",
   "id": "55ed8687-ab10-49db-bae8-b9bf9326c9bf",
   "metadata": {},
   "source": [
    "# Supervised Learning"
   ]
  },
  {
   "cell_type": "code",
   "execution_count": null,
   "id": "fac60507",
   "metadata": {},
   "outputs": [],
   "source": [
    "import pandas as pd\n",
    "import numpy as np\n",
    "import matplotlib.pyplot as plt\n",
    "import seaborn as sns\n",
    "\n",
    "from sklearn.pipeline import Pipeline\n",
    "\n",
    "from sklearn.linear_model import LinearRegression\n",
    "\n",
    "from sklearn.preprocessing import PolynomialFeatures\n",
    "\n",
    "from sklearn.model_selection import train_test_split\n",
    "\n",
    "from sklearn.metrics import mean_absolute_error"
   ]
  },
  {
   "cell_type": "markdown",
   "id": "dc536125-5717-44d6-9794-503b9e64b970",
   "metadata": {},
   "source": [
    "## Seed the random number generator"
   ]
  },
  {
   "cell_type": "code",
   "execution_count": null,
   "id": "7065d33d-7bee-4578-9679-1faf7752b0b9",
   "metadata": {},
   "outputs": [],
   "source": [
    "rng = np.random.RandomState(2)"
   ]
  },
  {
   "cell_type": "markdown",
   "id": "7469813b-e0c5-45b1-8f34-c4b60d89fcbe",
   "metadata": {},
   "source": [
    "## Read in dataset"
   ]
  },
  {
   "cell_type": "code",
   "execution_count": null,
   "id": "139d0d44-21c7-48c6-af92-748565c04458",
   "metadata": {},
   "outputs": [],
   "source": [
    "import os\n",
    "if 'google.colab' in str(get_ipython()):\n",
    "    from google.colab import drive\n",
    "    drive.mount('/content/drive')\n",
    "    base_dir = \"./drive/My Drive/Colab Notebooks/\" # You may need to change this, depending on where your notebooks are on Google Drive\n",
    "else:\n",
    "    base_dir = \".\"\n",
    "dataset_dir = os.path.join(base_dir, \"datasets\")"
   ]
  },
  {
   "cell_type": "code",
   "execution_count": null,
   "id": "19252902",
   "metadata": {},
   "outputs": [],
   "source": [
    "df = pd.read_csv(os.path.join(dataset_dir, \"synthetic.csv\"))"
   ]
  },
  {
   "cell_type": "markdown",
   "id": "7543c79d-a8f3-489d-ae6b-5620c6a06e65",
   "metadata": {},
   "source": [
    "## Take a cheeky look - not too much!"
   ]
  },
  {
   "cell_type": "code",
   "execution_count": null,
   "id": "26f6f1b4-0444-4013-bbcb-ce634c0dba03",
   "metadata": {},
   "outputs": [],
   "source": [
    "df.head()"
   ]
  },
  {
   "cell_type": "code",
   "execution_count": null,
   "id": "cc5f1ce9-814f-4957-bd97-ca2212c1077a",
   "metadata": {},
   "outputs": [],
   "source": [
    "df.shape"
   ]
  },
  {
   "cell_type": "code",
   "execution_count": null,
   "id": "1b0abf79-5869-46e1-9cf6-ac4f6edcc8f9",
   "metadata": {},
   "outputs": [],
   "source": [
    "df.info()"
   ]
  },
  {
   "cell_type": "code",
   "execution_count": null,
   "id": "496bfb39-7e31-45fa-a785-360ca1ad07c5",
   "metadata": {},
   "outputs": [],
   "source": [
    "df.describe(include=\"all\")"
   ]
  },
  {
   "cell_type": "markdown",
   "id": "2c88a765-b022-4eff-bcdf-fd5a3081ee09",
   "metadata": {},
   "source": [
    "## Train a linear model (fit)"
   ]
  },
  {
   "cell_type": "code",
   "execution_count": null,
   "id": "988aae19-8369-4d61-8c61-2be9a00b3ff9",
   "metadata": {},
   "outputs": [],
   "source": [
    "X = df[[\"feature\"]].values\n",
    "y = df[\"target\"].values"
   ]
  },
  {
   "cell_type": "code",
   "execution_count": null,
   "id": "4c5cf9c3-705f-4acf-ac1d-6e48c62d9079",
   "metadata": {},
   "outputs": [],
   "source": [
    "linear_model = LinearRegression()\n",
    "linear_model.fit(X, y)"
   ]
  },
  {
   "cell_type": "code",
   "execution_count": null,
   "id": "e8225475-da86-4601-b135-f5d6a6dc1f59",
   "metadata": {},
   "outputs": [],
   "source": [
    "linear_model.intercept_, linear_model.coef_"
   ]
  },
  {
   "cell_type": "markdown",
   "id": "8614ad48-d0eb-45af-a896-594920747d8e",
   "metadata": {},
   "source": [
    "## Use it for inference (predict)"
   ]
  },
  {
   "cell_type": "code",
   "execution_count": null,
   "id": "1892f57d-45a1-42db-a99a-fa4dbf6274f8",
   "metadata": {},
   "outputs": [],
   "source": [
    "linear_model.predict([[0.65]]) "
   ]
  },
  {
   "cell_type": "markdown",
   "id": "9f32d831-7551-4e7a-9d3c-c0b361a27c0a",
   "metadata": {},
   "source": [
    "## Error estimation - evaluate the model (training error - wrong! - leakage)"
   ]
  },
  {
   "cell_type": "code",
   "execution_count": null,
   "id": "649dfc33-83e3-4a70-b526-ad7a49759695",
   "metadata": {},
   "outputs": [],
   "source": [
    "mean_absolute_error(linear_model.predict(X), y)"
   ]
  },
  {
   "cell_type": "markdown",
   "id": "179d6efb-651f-403b-bbbc-d27b15a04602",
   "metadata": {},
   "source": [
    "## Split into training set and test set (holdout)"
   ]
  },
  {
   "cell_type": "code",
   "execution_count": null,
   "id": "29697efd-d658-43b3-bc13-32e644f3f69e",
   "metadata": {},
   "outputs": [],
   "source": [
    "X_train, X_test, y_train, y_test = train_test_split(X, y, test_size=0.2, random_state=rng)"
   ]
  },
  {
   "cell_type": "code",
   "execution_count": null,
   "id": "b86112a7-7e45-4d74-9c80-6e812a56dfd3",
   "metadata": {},
   "outputs": [],
   "source": [
    "linear_model.fit(X_train, y_train)"
   ]
  },
  {
   "cell_type": "markdown",
   "id": "b3789b95-1475-46e0-99c7-f84edec8e201",
   "metadata": {},
   "source": [
    "## Error estimation - evaluate the model (test error)"
   ]
  },
  {
   "cell_type": "code",
   "execution_count": null,
   "id": "55ab1594-0218-47b0-9d6a-8ff3218fe493",
   "metadata": {},
   "outputs": [],
   "source": [
    "mean_absolute_error(linear_model.predict(X_test), y_test)"
   ]
  },
  {
   "cell_type": "code",
   "execution_count": null,
   "id": "7c03ff27-0f3b-4f06-bd03-d93235494cb0",
   "metadata": {},
   "outputs": [],
   "source": [
    "mean_absolute_error(linear_model.predict(X_train), y_train)"
   ]
  },
  {
   "cell_type": "markdown",
   "id": "79ae2f33-af1f-43a8-9923-bd1d824a4c6a",
   "metadata": {},
   "source": [
    "## Visualise the training set and the linear model"
   ]
  },
  {
   "cell_type": "code",
   "execution_count": null,
   "id": "8f3d0aa6-e43f-42a4-9dcc-574fdd475577",
   "metadata": {},
   "outputs": [],
   "source": [
    "def plot_scatter_and_line(xs_scatter, ys_scatter, xs_line, ys_line):\n",
    "    fig, ax = plt.subplots()\n",
    "    sns.scatterplot(x=xs_scatter, y=ys_scatter, ax=ax)\n",
    "    sns.lineplot(x=xs_line, y=ys_line, color='g', ax=ax)"
   ]
  },
  {
   "cell_type": "code",
   "execution_count": null,
   "id": "4cbd516c-5cf2-4462-aefe-2b0fe649c2af",
   "metadata": {},
   "outputs": [],
   "source": [
    "xs_line = np.linspace(0, 1, 50)"
   ]
  },
  {
   "cell_type": "code",
   "execution_count": null,
   "id": "06671caf-a87d-4c0e-9a3c-1ba09f1b30f6",
   "metadata": {},
   "outputs": [],
   "source": [
    "plot_scatter_and_line(X_train.flatten(), y_train, xs_line, linear_model.predict(xs_line.reshape(50, 1)))"
   ]
  },
  {
   "cell_type": "markdown",
   "id": "84352c95-0bbb-4d5c-8089-91012c3da30a",
   "metadata": {},
   "source": [
    "## Try some other models (underfitting and overfitting)"
   ]
  },
  {
   "cell_type": "code",
   "execution_count": null,
   "id": "a4b5915f-ab36-413b-ab1a-bb9f46394c83",
   "metadata": {},
   "outputs": [],
   "source": [
    "quadratic_model = Pipeline([\n",
    "    (\"poly\", PolynomialFeatures(degree=2, include_bias=False)),\n",
    "    (\"predictor\", LinearRegression())\n",
    "])"
   ]
  },
  {
   "cell_type": "code",
   "execution_count": null,
   "id": "ab90b9cb-0a20-4283-ab31-4fb2bffc1134",
   "metadata": {},
   "outputs": [],
   "source": [
    "quadratic_model.fit(X_train, y_train)"
   ]
  },
  {
   "cell_type": "code",
   "execution_count": null,
   "id": "fa3dc0e2-c624-4494-82e2-3a2c75033ea8",
   "metadata": {},
   "outputs": [],
   "source": [
    "plot_scatter_and_line(X_train.flatten(), y_train, xs_line, quadratic_model.predict(xs_line.reshape(50, 1)))"
   ]
  },
  {
   "cell_type": "code",
   "execution_count": null,
   "id": "eaad2bbd-c903-4812-af60-15919572cbf0",
   "metadata": {},
   "outputs": [],
   "source": [
    "cubic_model = Pipeline([\n",
    "    (\"poly\", PolynomialFeatures(degree=3, include_bias=False)),\n",
    "    (\"predictor\", LinearRegression())\n",
    "])"
   ]
  },
  {
   "cell_type": "code",
   "execution_count": null,
   "id": "bdc47018-ced9-45f7-a00b-0b2f02974066",
   "metadata": {},
   "outputs": [],
   "source": [
    "cubic_model.fit(X_train, y_train)"
   ]
  },
  {
   "cell_type": "code",
   "execution_count": null,
   "id": "04a1802d-f539-43ea-918f-28094072e5c5",
   "metadata": {},
   "outputs": [],
   "source": [
    "plot_scatter_and_line(X_train.flatten(), y_train, xs_line, cubic_model.predict(xs_line.reshape(50, 1)))"
   ]
  },
  {
   "cell_type": "code",
   "execution_count": null,
   "id": "f1041a80-947f-41fa-8be2-126c83c67f78",
   "metadata": {},
   "outputs": [],
   "source": [
    "degree_100_model = Pipeline([\n",
    "    (\"poly\", PolynomialFeatures(degree=100, include_bias=False)),\n",
    "    (\"predictor\", LinearRegression())\n",
    "])"
   ]
  },
  {
   "cell_type": "code",
   "execution_count": null,
   "id": "a9bc1f48-8495-4952-b2b6-5f3e0523a496",
   "metadata": {},
   "outputs": [],
   "source": [
    "degree_100_model.fit(X_train, y_train)"
   ]
  },
  {
   "cell_type": "code",
   "execution_count": null,
   "id": "7477c44a-d995-4089-b454-8ddc8fc071c6",
   "metadata": {},
   "outputs": [],
   "source": [
    "plot_scatter_and_line(X_train.flatten(), y_train, xs_line, degree_100_model.predict(xs_line.reshape(50, 1)))"
   ]
  },
  {
   "cell_type": "code",
   "execution_count": null,
   "id": "31e6d096-1b25-4fdc-b96d-3f16e5df8e17",
   "metadata": {},
   "outputs": [],
   "source": []
  }
 ],
 "metadata": {
  "kernelspec": {
   "display_name": "Python 3 (ipykernel)",
   "language": "python",
   "name": "python3"
  },
  "language_info": {
   "codemirror_mode": {
    "name": "ipython",
    "version": 3
   },
   "file_extension": ".py",
   "mimetype": "text/x-python",
   "name": "python",
   "nbconvert_exporter": "python",
   "pygments_lexer": "ipython3",
   "version": "3.12.4"
  }
 },
 "nbformat": 4,
 "nbformat_minor": 5
}
