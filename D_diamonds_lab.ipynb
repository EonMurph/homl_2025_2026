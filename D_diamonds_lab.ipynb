{
 "cells": [
  {
   "cell_type": "markdown",
   "id": "ec02c415-becb-4625-bd39-7eea8a052bb2",
   "metadata": {},
   "source": [
    "# D: Diamonds"
   ]
  },
  {
   "cell_type": "markdown",
   "id": "a5aa1cf2-f40d-44ec-9086-2174c375dde7",
   "metadata": {},
   "source": [
    "There are no hints and no answers in this lab sheet. Towards the end of the session, we will discuss a solution together - so you can compare yours with the one I will present.\n",
    "\n",
    "In lab sheet C, I led you by the hand, step-by-step. Here, you're on your own!"
   ]
  },
  {
   "cell_type": "code",
   "execution_count": 30,
   "id": "192d6483-21b8-4c1b-82bc-2cc18599e45b",
   "metadata": {},
   "outputs": [],
   "source": [
    "rng = np.random.RandomState(2)"
   ]
  },
  {
   "cell_type": "markdown",
   "id": "80695a96-813d-4cd5-b9bd-081fe4202531",
   "metadata": {},
   "source": [
    "## The business problem\n",
    "\n",
    "A diamond merchant finds that her employees are quite inconsistent when pricing the diamonds they buy and sell. Perhaps if there were a pricing tool that they could consult - to get a guideline price - then there would be greater consistency across her employees. She asks you to build the tool. Most important to her is correct pricing - but if the tool can explain its prices, so much the better.\n",
    "\n",
    "## Performance measures\n",
    "\n",
    "You realise that this is a regression problem and that mean absolute error (MAE) is the main metric to use in the evaluation. It makes sense to compare against a baseline - a dummy regressor that predicts the mean price of the training examples.\n",
    "\n",
    "## Dataset\n",
    "\n",
    "The merchant provides you with a CSV file (`diamonds.csv`), each row of which describes a diamond and its price. (In truth, the dataset comes from [Kaggle](https://www.kaggle.com/datasets/ronil8/diamond-price-prediction-dataset).)\n",
    "\n",
    "Each row in the CSV file contains 10 pieces of data, which she explains as follows:\n",
    "\n",
    "- Carat: The carat value of a diamond is a measure of its weight. One carat is 200 milligranms.\n",
    "- Cut: The cut type of a diamond (Fair, Good, Very Good, Premium, Ideal) is a measure of quality: how it interacts with light.\n",
    "- Colour: The colour grade of a diamond, in this case from J -> worst to D -> best.\n",
    "- Clarity: The clarity of a diamond in terms of transparency, in this case from I1 -> worst through SI2, SI1, VS2, VS1, VVS2, VVS1, to IF -> best.\n",
    "- Depth: The depth of a diamond is calculated as (Height * 200) / (Width + Length). It's a percentage and, apparently, 59-62% is ideal.\n",
    "- Table: The table of a diamond refers to the flat facet that you can see when you look at the diamond from above. The value recorded here is the width of this facet times 100 divided by the Width of the diamond. Apparently, 53-58% is ideal.\n",
    "- Price: This is the target value. It is given in US dollars.\n",
    "- Width: Millimetres.\n",
    "- Length: Millimetres.\n",
    "- Height: Millimetres."
   ]
  },
  {
   "cell_type": "code",
   "execution_count": 31,
   "id": "657d228d-8009-4542-95c6-b83c3dcd504b",
   "metadata": {},
   "outputs": [],
   "source": [
    "import os\n",
    "if 'google.colab' in str(get_ipython()):\n",
    "    from google.colab import drive\n",
    "    drive.mount('/content/drive')\n",
    "    base_dir = \"./drive/My Drive/Colab Notebooks/\" # You may need to change this, depending on where your notebooks are on Google Drive\n",
    "else:\n",
    "    base_dir = \".\"\n",
    "dataset_dir = os.path.join(base_dir, \"datasets\")"
   ]
  },
  {
   "cell_type": "code",
   "execution_count": 32,
   "id": "19252902",
   "metadata": {},
   "outputs": [],
   "source": [
    "df = pd.read_csv(os.path.join(dataset_dir, \"diamonds.csv\"))"
   ]
  },
  {
   "cell_type": "markdown",
   "id": "5d2fa87b-3111-40ff-a445-af73e912356d",
   "metadata": {},
   "source": [
    "Now you're on your own. You know the steps: take a cheeky look, clean anything that's invalid, split, EDA, Feature Engineering, Preprocessing, Model Selection and, after any necessary iteration, finally Error Estimation. To speed things along, you can skip EDA."
   ]
  },
  {
   "cell_type": "markdown",
   "id": "df17b621-fcb4-4f28-9e30-c289ec97864a",
   "metadata": {},
   "source": [
    "## Take a cheeky look"
   ]
  },
  {
   "cell_type": "markdown",
   "id": "a67e20ad-8c1c-4e54-b7d7-a46e0e5bd99e",
   "metadata": {},
   "source": [
    "## Cleanup anything that is simply invalid"
   ]
  },
  {
   "cell_type": "markdown",
   "id": "934d1e2f-a79f-4b60-b761-a2445dc86268",
   "metadata": {},
   "source": [
    "## Split into training set and test set"
   ]
  },
  {
   "cell_type": "markdown",
   "id": "91ef849d-bc42-4fc9-8de1-4d958811eaec",
   "metadata": {},
   "source": [
    "##  Exploratory Data Analysis"
   ]
  },
  {
   "cell_type": "markdown",
   "id": "368c3bcb-307c-46ca-b170-4e60b2c5d33f",
   "metadata": {},
   "source": [
    "Skip this step. Otherwise, you won't finish during the lab session."
   ]
  },
  {
   "cell_type": "markdown",
   "id": "b420dda0-68ad-4fa8-80f3-e3a18960e53d",
   "metadata": {},
   "source": [
    "## Feature Engineering"
   ]
  },
  {
   "cell_type": "markdown",
   "id": "fbd77e27-1e11-4d94-b34a-98752bc8100d",
   "metadata": {},
   "source": [
    "Don't spend too long on this step - we practised it in the previous lab. "
   ]
  },
  {
   "cell_type": "markdown",
   "id": "b6a8e583-0e7e-4e40-8dcc-b55fd10328d2",
   "metadata": {},
   "source": [
    "## Preprocess the Data"
   ]
  },
  {
   "cell_type": "markdown",
   "id": "5b113616-b38b-4794-8035-77906970d047",
   "metadata": {},
   "source": [
    "## Model selection"
   ]
  },
  {
   "cell_type": "markdown",
   "id": "4eb83f04-d2f3-4129-981d-971c6cc3cd97",
   "metadata": {},
   "source": [
    "## Error Estimation - evaluate on the the test set"
   ]
  },
  {
   "cell_type": "code",
   "execution_count": null,
   "id": "0adba61e-b5f6-48a8-8958-dd66372a5a44",
   "metadata": {},
   "outputs": [],
   "source": []
  }
 ],
 "metadata": {},
 "nbformat": 4,
 "nbformat_minor": 5
}
