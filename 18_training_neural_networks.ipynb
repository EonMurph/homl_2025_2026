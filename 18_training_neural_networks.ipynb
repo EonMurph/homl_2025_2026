{
 "cells": [
  {
   "cell_type": "markdown",
   "id": "96cfb579-fd3b-4f9d-a846-bb44bc82131a",
   "metadata": {
    "id": "96cfb579-fd3b-4f9d-a846-bb44bc82131a"
   },
   "source": [
    "# Training Neural Networks"
   ]
  },
  {
   "cell_type": "markdown",
   "id": "0cd49f09-b892-4786-bf5c-f4f4bf385d82",
   "metadata": {
    "id": "0cd49f09-b892-4786-bf5c-f4f4bf385d82"
   },
   "source": [
    "You are advised to run this Jupyter Notebook on Google Colab. From the Colab toolbar, select *Runtime* > *Change runtime type* > *T4 GPU* > *Save* before running the Notebook."
   ]
  },
  {
   "cell_type": "code",
   "execution_count": null,
   "id": "7854c906-85f1-4c64-a831-2e5f61ac15e0",
   "metadata": {
    "executionInfo": {
     "elapsed": 5672,
     "status": "ok",
     "timestamp": 1753737549388,
     "user": {
      "displayName": "Derek Bridge",
      "userId": "01707280039117110470"
     },
     "user_tz": -60
    },
    "id": "7854c906-85f1-4c64-a831-2e5f61ac15e0"
   },
   "outputs": [],
   "source": [
    "import numpy as np\n",
    "import pandas as pd\n",
    "import matplotlib.pyplot as plt\n",
    "\n",
    "from sklearn.model_selection import train_test_split\n",
    "\n",
    "from keras import Model\n",
    "from keras import Input\n",
    "from keras.layers import Dense\n",
    "from keras.layers import Rescaling\n",
    "from keras.layers import Conv2D\n",
    "from keras.layers import MaxPooling2D\n",
    "from keras.layers import Flatten\n",
    "from keras.layers import BatchNormalization\n",
    "\n",
    "from keras.optimizers import RMSprop\n",
    "\n",
    "from keras.callbacks import EarlyStopping\n",
    "\n",
    "from keras.datasets import mnist\n",
    "\n",
    "from keras.applications import ResNet50\n",
    "import keras.applications.resnet as resnet\n",
    "\n",
    "from keras.preprocessing.image import load_img\n",
    "from keras.preprocessing import image_dataset_from_directory"
   ]
  },
  {
   "cell_type": "code",
   "execution_count": null,
   "id": "5818b9e3-7593-458b-8d8a-745c12f9f8b1",
   "metadata": {
    "colab": {
     "base_uri": "https://localhost:8080/"
    },
    "executionInfo": {
     "elapsed": 11769,
     "status": "ok",
     "timestamp": 1753737561146,
     "user": {
      "displayName": "Derek Bridge",
      "userId": "01707280039117110470"
     },
     "user_tz": -60
    },
    "id": "5818b9e3-7593-458b-8d8a-745c12f9f8b1",
    "outputId": "858eda1e-74b7-4a04-dd68-05a0518a4241"
   },
   "outputs": [],
   "source": [
    "# If you are running on Google Colab, uncomment the next line before executing this code cell.\n",
    "\n",
    "! pip install keras_tuner\n",
    "\n",
    "import keras_tuner"
   ]
  },
  {
   "cell_type": "code",
   "execution_count": null,
   "id": "05a2220c-4113-4a9f-999c-6ca3520d53f7",
   "metadata": {
    "colab": {
     "base_uri": "https://localhost:8080/"
    },
    "executionInfo": {
     "elapsed": 23204,
     "status": "ok",
     "timestamp": 1753737584351,
     "user": {
      "displayName": "Derek Bridge",
      "userId": "01707280039117110470"
     },
     "user_tz": -60
    },
    "id": "05a2220c-4113-4a9f-999c-6ca3520d53f7",
    "outputId": "ce6d5ed0-865b-4827-bb40-3d15e3a068d1"
   },
   "outputs": [],
   "source": [
    "import os\n",
    "if 'google.colab' in str(get_ipython()):\n",
    "    from google.colab import drive\n",
    "    drive.mount('/content/drive')\n",
    "    base_dir = \"./drive/My Drive/Colab Notebooks/\" # You may need to change this, depending on where your notebooks are on Google Drive\n",
    "else:\n",
    "    base_dir = \".\"\n",
    "dataset_dir = os.path.join(base_dir, \"datasets\")"
   ]
  },
  {
   "cell_type": "code",
   "execution_count": null,
   "id": "593a441e-7ad5-46e4-8093-0d07945fbc50",
   "metadata": {
    "executionInfo": {
     "elapsed": 2,
     "status": "ok",
     "timestamp": 1753737584356,
     "user": {
      "displayName": "Derek Bridge",
      "userId": "01707280039117110470"
     },
     "user_tz": -60
    },
    "id": "593a441e-7ad5-46e4-8093-0d07945fbc50"
   },
   "outputs": [],
   "source": [
    "def plot_keras_history(history, metric):\n",
    "    fig, axes = plt.subplots(1, 2, figsize=(6, 3))\n",
    "    fig.tight_layout()\n",
    "    axes[0].plot(history.history[\"loss\"], label=\"train loss\")\n",
    "    axes[0].plot(history.history[\"val_loss\"], label=\"val loss\")\n",
    "    axes[0].set_title(\"Loss\")\n",
    "    axes[0].legend()\n",
    "    axes[1].plot(history.history[metric], label=\"train \" + metric)\n",
    "    axes[1].plot(history.history[\"val_\" + metric], label=\"val \" + metric)\n",
    "    axes[1].set_title(metric)\n",
    "    axes[1].legend()\n",
    "    plt.show()"
   ]
  },
  {
   "cell_type": "markdown",
   "id": "ae61ac37-8e09-47b1-a8e8-f59c732ee890",
   "metadata": {
    "id": "ae61ac37-8e09-47b1-a8e8-f59c732ee890"
   },
   "source": [
    "## Vanishing Gradients"
   ]
  },
  {
   "cell_type": "code",
   "execution_count": null,
   "id": "c36588a9-a989-4f59-8f32-c6e88a5c9ee8",
   "metadata": {
    "colab": {
     "base_uri": "https://localhost:8080/"
    },
    "executionInfo": {
     "elapsed": 2499,
     "status": "ok",
     "timestamp": 1753737597032,
     "user": {
      "displayName": "Derek Bridge",
      "userId": "01707280039117110470"
     },
     "user_tz": -60
    },
    "id": "c36588a9-a989-4f59-8f32-c6e88a5c9ee8",
    "outputId": "af1bdfb0-d86a-4e64-af99-f71371c48217"
   },
   "outputs": [],
   "source": [
    "(X_train, y_train), (X_test, y_test) = mnist.load_data()"
   ]
  },
  {
   "cell_type": "code",
   "execution_count": null,
   "id": "63d79ce4-c4bd-4f39-b6b4-0b8667c688a3",
   "metadata": {
    "executionInfo": {
     "elapsed": 6,
     "status": "ok",
     "timestamp": 1753737597040,
     "user": {
      "displayName": "Derek Bridge",
      "userId": "01707280039117110470"
     },
     "user_tz": -60
    },
    "id": "63d79ce4-c4bd-4f39-b6b4-0b8667c688a3"
   },
   "outputs": [],
   "source": [
    "X_train = X_train.reshape((60000, 28, 28, 1))\n",
    "X_test = X_test.reshape((10000, 28, 28, 1))"
   ]
  },
  {
   "cell_type": "markdown",
   "id": "6e86b63a-d84b-49a1-9df7-79a12a342ed4",
   "metadata": {
    "id": "6e86b63a-d84b-49a1-9df7-79a12a342ed4"
   },
   "source": [
    "The lecture discusses three solutions to the vanishing gradients problem: using ReLU in place of sigmoid for the activation functions of the hidden layers; using Glorot uniform initialization rather than, e.g., random normal initialization; and using Batch Normalization layers. (Note that Glorot uniform initialization is the default in any case.)\n",
    "\n",
    "To see whether these really are helpful, here's a grid search that tries all 8 combinations:"
   ]
  },
  {
   "cell_type": "code",
   "execution_count": null,
   "id": "33445cc5-eff1-46f3-b4cc-37231963afbf",
   "metadata": {
    "executionInfo": {
     "elapsed": 26,
     "status": "ok",
     "timestamp": 1753737598523,
     "user": {
      "displayName": "Derek Bridge",
      "userId": "01707280039117110470"
     },
     "user_tz": -60
    },
    "id": "33445cc5-eff1-46f3-b4cc-37231963afbf"
   },
   "outputs": [],
   "source": [
    "def build_mnist_model(hp):\n",
    "    hp_activation = hp.Choice(\"activation\", [\"sigmoid\", \"relu\"])\n",
    "    hp_initialization = hp.Choice(\"initialization\", [\"random_normal\", \"glorot_uniform\"])\n",
    "    hp_is_batch_normalized = hp.Boolean(\"is_batch_normalized\")\n",
    "    inputs = Input(shape=(28, 28, 1))\n",
    "    x = Rescaling(scale=1./255)(inputs)\n",
    "    x = Conv2D(filters=32, kernel_size=(3, 3),\n",
    "               activation=hp_activation,\n",
    "               kernel_initializer=hp_initialization)(x)\n",
    "    if hp_is_batch_normalized:\n",
    "        x = BatchNormalization()(x)\n",
    "    x = MaxPooling2D(pool_size=(2, 2))(x)\n",
    "    x = Conv2D(filters=64, kernel_size=(3, 3),\n",
    "               activation=hp_activation,\n",
    "               kernel_initializer=hp_initialization)(x)\n",
    "    if hp_is_batch_normalized:\n",
    "        x = BatchNormalization()(x)\n",
    "    x = MaxPooling2D(pool_size=(2, 2))(x)\n",
    "    x = Conv2D(filters=64, kernel_size=(3, 3),\n",
    "               activation=hp_activation,\n",
    "               kernel_initializer=hp_initialization)(x)\n",
    "    if hp_is_batch_normalized:\n",
    "        x = BatchNormalization()(x)\n",
    "    x = Flatten()(x)\n",
    "    x = Dense(units=64, activation=hp_activation,\n",
    "              kernel_initializer=hp_initialization)(x)\n",
    "    if hp_is_batch_normalized:\n",
    "        x = BatchNormalization()(x)\n",
    "    outputs = Dense(units=10, activation=\"softmax\",\n",
    "                    kernel_initializer=hp_initialization)(x)\n",
    "    convnet = Model(inputs, outputs)\n",
    "    convnet.compile(optimizer=RMSprop(learning_rate=0.0001), loss=\"sparse_categorical_crossentropy\", metrics=[\"accuracy\"])\n",
    "    return convnet"
   ]
  },
  {
   "cell_type": "code",
   "execution_count": null,
   "id": "2a126ebe-145f-4c45-96f2-b2e6c7ad55ca",
   "metadata": {
    "executionInfo": {
     "elapsed": 2346,
     "status": "ok",
     "timestamp": 1753737604400,
     "user": {
      "displayName": "Derek Bridge",
      "userId": "01707280039117110470"
     },
     "user_tz": -60
    },
    "id": "2a126ebe-145f-4c45-96f2-b2e6c7ad55ca"
   },
   "outputs": [],
   "source": [
    "tuner = keras_tuner.GridSearch(\n",
    "    build_mnist_model,\n",
    "    objective=\"val_accuracy\",\n",
    "    directory = base_dir,\n",
    "    project_name=\"tuner_state\",\n",
    "    overwrite=True)"
   ]
  },
  {
   "cell_type": "code",
   "execution_count": null,
   "id": "2fb746ec-d043-4610-a3e8-b3afd5735f1b",
   "metadata": {
    "colab": {
     "base_uri": "https://localhost:8080/"
    },
    "executionInfo": {
     "elapsed": 1328966,
     "status": "ok",
     "timestamp": 1753738933388,
     "user": {
      "displayName": "Derek Bridge",
      "userId": "01707280039117110470"
     },
     "user_tz": -60
    },
    "id": "2fb746ec-d043-4610-a3e8-b3afd5735f1b",
    "outputId": "b4498dd8-7e2f-4830-df30-e3bb893dd6f8"
   },
   "outputs": [],
   "source": [
    "tuner.search(X_train, y_train, epochs=20, validation_split=0.25)"
   ]
  },
  {
   "cell_type": "code",
   "execution_count": null,
   "id": "8faf76d7-17e0-4053-b290-a6d6e36a4091",
   "metadata": {
    "colab": {
     "base_uri": "https://localhost:8080/"
    },
    "executionInfo": {
     "elapsed": 7,
     "status": "ok",
     "timestamp": 1753738933398,
     "user": {
      "displayName": "Derek Bridge",
      "userId": "01707280039117110470"
     },
     "user_tz": -60
    },
    "id": "8faf76d7-17e0-4053-b290-a6d6e36a4091",
    "outputId": "5030ca8a-fd67-467a-a611-e762c81c0eaf"
   },
   "outputs": [],
   "source": [
    "tuner.get_best_hyperparameters()[0].values"
   ]
  },
  {
   "cell_type": "markdown",
   "id": "5c0040ec-19ce-4266-b60a-17b4620f5e45",
   "metadata": {
    "id": "5c0040ec-19ce-4266-b60a-17b4620f5e45"
   },
   "source": [
    "There is randomness so we may get different results each time we run it.\n",
    "\n",
    "But, sure enough, most times I run it the winning combination includes Batch Normalization - and there is usually even a small improvement in validation accuracy and test set accuracy."
   ]
  },
  {
   "cell_type": "markdown",
   "id": "1b69d55b-5721-4368-b2f8-ecce553f3e37",
   "metadata": {
    "id": "1b69d55b-5721-4368-b2f8-ecce553f3e37"
   },
   "source": [
    "## Cats and Dogs"
   ]
  },
  {
   "cell_type": "markdown",
   "id": "51aba2d9-2a50-4d59-97b7-4c593950bab4",
   "metadata": {
    "id": "51aba2d9-2a50-4d59-97b7-4c593950bab4"
   },
   "source": [
    "To illustrate transfer learning, we'll use a dataset of images of cats and dogs. It comes from Microsoft researchers, for a Kaggle competition: https://www.kaggle.com/c/dogs-vs-cats. It contains 12,500 medium-resolution JPEGs depicting cats and 12,500 depicting dogs.\n",
    "We use a subset of the full dataset:\n",
    "- training set: 1000 cats and 1000 dogs;\n",
    "- validation set: 500 cats and 500 dogs;\n",
    "- test set: 500 cats and 500 dogs."
   ]
  },
  {
   "cell_type": "code",
   "execution_count": null,
   "id": "60c2dbd1-50a6-4d02-8f7f-4dd60a633d83",
   "metadata": {
    "executionInfo": {
     "elapsed": 1,
     "status": "ok",
     "timestamp": 1753738933400,
     "user": {
      "displayName": "Derek Bridge",
      "userId": "01707280039117110470"
     },
     "user_tz": -60
    },
    "id": "60c2dbd1-50a6-4d02-8f7f-4dd60a633d83"
   },
   "outputs": [],
   "source": [
    "cats_and_dogs_dir = os.path.join(dataset_dir, \"cats_and_dogs\")\n",
    "train_dir = os.path.join(cats_and_dogs_dir, \"train\")\n",
    "val_dir = os.path.join(cats_and_dogs_dir, \"validation\")\n",
    "test_dir = os.path.join(cats_and_dogs_dir, \"test\")"
   ]
  },
  {
   "cell_type": "code",
   "execution_count": null,
   "id": "2f64f380-5104-442f-877f-0d26a199e236",
   "metadata": {
    "colab": {
     "base_uri": "https://localhost:8080/",
     "height": 434
    },
    "executionInfo": {
     "elapsed": 6703,
     "status": "ok",
     "timestamp": 1753738940105,
     "user": {
      "displayName": "Derek Bridge",
      "userId": "01707280039117110470"
     },
     "user_tz": -60
    },
    "id": "2f64f380-5104-442f-877f-0d26a199e236",
    "outputId": "a12d86fb-5d10-4f75-a9bb-734774384bb2"
   },
   "outputs": [],
   "source": [
    "# Let's look at one of the images\n",
    "\n",
    "train_dogs_dir = os.path.join(train_dir, \"dogs\")\n",
    "filenames = [os.path.join(train_dogs_dir, filename) for filename in os.listdir(train_dogs_dir)]\n",
    "\n",
    "idx = 400 # Change this if you want to look at a different dog\n",
    "some_example = load_img(filenames[idx], target_size=(200,200))\n",
    "\n",
    "plt.imshow(some_example)\n",
    "plt.show()"
   ]
  },
  {
   "cell_type": "markdown",
   "id": "889c32ac-5820-401c-9baf-aacf508adc0f",
   "metadata": {
    "id": "889c32ac-5820-401c-9baf-aacf508adc0f"
   },
   "source": [
    "Keras gives us an extremely useful function: `image_dataset_from_directory`.\n",
    "\n",
    "It has lots of arguments, some of which are explained here:\n",
    "- `directory`: Where the data is located.\n",
    "- `labels`: The default is `\"inferred\"`, meaning the labels are taken from the directory structure.\n",
    "- `label_mode`: For binary classification, use `\"binary\"` so that the labels are encoded as 0 or 1; for multiclass classification, use `\"int\"` (default) so that the labels are encoded as integers.\n",
    "- `color_mode`: Either `\"grayscale\"`, `\"rgb\"` (default) or `\"rgba\"`. Images will be converted to have 1, 3, or 4 channels, based on the value you give.\n",
    "- `batch_size`: With this argument, we can read in and process the dataset in mini-batches, rather than reading the whole dataset into main memory. Its default value is 32.\n",
    "- `image_size`: A dataset may contain images of different sizes. Neural networks don't work with different-sized inputs. So this resizes the images to all be the same size. The default is $256 \\times 256$.\n",
    "- `shuffle`: Whether to shuffle the data (default is True).\n",
    "- `seed`: Optional random seed for shuffling (default is None).\n",
    "\n",
    "...and a few more.\n",
    "\n",
    "This function will also decode images from one format into the format that it uses internally. For example, if the raw images are JPEGs, it will decompress them."
   ]
  },
  {
   "cell_type": "code",
   "execution_count": null,
   "id": "a2425011-817d-4f0f-9f95-433b93adc1a5",
   "metadata": {
    "colab": {
     "base_uri": "https://localhost:8080/"
    },
    "executionInfo": {
     "elapsed": 6942,
     "status": "ok",
     "timestamp": 1753738947050,
     "user": {
      "displayName": "Derek Bridge",
      "userId": "01707280039117110470"
     },
     "user_tz": -60
    },
    "id": "a2425011-817d-4f0f-9f95-433b93adc1a5",
    "outputId": "724f2db1-cea5-4f11-86c8-761f01c06fbc"
   },
   "outputs": [],
   "source": [
    "train_dataset = image_dataset_from_directory(directory=train_dir, label_mode=\"binary\", image_size=(224, 224))\n",
    "val_dataset = image_dataset_from_directory(directory=val_dir, label_mode=\"binary\", image_size=(224, 224))\n",
    "test_dataset = image_dataset_from_directory(directory=test_dir, label_mode=\"binary\", image_size=(224, 224))"
   ]
  },
  {
   "cell_type": "markdown",
   "id": "0938163c-40a1-4c6e-a4a9-ed023b0ca27d",
   "metadata": {
    "id": "0938163c-40a1-4c6e-a4a9-ed023b0ca27d"
   },
   "source": [
    "Let's train a model using this quite small dataset. Note how `fit` has an argument `validation_data` instead of `validation_split` - this is because we have a separate validation set that we can use, rather than splittng one off from the training set."
   ]
  },
  {
   "cell_type": "code",
   "execution_count": null,
   "id": "d5dcf612-5741-4411-a61f-5027486fd2da",
   "metadata": {
    "executionInfo": {
     "elapsed": 65,
     "status": "ok",
     "timestamp": 1753738947113,
     "user": {
      "displayName": "Derek Bridge",
      "userId": "01707280039117110470"
     },
     "user_tz": -60
    },
    "id": "d5dcf612-5741-4411-a61f-5027486fd2da"
   },
   "outputs": [],
   "source": [
    "inputs = Input(shape=(224, 224, 3))\n",
    "x = Rescaling(scale=1./255)(inputs)\n",
    "x = Conv2D(filters=128, kernel_size=(3, 3), activation=\"relu\")(x)\n",
    "x = MaxPooling2D(pool_size=(2, 2))(x)\n",
    "x = Conv2D(filters=128, kernel_size=(3, 3), activation=\"relu\")(x)\n",
    "x = MaxPooling2D(pool_size=(2, 2))(x)\n",
    "x = Conv2D(filters=64, kernel_size=(3, 3), activation=\"relu\")(x)\n",
    "x = MaxPooling2D(pool_size=(2, 2))(x)\n",
    "x = Conv2D(filters=32, kernel_size=(3, 3), activation=\"relu\")(x)\n",
    "x = MaxPooling2D(pool_size=(2, 2))(x)\n",
    "x = Flatten()(x)\n",
    "x = Dense(units=512, activation=\"relu\")(x)\n",
    "outputs = Dense(units=1, activation=\"sigmoid\")(x)\n",
    "convnet = Model(inputs, outputs)"
   ]
  },
  {
   "cell_type": "code",
   "execution_count": null,
   "id": "646348e1-7cd6-45f6-b821-6a7324a23e04",
   "metadata": {
    "executionInfo": {
     "elapsed": 5,
     "status": "ok",
     "timestamp": 1753738947125,
     "user": {
      "displayName": "Derek Bridge",
      "userId": "01707280039117110470"
     },
     "user_tz": -60
    },
    "id": "646348e1-7cd6-45f6-b821-6a7324a23e04"
   },
   "outputs": [],
   "source": [
    "convnet.compile(optimizer=RMSprop(learning_rate=0.001), loss=\"binary_crossentropy\", metrics=[\"accuracy\"])"
   ]
  },
  {
   "cell_type": "code",
   "execution_count": null,
   "id": "9bfb6c16-8ea2-469c-b873-68c155b02cb8",
   "metadata": {
    "executionInfo": {
     "elapsed": 943288,
     "status": "ok",
     "timestamp": 1753739890425,
     "user": {
      "displayName": "Derek Bridge",
      "userId": "01707280039117110470"
     },
     "user_tz": -60
    },
    "id": "9bfb6c16-8ea2-469c-b873-68c155b02cb8"
   },
   "outputs": [],
   "source": [
    "convnet_history = convnet.fit(train_dataset, epochs=30,\n",
    "                validation_data=val_dataset,\n",
    "                callbacks=[EarlyStopping(monitor=\"val_loss\", patience=4, restore_best_weights=True)],\n",
    "                verbose=0)"
   ]
  },
  {
   "cell_type": "code",
   "execution_count": null,
   "id": "af8ced0b-4d94-45d6-ac5a-2cecc5985715",
   "metadata": {
    "colab": {
     "base_uri": "https://localhost:8080/",
     "height": 323
    },
    "executionInfo": {
     "elapsed": 120,
     "status": "ok",
     "timestamp": 1753739890543,
     "user": {
      "displayName": "Derek Bridge",
      "userId": "01707280039117110470"
     },
     "user_tz": -60
    },
    "id": "af8ced0b-4d94-45d6-ac5a-2cecc5985715",
    "outputId": "a06f29d7-48b4-41a3-afc6-f12a564fafc2"
   },
   "outputs": [],
   "source": [
    "plot_keras_history(convnet_history, \"accuracy\")"
   ]
  },
  {
   "cell_type": "code",
   "execution_count": null,
   "id": "ea458dc7-b6c8-47d7-8445-f8210ac6c436",
   "metadata": {
    "colab": {
     "base_uri": "https://localhost:8080/"
    },
    "executionInfo": {
     "elapsed": 6,
     "status": "ok",
     "timestamp": 1753739890550,
     "user": {
      "displayName": "Derek Bridge",
      "userId": "01707280039117110470"
     },
     "user_tz": -60
    },
    "id": "ea458dc7-b6c8-47d7-8445-f8210ac6c436",
    "outputId": "a1a781ea-831d-4e5f-e05c-c77ba327c808"
   },
   "outputs": [],
   "source": [
    "wikipedia_dataset = image_dataset_from_directory(\n",
    "    directory=os.path.join(dataset_dir, \"wikipedia_cats_and_dogs\"), batch_size=12, shuffle=False, label_mode=None, image_size=(224, 224))"
   ]
  },
  {
   "cell_type": "code",
   "execution_count": null,
   "id": "lmjSLh62ny1N",
   "metadata": {
    "colab": {
     "base_uri": "https://localhost:8080/"
    },
    "executionInfo": {
     "elapsed": 10420,
     "status": "ok",
     "timestamp": 1753739900972,
     "user": {
      "displayName": "Derek Bridge",
      "userId": "01707280039117110470"
     },
     "user_tz": -60
    },
    "id": "lmjSLh62ny1N",
    "outputId": "0155d537-cef2-4c63-d3f6-fbdfcd168b5c"
   },
   "outputs": [],
   "source": [
    "predictions = convnet.predict(wikipedia_dataset)"
   ]
  },
  {
   "cell_type": "code",
   "execution_count": null,
   "id": "CunWlNnEogkG",
   "metadata": {
    "colab": {
     "base_uri": "https://localhost:8080/"
    },
    "executionInfo": {
     "elapsed": 6,
     "status": "ok",
     "timestamp": 1753739900980,
     "user": {
      "displayName": "Derek Bridge",
      "userId": "01707280039117110470"
     },
     "user_tz": -60
    },
    "id": "CunWlNnEogkG",
    "outputId": "c10a4435-82fa-4ee7-9d49-aed976aacb32"
   },
   "outputs": [],
   "source": [
    "predictions"
   ]
  },
  {
   "cell_type": "code",
   "execution_count": null,
   "id": "80842ddc-84df-4e35-9890-202782270c40",
   "metadata": {
    "executionInfo": {
     "elapsed": 1,
     "status": "ok",
     "timestamp": 1753739900982,
     "user": {
      "displayName": "Derek Bridge",
      "userId": "01707280039117110470"
     },
     "user_tz": -60
    },
    "id": "80842ddc-84df-4e35-9890-202782270c40"
   },
   "outputs": [],
   "source": [
    "def plot_image_grid(dataset, num_images=12, images_per_row=3, titles=None):\n",
    "    images_per_col = num_images // images_per_row\n",
    "    plt.figure(figsize=(10, 10))\n",
    "    for batch_images in dataset.take(1):\n",
    "        for i in range(num_images):\n",
    "            ax = plt.subplot(images_per_row, images_per_col, i + 1)\n",
    "            plt.imshow(batch_images[i].numpy().astype(\"uint8\"))\n",
    "            plt.title(titles[i])\n",
    "            plt.axis(\"off\")"
   ]
  },
  {
   "cell_type": "code",
   "execution_count": null,
   "id": "c4b14986-8b29-40af-b860-4cf438b76a5f",
   "metadata": {
    "colab": {
     "base_uri": "https://localhost:8080/",
     "height": 771
    },
    "executionInfo": {
     "elapsed": 1407,
     "status": "ok",
     "timestamp": 1753739902390,
     "user": {
      "displayName": "Derek Bridge",
      "userId": "01707280039117110470"
     },
     "user_tz": -60
    },
    "id": "c4b14986-8b29-40af-b860-4cf438b76a5f",
    "outputId": "a8c6ccbf-79f4-464a-f0e5-701074040a69"
   },
   "outputs": [],
   "source": [
    "plot_image_grid(wikipedia_dataset, titles=np.where(predictions > 0.5, \"dog\", \"cat\"))"
   ]
  },
  {
   "cell_type": "markdown",
   "id": "45a05922-7fbf-43ef-b8b9-7ddb137bab85",
   "metadata": {
    "id": "45a05922-7fbf-43ef-b8b9-7ddb137bab85"
   },
   "source": [
    "# ResNet50"
   ]
  },
  {
   "cell_type": "markdown",
   "id": "f0e93742-0f0f-42cf-bf8c-7955a8b00f94",
   "metadata": {
    "id": "f0e93742-0f0f-42cf-bf8c-7955a8b00f94"
   },
   "source": [
    "ResNet50 is a deep convolutional neural network pre-trained on the ImageNet dataset. Let's take a look at its architecture."
   ]
  },
  {
   "cell_type": "code",
   "execution_count": null,
   "id": "1365b4c9-903e-45b4-a0c2-e7ddcaeadb26",
   "metadata": {
    "colab": {
     "base_uri": "https://localhost:8080/"
    },
    "executionInfo": {
     "elapsed": 6264,
     "status": "ok",
     "timestamp": 1753739908658,
     "user": {
      "displayName": "Derek Bridge",
      "userId": "01707280039117110470"
     },
     "user_tz": -60
    },
    "id": "1365b4c9-903e-45b4-a0c2-e7ddcaeadb26",
    "outputId": "7df10c8f-f84e-4a63-e244-7c1f9c56eb2c"
   },
   "outputs": [],
   "source": [
    "resnet50 = ResNet50(weights=\"imagenet\", include_top=True, input_shape=(224, 224, 3))"
   ]
  },
  {
   "cell_type": "code",
   "execution_count": null,
   "id": "4a85dd6e-d370-4f3f-a701-ae092049ab4c",
   "metadata": {
    "colab": {
     "base_uri": "https://localhost:8080/",
     "height": 1000
    },
    "executionInfo": {
     "elapsed": 283,
     "status": "ok",
     "timestamp": 1753739908944,
     "user": {
      "displayName": "Derek Bridge",
      "userId": "01707280039117110470"
     },
     "user_tz": -60
    },
    "id": "4a85dd6e-d370-4f3f-a701-ae092049ab4c",
    "outputId": "f875311b-1f1b-4c08-ce57-7b9790d64e63",
    "scrolled": true
   },
   "outputs": [],
   "source": [
    "resnet50.summary()"
   ]
  },
  {
   "cell_type": "code",
   "execution_count": null,
   "id": "b573909e-55c1-49d7-9a36-d1e214195268",
   "metadata": {
    "colab": {
     "base_uri": "https://localhost:8080/"
    },
    "executionInfo": {
     "elapsed": 5442,
     "status": "ok",
     "timestamp": 1753739914388,
     "user": {
      "displayName": "Derek Bridge",
      "userId": "01707280039117110470"
     },
     "user_tz": -60
    },
    "id": "b573909e-55c1-49d7-9a36-d1e214195268",
    "outputId": "e505067d-001b-4b03-9506-d34e93c58782"
   },
   "outputs": [],
   "source": [
    "predictions = resnet50.predict(wikipedia_dataset)\n",
    "resnet.decode_predictions(predictions, top=3)"
   ]
  },
  {
   "cell_type": "code",
   "execution_count": null,
   "id": "beb983e2-e2a8-4977-8876-ef656ca4b792",
   "metadata": {
    "colab": {
     "base_uri": "https://localhost:8080/",
     "height": 771
    },
    "executionInfo": {
     "elapsed": 1072,
     "status": "ok",
     "timestamp": 1753739915462,
     "user": {
      "displayName": "Derek Bridge",
      "userId": "01707280039117110470"
     },
     "user_tz": -60
    },
    "id": "beb983e2-e2a8-4977-8876-ef656ca4b792",
    "outputId": "e8b50e38-8121-483f-fe05-78555e4a4b75"
   },
   "outputs": [],
   "source": [
    "plot_image_grid(wikipedia_dataset, titles=[prediction[0][1] for prediction in resnet.decode_predictions(predictions, top=1)])"
   ]
  },
  {
   "cell_type": "markdown",
   "id": "edb42ac0-dad7-4169-98d3-1ae29278568d",
   "metadata": {
    "id": "edb42ac0-dad7-4169-98d3-1ae29278568d"
   },
   "source": [
    "## Transfer Learning"
   ]
  },
  {
   "cell_type": "markdown",
   "id": "3815b234-1c49-49a6-9b2e-371509ee102f",
   "metadata": {
    "id": "3815b234-1c49-49a6-9b2e-371509ee102f"
   },
   "source": [
    "Earlier, we loaded the whole ResNet50 model, so that we could take a look at it - but we don't want that.\n",
    "\n",
    "We want just the *base* - everything except the top - everything except the last two layers."
   ]
  },
  {
   "cell_type": "code",
   "execution_count": null,
   "id": "7294fc82-6c2a-4c42-8d7a-e599c9ef2810",
   "metadata": {
    "colab": {
     "base_uri": "https://localhost:8080/"
    },
    "executionInfo": {
     "elapsed": 6702,
     "status": "ok",
     "timestamp": 1753739922169,
     "user": {
      "displayName": "Derek Bridge",
      "userId": "01707280039117110470"
     },
     "user_tz": -60
    },
    "id": "7294fc82-6c2a-4c42-8d7a-e599c9ef2810",
    "outputId": "6ee1d957-b61d-483f-eeac-535f8f23d546"
   },
   "outputs": [],
   "source": [
    "resnet50_base = ResNet50(weights=\"imagenet\", include_top=False, input_shape=(224, 224, 3))"
   ]
  },
  {
   "cell_type": "code",
   "execution_count": null,
   "id": "fe82d9c5-b5b2-49f4-bcef-501631f92b33",
   "metadata": {
    "executionInfo": {
     "elapsed": 2,
     "status": "ok",
     "timestamp": 1753739922172,
     "user": {
      "displayName": "Derek Bridge",
      "userId": "01707280039117110470"
     },
     "user_tz": -60
    },
    "id": "fe82d9c5-b5b2-49f4-bcef-501631f92b33"
   },
   "outputs": [],
   "source": [
    "inputs = Input(shape=(224, 224, 3))\n",
    "x = resnet.preprocess_input(inputs)\n",
    "x = resnet50_base(x)\n",
    "x = Flatten()(x)\n",
    "x = Dense(units=16, activation=\"relu\")(x)\n",
    "outputs = Dense(units=1, activation=\"sigmoid\")(x)\n",
    "transfer_model = Model(inputs=inputs, outputs=outputs)"
   ]
  },
  {
   "cell_type": "markdown",
   "id": "1e0db287-8b91-40a0-8194-6394b46560eb",
   "metadata": {
    "id": "1e0db287-8b91-40a0-8194-6394b46560eb"
   },
   "source": [
    "We freeze the weights in the layers of the convolutional base. If we did not, then the features that ResNet50 learned previously would be lost."
   ]
  },
  {
   "cell_type": "code",
   "execution_count": null,
   "id": "2fb655e8-5f0f-463b-8542-b99d20b76fd4",
   "metadata": {
    "executionInfo": {
     "elapsed": 1,
     "status": "ok",
     "timestamp": 1753739922175,
     "user": {
      "displayName": "Derek Bridge",
      "userId": "01707280039117110470"
     },
     "user_tz": -60
    },
    "id": "2fb655e8-5f0f-463b-8542-b99d20b76fd4"
   },
   "outputs": [],
   "source": [
    "for layer in resnet50_base.layers:\n",
    "    layer.trainable = False"
   ]
  },
  {
   "cell_type": "markdown",
   "id": "4b1da10e-3423-4464-ab95-1faf01f5a5b2",
   "metadata": {
    "id": "4b1da10e-3423-4464-ab95-1faf01f5a5b2"
   },
   "source": [
    "Now we can compile, and train."
   ]
  },
  {
   "cell_type": "code",
   "execution_count": null,
   "id": "9c8da0a5-c523-41bc-80c4-f875e371156b",
   "metadata": {
    "executionInfo": {
     "elapsed": 3,
     "status": "ok",
     "timestamp": 1753739922178,
     "user": {
      "displayName": "Derek Bridge",
      "userId": "01707280039117110470"
     },
     "user_tz": -60
    },
    "id": "9c8da0a5-c523-41bc-80c4-f875e371156b"
   },
   "outputs": [],
   "source": [
    "transfer_model.compile(optimizer=RMSprop(learning_rate=0.001), loss=\"binary_crossentropy\", metrics=[\"accuracy\"])"
   ]
  },
  {
   "cell_type": "code",
   "execution_count": null,
   "id": "931878d6-ea3e-450c-8614-2ed19f7cc554",
   "metadata": {
    "executionInfo": {
     "elapsed": 96246,
     "status": "ok",
     "timestamp": 1753740018426,
     "user": {
      "displayName": "Derek Bridge",
      "userId": "01707280039117110470"
     },
     "user_tz": -60
    },
    "id": "931878d6-ea3e-450c-8614-2ed19f7cc554"
   },
   "outputs": [],
   "source": [
    "transfer_model_history = transfer_model.fit(train_dataset, epochs=30,\n",
    "                validation_data=val_dataset,\n",
    "                callbacks=[EarlyStopping(monitor=\"val_loss\", patience=4, restore_best_weights=True)],\n",
    "                verbose=0)"
   ]
  },
  {
   "cell_type": "code",
   "execution_count": null,
   "id": "aea9132f-4a6f-4bff-b69d-0239e643fa4f",
   "metadata": {
    "colab": {
     "base_uri": "https://localhost:8080/",
     "height": 323
    },
    "executionInfo": {
     "elapsed": 51,
     "status": "ok",
     "timestamp": 1753740018475,
     "user": {
      "displayName": "Derek Bridge",
      "userId": "01707280039117110470"
     },
     "user_tz": -60
    },
    "id": "aea9132f-4a6f-4bff-b69d-0239e643fa4f",
    "outputId": "3b16b9bd-1e9b-4a51-e73e-4913874af6df"
   },
   "outputs": [],
   "source": [
    "plot_keras_history(transfer_model_history, \"accuracy\")"
   ]
  },
  {
   "cell_type": "markdown",
   "id": "f6ca5108-cbe8-47c9-b2d8-0c9f7bc39635",
   "metadata": {
    "id": "f6ca5108-cbe8-47c9-b2d8-0c9f7bc39635"
   },
   "source": [
    "Now that our new top layers are well-trained, we can unfreeze all layers in the base (or just the top ones in the base) and continue training. For reasons we won't go into, it is thought best not to unfreeze `BatchNormalization` layers:"
   ]
  },
  {
   "cell_type": "code",
   "execution_count": null,
   "id": "3ae44783-07fd-4093-9c95-ea97878ba724",
   "metadata": {
    "executionInfo": {
     "elapsed": 2,
     "status": "ok",
     "timestamp": 1753740018478,
     "user": {
      "displayName": "Derek Bridge",
      "userId": "01707280039117110470"
     },
     "user_tz": -60
    },
    "id": "3ae44783-07fd-4093-9c95-ea97878ba724"
   },
   "outputs": [],
   "source": [
    "for layer in resnet50_base.layers:\n",
    "    if isinstance(layer, BatchNormalization):\n",
    "        layer.trainable = False\n",
    "    else:\n",
    "        layer.trainable = True"
   ]
  },
  {
   "cell_type": "markdown",
   "id": "4f8d5673-e782-4cf8-b308-f93c2e9e8b7d",
   "metadata": {
    "id": "4f8d5673-e782-4cf8-b308-f93c2e9e8b7d"
   },
   "source": [
    "In Keras, re-compilation is needed at this point.\n",
    "\n",
    "You probably want a lower learning rate to avoid damaging the pretrained weights.\n",
    "\n",
    "One could even imagine different learning rates for different layers: smaller ones at the bottom of the base than at the top of the base."
   ]
  },
  {
   "cell_type": "code",
   "execution_count": null,
   "id": "b4802004-bb89-42bb-aa22-792bf2085d4b",
   "metadata": {
    "executionInfo": {
     "elapsed": 15,
     "status": "ok",
     "timestamp": 1753740018494,
     "user": {
      "displayName": "Derek Bridge",
      "userId": "01707280039117110470"
     },
     "user_tz": -60
    },
    "id": "b4802004-bb89-42bb-aa22-792bf2085d4b"
   },
   "outputs": [],
   "source": [
    "transfer_model.compile(optimizer=RMSprop(learning_rate=0.0001), loss=\"binary_crossentropy\", metrics=[\"accuracy\"])"
   ]
  },
  {
   "cell_type": "code",
   "execution_count": null,
   "id": "fa4d1ec5-6021-4219-af59-dd0031d9f90d",
   "metadata": {
    "executionInfo": {
     "elapsed": 289193,
     "status": "ok",
     "timestamp": 1753740307689,
     "user": {
      "displayName": "Derek Bridge",
      "userId": "01707280039117110470"
     },
     "user_tz": -60
    },
    "id": "fa4d1ec5-6021-4219-af59-dd0031d9f90d"
   },
   "outputs": [],
   "source": [
    "transfer_model_history = transfer_model.fit(train_dataset, epochs=30,\n",
    "                validation_data=val_dataset,\n",
    "                callbacks=[EarlyStopping(monitor=\"val_loss\", patience=4, restore_best_weights=True)],\n",
    "                verbose=0)"
   ]
  },
  {
   "cell_type": "code",
   "execution_count": null,
   "id": "79abe51e-950b-4380-943f-b71cd4dc4cf1",
   "metadata": {
    "colab": {
     "base_uri": "https://localhost:8080/",
     "height": 323
    },
    "executionInfo": {
     "elapsed": 512,
     "status": "ok",
     "timestamp": 1753740308204,
     "user": {
      "displayName": "Derek Bridge",
      "userId": "01707280039117110470"
     },
     "user_tz": -60
    },
    "id": "79abe51e-950b-4380-943f-b71cd4dc4cf1",
    "outputId": "b3e35345-3087-47b8-93a5-bbd6abc85e97"
   },
   "outputs": [],
   "source": [
    "plot_keras_history(transfer_model_history, \"accuracy\")"
   ]
  },
  {
   "cell_type": "markdown",
   "id": "12863c06-5fe1-47b1-8157-46fc998858d2",
   "metadata": {
    "id": "12863c06-5fe1-47b1-8157-46fc998858d2"
   },
   "source": [
    "In this case, continuing training after unfreezing seems to have been unhelpful - possibly because the base model was already pretty good at breeds of cats and dogs."
   ]
  },
  {
   "cell_type": "code",
   "execution_count": null,
   "id": "rLzkFpID6M06",
   "metadata": {
    "colab": {
     "base_uri": "https://localhost:8080/"
    },
    "executionInfo": {
     "elapsed": 4914,
     "status": "ok",
     "timestamp": 1753740313120,
     "user": {
      "displayName": "Derek Bridge",
      "userId": "01707280039117110470"
     },
     "user_tz": -60
    },
    "id": "rLzkFpID6M06",
    "outputId": "73980123-e7f6-49b4-9a88-293b99a49be3"
   },
   "outputs": [],
   "source": [
    "predictions = transfer_model.predict(wikipedia_dataset)"
   ]
  },
  {
   "cell_type": "code",
   "execution_count": null,
   "id": "54eef76c-aaad-49d5-97b1-cba1ac0a2613",
   "metadata": {
    "colab": {
     "base_uri": "https://localhost:8080/",
     "height": 771
    },
    "executionInfo": {
     "elapsed": 946,
     "status": "ok",
     "timestamp": 1753740314069,
     "user": {
      "displayName": "Derek Bridge",
      "userId": "01707280039117110470"
     },
     "user_tz": -60
    },
    "id": "54eef76c-aaad-49d5-97b1-cba1ac0a2613",
    "outputId": "b2f372c8-53d6-4d70-9e30-38c5903891ec"
   },
   "outputs": [],
   "source": [
    "plot_image_grid(wikipedia_dataset, titles=np.where(predictions > 0.5, \"dog\", \"cat\"))"
   ]
  },
  {
   "cell_type": "markdown",
   "id": "2536ccd7-ffd7-481b-9e35-78b12cf99cd0",
   "metadata": {
    "id": "2536ccd7-ffd7-481b-9e35-78b12cf99cd0"
   },
   "source": [
    "Finally, we can do Error Estimation to compare the models - without transfer learning and with transfer learning."
   ]
  },
  {
   "cell_type": "code",
   "execution_count": null,
   "id": "c39e1afe-dd97-46a9-a01a-f93ed9006cf8",
   "metadata": {
    "colab": {
     "base_uri": "https://localhost:8080/"
    },
    "executionInfo": {
     "elapsed": 381773,
     "status": "ok",
     "timestamp": 1753740695846,
     "user": {
      "displayName": "Derek Bridge",
      "userId": "01707280039117110470"
     },
     "user_tz": -60
    },
    "id": "c39e1afe-dd97-46a9-a01a-f93ed9006cf8",
    "outputId": "9ac599f8-8e50-4cc3-9b73-65590386f30b"
   },
   "outputs": [],
   "source": [
    "test_loss, test_acc = convnet.evaluate(test_dataset)\n",
    "test_acc"
   ]
  },
  {
   "cell_type": "code",
   "execution_count": null,
   "id": "589971b1-0698-41e5-aaac-940914d6c303",
   "metadata": {
    "colab": {
     "base_uri": "https://localhost:8080/"
    },
    "executionInfo": {
     "elapsed": 2999,
     "status": "ok",
     "timestamp": 1753740698844,
     "user": {
      "displayName": "Derek Bridge",
      "userId": "01707280039117110470"
     },
     "user_tz": -60
    },
    "id": "589971b1-0698-41e5-aaac-940914d6c303",
    "outputId": "e4b27292-3f79-480d-96cf-b91d1953ec55"
   },
   "outputs": [],
   "source": [
    "test_loss, test_acc = transfer_model.evaluate(test_dataset)\n",
    "test_acc"
   ]
  },
  {
   "cell_type": "markdown",
   "id": "48db172a-931e-4784-b94a-60001e5bea02",
   "metadata": {
    "id": "48db172a-931e-4784-b94a-60001e5bea02"
   },
   "source": [
    "We did much better. But keep in mind that this one was easy. ResNet50 already knows about different breeds of cats and dogs - so all we're asking it to learn is that different dog breeds are all types of dog; and similarly for cats. It won't do so well on, e.g., types of animal that were not part of the ImageNet dataset."
   ]
  },
  {
   "cell_type": "code",
   "execution_count": null,
   "id": "a098d4b5-3df7-4db5-8c8d-c1cccd60a86a",
   "metadata": {
    "executionInfo": {
     "elapsed": 2,
     "status": "ok",
     "timestamp": 1753740698849,
     "user": {
      "displayName": "Derek Bridge",
      "userId": "01707280039117110470"
     },
     "user_tz": -60
    },
    "id": "a098d4b5-3df7-4db5-8c8d-c1cccd60a86a"
   },
   "outputs": [],
   "source": []
  },
  {
   "cell_type": "code",
   "execution_count": null,
   "id": "a16d96a6-3450-440a-a99f-139635aeb88e",
   "metadata": {
    "executionInfo": {
     "elapsed": 45,
     "status": "ok",
     "timestamp": 1753740698896,
     "user": {
      "displayName": "Derek Bridge",
      "userId": "01707280039117110470"
     },
     "user_tz": -60
    },
    "id": "a16d96a6-3450-440a-a99f-139635aeb88e"
   },
   "outputs": [],
   "source": []
  }
 ],
 "metadata": {
  "accelerator": "GPU",
  "colab": {
   "gpuType": "T4",
   "provenance": []
  },
  "kernelspec": {
   "display_name": "Python 3 (ipykernel)",
   "language": "python",
   "name": "python3"
  },
  "language_info": {
   "codemirror_mode": {
    "name": "ipython",
    "version": 3
   },
   "file_extension": ".py",
   "mimetype": "text/x-python",
   "name": "python",
   "nbconvert_exporter": "python",
   "pygments_lexer": "ipython3",
   "version": "3.12.4"
  }
 },
 "nbformat": 4,
 "nbformat_minor": 5
}
