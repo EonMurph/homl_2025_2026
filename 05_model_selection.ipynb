{
 "cells": [
  {
   "cell_type": "markdown",
   "id": "ec02c415-becb-4625-bd39-7eea8a052bb2",
   "metadata": {},
   "source": [
    "# Model Selection"
   ]
  },
  {
   "cell_type": "code",
   "execution_count": null,
   "id": "fac60507",
   "metadata": {},
   "outputs": [],
   "source": [
    "import pandas as pd\n",
    "import numpy as np\n",
    "\n",
    "from sklearn.base import BaseEstimator, TransformerMixin\n",
    "\n",
    "from sklearn.pipeline import Pipeline\n",
    "from sklearn.preprocessing import MinMaxScaler\n",
    "from sklearn.preprocessing import RobustScaler\n",
    "from sklearn.preprocessing import StandardScaler\n",
    "\n",
    "from sklearn.model_selection import train_test_split\n",
    "from sklearn.model_selection import ShuffleSplit\n",
    "from sklearn.model_selection import KFold\n",
    "from sklearn.model_selection import cross_val_score\n",
    "from sklearn.model_selection import GridSearchCV\n",
    "from sklearn.model_selection import RandomizedSearchCV\n",
    "\n",
    "from sklearn.tree import DecisionTreeRegressor\n",
    "from sklearn.neighbors import KNeighborsRegressor\n",
    "\n",
    "from sklearn.metrics import mean_absolute_error"
   ]
  },
  {
   "cell_type": "code",
   "execution_count": null,
   "id": "c122a253-c2db-44ae-a2b4-125c23d2ef4c",
   "metadata": {},
   "outputs": [],
   "source": [
    "rng = np.random.RandomState(2)"
   ]
  },
  {
   "cell_type": "markdown",
   "id": "7469813b-e0c5-45b1-8f34-c4b60d89fcbe",
   "metadata": {},
   "source": [
    "## Read in dataset and split it"
   ]
  },
  {
   "cell_type": "code",
   "execution_count": null,
   "id": "15e4790b-015c-459b-9e59-b91e0f25552a",
   "metadata": {},
   "outputs": [],
   "source": [
    "import os\n",
    "if 'google.colab' in str(get_ipython()):\n",
    "    from google.colab import drive\n",
    "    drive.mount('/content/drive')\n",
    "    base_dir = \"./drive/My Drive/Colab Notebooks/\" # You may need to change this, depending on where your notebooks are on Google Drive\n",
    "else:\n",
    "    base_dir = \".\"\n",
    "dataset_dir = os.path.join(base_dir, \"datasets\")"
   ]
  },
  {
   "cell_type": "code",
   "execution_count": null,
   "id": "26e23e61-bde2-4c92-bac0-c73a59e83201",
   "metadata": {},
   "outputs": [],
   "source": [
    "df = pd.read_csv(os.path.join(dataset_dir, \"housing.csv\"))"
   ]
  },
  {
   "cell_type": "code",
   "execution_count": null,
   "id": "19252902",
   "metadata": {},
   "outputs": [],
   "source": [
    "train, test = train_test_split(df, test_size=0.2, random_state=rng)\n",
    "\n",
    "features = features = [\"BasementArea\", \"GroundFloorArea\", \"Bedrooms\", \"Condition\"]\n",
    "\n",
    "X_train = train[features]\n",
    "y_train = train[\"SalePrice\"]\n",
    "X_test = test[features]\n",
    "y_test = test[\"SalePrice\"]"
   ]
  },
  {
   "cell_type": "markdown",
   "id": "df17b621-fcb4-4f28-9e30-c289ec97864a",
   "metadata": {},
   "source": [
    "## Choosing hyperparameter values - done wrong!"
   ]
  },
  {
   "cell_type": "code",
   "execution_count": null,
   "id": "e71f1dc4-3670-49d2-b1dd-682a66caa0be",
   "metadata": {},
   "outputs": [],
   "source": [
    "for max_depth in range(1, 11):\n",
    "    decision_tree = DecisionTreeRegressor(max_depth=max_depth, random_state=rng)\n",
    "    decision_tree.fit(X_train, y_train)\n",
    "    print(max_depth, mean_absolute_error(decision_tree.predict(X_test), y_test))"
   ]
  },
  {
   "cell_type": "markdown",
   "id": "9c264182-9335-48b9-a53c-a7f7a5a847a8",
   "metadata": {},
   "source": [
    "## Using a validation set"
   ]
  },
  {
   "cell_type": "code",
   "execution_count": null,
   "id": "2f73c392-1a79-4b33-97e1-d37780976c70",
   "metadata": {},
   "outputs": [],
   "source": [
    "X_ms_train, X_val, y_ms_train, y_val = train_test_split(X_train, y_train, test_size = 0.25, random_state=rng)\n",
    "\n",
    "for max_depth in range(1, 11):\n",
    "    decision_tree = DecisionTreeRegressor(max_depth=max_depth, random_state=rng)\n",
    "    decision_tree.fit(X_ms_train, y_ms_train)\n",
    "    mae = mean_absolute_error(decision_tree.predict(X_val), y_val)\n",
    "    print(max_depth, mae)"
   ]
  },
  {
   "cell_type": "markdown",
   "id": "1a822790-63b2-4fd6-891d-d2bf17e98747",
   "metadata": {},
   "source": [
    "## Let's get the code to pick the winner and train and test the final model"
   ]
  },
  {
   "cell_type": "code",
   "execution_count": null,
   "id": "f44849f9-c3dc-4c81-b46a-a17135f88527",
   "metadata": {},
   "outputs": [],
   "source": [
    "X_ms_train, X_val, y_ms_train, y_val = train_test_split(X_train, y_train, test_size = 0.25, random_state=2)\n",
    "\n",
    "val_errors = np.zeros(10)\n",
    "\n",
    "for max_depth in range(1, 11):\n",
    "    decision_tree = DecisionTreeRegressor(max_depth=max_depth, random_state=2)\n",
    "    decision_tree.fit(X_ms_train, y_ms_train)\n",
    "    mae = mean_absolute_error(decision_tree.predict(X_val), y_val)\n",
    "    val_errors[max_depth - 1] = mae\n",
    "\n",
    "best_max_depth, lowest_val_error = np.argmin(val_errors) + 1, np.min(val_errors)\n",
    "\n",
    "print(best_max_depth, lowest_val_error)"
   ]
  },
  {
   "cell_type": "markdown",
   "id": "8a0fabde-3ac2-412f-baf9-e64cf3db5fe9",
   "metadata": {},
   "source": [
    "## We can fit, predict and compute the error in one line"
   ]
  },
  {
   "cell_type": "code",
   "execution_count": null,
   "id": "a5f44d72-24cd-4d31-b4f4-c255cfd31f9f",
   "metadata": {},
   "outputs": [],
   "source": [
    "ss = ShuffleSplit(n_splits=1, test_size=0.25, random_state=2)\n",
    "\n",
    "val_errors = np.zeros(10)\n",
    "\n",
    "for max_depth in range(1, 11):\n",
    "    decision_tree = DecisionTreeRegressor(max_depth=max_depth, random_state=2)\n",
    "    mae = cross_val_score(decision_tree, X_train, y_train, scoring=\"neg_mean_absolute_error\", cv=ss)\n",
    "    val_errors[max_depth - 1] = mae[0]\n",
    "\n",
    "best_max_depth, lowest_val_error = np.argmax(val_errors) + 1, np.max(val_errors)\n",
    "\n",
    "print(best_max_depth, lowest_val_error)"
   ]
  },
  {
   "cell_type": "markdown",
   "id": "934d1e2f-a79f-4b60-b761-a2445dc86268",
   "metadata": {},
   "source": [
    "## We can simplify even further"
   ]
  },
  {
   "cell_type": "code",
   "execution_count": null,
   "id": "02ec8094-9718-4060-874b-3a797415e577",
   "metadata": {},
   "outputs": [],
   "source": [
    "ss = ShuffleSplit(n_splits=1, test_size=0.25, random_state=2)\n",
    "\n",
    "decision_tree = DecisionTreeRegressor(random_state=2)\n",
    "\n",
    "param_grid = {\"max_depth\" : range(1, 11)}\n",
    "\n",
    "decision_tree_gs = GridSearchCV(decision_tree, param_grid, scoring=\"neg_mean_absolute_error\", cv=ss)\n",
    "\n",
    "decision_tree_gs.fit(X_train, y_train)\n",
    "\n",
    "print(decision_tree_gs.best_params_, decision_tree_gs.best_score_)"
   ]
  },
  {
   "cell_type": "markdown",
   "id": "13b0c0de-f65c-4434-83df-8c1f5fb34c1a",
   "metadata": {},
   "source": [
    "Note that, after a grid search, `gs` is re-trained on the whole original training set using the winning hyperparameters. This final model is available to us using `gs.best_estimator_`."
   ]
  },
  {
   "cell_type": "markdown",
   "id": "91ef849d-bc42-4fc9-8de1-4d958811eaec",
   "metadata": {},
   "source": [
    "## But this dataset is too small to split into three - let's use k-fold cross-validation"
   ]
  },
  {
   "cell_type": "code",
   "execution_count": null,
   "id": "dee1716e-f514-4eb6-ba5e-6b4d35900415",
   "metadata": {},
   "outputs": [],
   "source": [
    "ss = KFold(n_splits=10, shuffle=True, random_state=2)\n",
    "\n",
    "decision_tree = DecisionTreeRegressor(random_state=2)\n",
    "\n",
    "param_grid = {\"max_depth\" : range(1, 11)}\n",
    "\n",
    "decision_tree_gs = GridSearchCV(decision_tree, param_grid, scoring=\"neg_mean_absolute_error\", cv=ss)\n",
    "\n",
    "decision_tree_gs.fit(X_train, y_train)\n",
    "\n",
    "print(decision_tree_gs.best_params_, decision_tree_gs.best_score_)"
   ]
  },
  {
   "cell_type": "markdown",
   "id": "6ad58363-c2f1-4118-82b1-89d46bb2d530",
   "metadata": {},
   "source": [
    "# And there's a shortcut - but you are responsible for shuffling the data"
   ]
  },
  {
   "cell_type": "markdown",
   "id": "5b12a6dd-2bd7-4ccd-bddf-797f2f3c9891",
   "metadata": {},
   "source": [
    "(Assuming you used train_test_split, you're grand: by default, it shuffles the data.)"
   ]
  },
  {
   "cell_type": "code",
   "execution_count": null,
   "id": "28263a68-a504-4f22-9786-3e254ce7946e",
   "metadata": {},
   "outputs": [],
   "source": [
    "decision_tree = DecisionTreeRegressor(random_state=2)\n",
    "\n",
    "param_grid = {\"max_depth\" : range(1, 11)}\n",
    "\n",
    "decision_tree_gs = GridSearchCV(decision_tree, param_grid, scoring=\"neg_mean_absolute_error\", cv=10)\n",
    "\n",
    "decision_tree_gs.fit(X_train, y_train)\n",
    "\n",
    "print(decision_tree_gs.best_params_, decision_tree_gs.best_score_)"
   ]
  },
  {
   "cell_type": "markdown",
   "id": "e062e190-c7fd-4cc4-ae7b-5808c3a26810",
   "metadata": {},
   "source": [
    "## Why is it a grid search? It will try all combinations!"
   ]
  },
  {
   "cell_type": "code",
   "execution_count": null,
   "id": "6c3cae81-f99a-412e-ba1f-6d7473cc21ad",
   "metadata": {},
   "outputs": [],
   "source": [
    "knn = Pipeline([\n",
    "    (\"scaler\", StandardScaler()),\n",
    "    (\"predictor\", KNeighborsRegressor())\n",
    "])\n",
    "\n",
    "param_grid = {\"predictor__n_neighbors\" : range(1, 11),\n",
    "              \"predictor__weights\" : [\"uniform\", \"distance\"]}\n",
    "\n",
    "knn_gs = GridSearchCV(knn, param_grid, scoring=\"neg_mean_absolute_error\", cv=10, n_jobs=-1)\n",
    "\n",
    "knn_gs.fit(X_train, y_train)\n",
    "\n",
    "print(knn_gs.best_params_, knn_gs.best_score_)"
   ]
  },
  {
   "cell_type": "markdown",
   "id": "c105400c-d084-475c-9731-9b7a5e027e4f",
   "metadata": {},
   "source": [
    "`n_jobs=-1` tells it to use all available CPUs in parallel."
   ]
  },
  {
   "cell_type": "markdown",
   "id": "9a043c9f-bf92-47f6-8023-356c43c1d846",
   "metadata": {},
   "source": [
    "## With ingenuity, we can include other things in the grid search"
   ]
  },
  {
   "cell_type": "code",
   "execution_count": null,
   "id": "9fd513b9-1124-4077-8c4f-6167837cba57",
   "metadata": {},
   "outputs": [],
   "source": [
    "knn = Pipeline([\n",
    "    (\"scaler\", None),\n",
    "    (\"predictor\", KNeighborsRegressor())\n",
    "])\n",
    "\n",
    "param_grid = {\"scaler\" : [None, MinMaxScaler(), RobustScaler(), StandardScaler()],\n",
    "              \"predictor__n_neighbors\" : range(1, 11),\n",
    "              \"predictor__weights\" : [\"uniform\", \"distance\"]}\n",
    "\n",
    "knn_gs = GridSearchCV(knn, param_grid, scoring=\"neg_mean_absolute_error\", cv=10, n_jobs=-1)\n",
    "\n",
    "knn_gs.fit(X_train, y_train)\n",
    "\n",
    "print(knn_gs.best_params_, knn_gs.best_score_)"
   ]
  },
  {
   "cell_type": "markdown",
   "id": "c332c2cd-c375-46fd-9e66-cc6a0b74c0dd",
   "metadata": {},
   "source": [
    "Question: Having seen which configuration is the winner here, what should we probably do?"
   ]
  },
  {
   "cell_type": "markdown",
   "id": "59baab15-ab91-4a2c-9a11-c1af468e5ac9",
   "metadata": {},
   "source": [
    "Question: It trained 801 kNN models. How did I get this number?"
   ]
  },
  {
   "cell_type": "markdown",
   "id": "b72007ea-feb1-4468-ae7e-e75b44ac7f5a",
   "metadata": {},
   "source": [
    "## Doing less work - but not guaranteed to be optimal"
   ]
  },
  {
   "cell_type": "markdown",
   "id": "a014636d-def8-461d-9efd-d948b62cb0da",
   "metadata": {},
   "source": [
    "Above there were 80 configurations and we tried them all. Here, we try 40 of them, chosen at random."
   ]
  },
  {
   "cell_type": "code",
   "execution_count": null,
   "id": "661b5b92-fde9-4491-abba-14faea426edc",
   "metadata": {},
   "outputs": [],
   "source": [
    "knn = Pipeline([\n",
    "    (\"scaler\", None),\n",
    "    (\"predictor\", KNeighborsRegressor())\n",
    "])\n",
    "\n",
    "param_grid = {\"scaler\" : [None, MinMaxScaler(), RobustScaler(), StandardScaler()],\n",
    "              \"predictor__n_neighbors\" : range(1, 11),\n",
    "              \"predictor__weights\" : [\"uniform\", \"distance\"]}\n",
    "\n",
    "knn_rs = RandomizedSearchCV(knn, param_grid, scoring=\"neg_mean_absolute_error\", cv=10, n_iter=40, n_jobs=-1)\n",
    "\n",
    "knn_rs.fit(X_train, y_train)\n",
    "\n",
    "print(knn_rs.best_params_, knn_rs.best_score_)"
   ]
  },
  {
   "cell_type": "markdown",
   "id": "4eb83f04-d2f3-4129-981d-971c6cc3cd97",
   "metadata": {},
   "source": [
    "## Error estimation - if you're certain you've finished model selection, then you can use the test set"
   ]
  },
  {
   "cell_type": "code",
   "execution_count": null,
   "id": "3e2db665-39ae-43fc-9910-9936fdc90709",
   "metadata": {},
   "outputs": [],
   "source": [
    "mean_absolute_error(knn_gs.best_estimator_.predict(X_test), y_test)"
   ]
  },
  {
   "cell_type": "code",
   "execution_count": null,
   "id": "f4e56ed9-eddf-4bbd-8544-5301142c3af1",
   "metadata": {},
   "outputs": [],
   "source": []
  }
 ],
 "metadata": {
  "kernelspec": {
   "display_name": "Python 3 (ipykernel)",
   "language": "python",
   "name": "python3"
  },
  "language_info": {
   "codemirror_mode": {
    "name": "ipython",
    "version": 3
   },
   "file_extension": ".py",
   "mimetype": "text/x-python",
   "name": "python",
   "nbconvert_exporter": "python",
   "pygments_lexer": "ipython3",
   "version": "3.12.4"
  }
 },
 "nbformat": 4,
 "nbformat_minor": 5
}
