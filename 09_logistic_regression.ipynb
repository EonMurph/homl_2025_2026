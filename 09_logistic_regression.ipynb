{
 "cells": [
  {
   "cell_type": "markdown",
   "id": "ec02c415-becb-4625-bd39-7eea8a052bb2",
   "metadata": {},
   "source": [
    "# Logistic Regression"
   ]
  },
  {
   "cell_type": "code",
   "execution_count": null,
   "id": "fac60507",
   "metadata": {},
   "outputs": [],
   "source": [
    "import pandas as pd\n",
    "import numpy as np\n",
    "import matplotlib.pyplot as plt\n",
    "import seaborn as sns\n",
    "\n",
    "from ipywidgets import interactive\n",
    "\n",
    "from sklearn.pipeline import Pipeline\n",
    "\n",
    "from sklearn.preprocessing import LabelEncoder\n",
    "from sklearn.preprocessing import StandardScaler\n",
    "from sklearn.preprocessing import add_dummy_feature\n",
    "\n",
    "from sklearn.model_selection import train_test_split\n",
    "\n",
    "from sklearn.linear_model import LogisticRegression\n",
    "from sklearn.tree import DecisionTreeClassifier\n",
    "from sklearn.neighbors import KNeighborsClassifier\n",
    "\n",
    "from sklearn.metrics import accuracy_score\n",
    "\n",
    "from sklearn.datasets import load_iris\n",
    "\n",
    "from sklearn.tree import plot_tree"
   ]
  },
  {
   "cell_type": "code",
   "execution_count": null,
   "id": "dd3c0412-1878-4fc2-86fd-987c816203de",
   "metadata": {},
   "outputs": [],
   "source": [
    "rng = np.random.RandomState(2)"
   ]
  },
  {
   "cell_type": "markdown",
   "id": "392e1b34-2b3a-45eb-9e01-f75474c7ecf2",
   "metadata": {},
   "source": [
    "## Logistic Regression"
   ]
  },
  {
   "cell_type": "markdown",
   "id": "7469813b-e0c5-45b1-8f34-c4b60d89fcbe",
   "metadata": {},
   "source": [
    "### Read in students dataset and split it"
   ]
  },
  {
   "cell_type": "code",
   "execution_count": null,
   "id": "139d0d44-21c7-48c6-af92-748565c04458",
   "metadata": {},
   "outputs": [],
   "source": [
    "import os\n",
    "if 'google.colab' in str(get_ipython()):\n",
    "    from google.colab import drive\n",
    "    drive.mount('/content/drive')\n",
    "    base_dir = \"./drive/My Drive/Colab Notebooks/\" # You may need to change this, depending on where your notebooks are on Google Drive\n",
    "else:\n",
    "    base_dir = \".\"\n",
    "dataset_dir = os.path.join(base_dir, \"datasets\")"
   ]
  },
  {
   "cell_type": "code",
   "execution_count": null,
   "id": "19252902",
   "metadata": {},
   "outputs": [],
   "source": [
    "df = pd.read_csv(os.path.join(dataset_dir, \"cs1109.csv\"))"
   ]
  },
  {
   "cell_type": "code",
   "execution_count": null,
   "id": "402c658c-cf73-43a1-856e-08b05cc1bc1c",
   "metadata": {},
   "outputs": [],
   "source": [
    "features = [\"lect\", \"lab\"]\n",
    "\n",
    "X = df[features]\n",
    "\n",
    "label_encoder = LabelEncoder()\n",
    "y = label_encoder.fit_transform(df[\"outcome\"])"
   ]
  },
  {
   "cell_type": "code",
   "execution_count": null,
   "id": "988aae19-8369-4d61-8c61-2be9a00b3ff9",
   "metadata": {},
   "outputs": [],
   "source": [
    "label_encoder.inverse_transform([0, 1])"
   ]
  },
  {
   "cell_type": "code",
   "execution_count": null,
   "id": "29697efd-d658-43b3-bc13-32e644f3f69e",
   "metadata": {},
   "outputs": [],
   "source": [
    "X_train, X_test, y_train, y_test = train_test_split(X, y, test_size=0.2, stratify=df[\"outcome\"], random_state=rng)"
   ]
  },
  {
   "cell_type": "markdown",
   "id": "8ed5c0b6-078b-4cc3-bdca-570e5d12cfa8",
   "metadata": {},
   "source": [
    "### What is Logistic Regression trying to do?"
   ]
  },
  {
   "cell_type": "code",
   "execution_count": null,
   "id": "56e4557b-01f2-4b9a-b6fc-36447b92be86",
   "metadata": {
    "scrolled": true
   },
   "outputs": [],
   "source": [
    "def show_linear_model(b, w):\n",
    "    fig, ax = plt.subplots()\n",
    "    ax.set_xlim(0, 100)\n",
    "    ax.set_ylim(0, 100)\n",
    "    sns.scatterplot(data=X_train, x=\"lect\", y=\"lab\", hue=y_train, style=y_train)\n",
    "    xvals = np.array([0,100])\n",
    "    sns.lineplot(x=xvals, y=b + w*xvals, color='g', ax=ax)\n",
    "\n",
    "interactive_plot = interactive(show_linear_model, b=(0, 200, 2), w=(-10,10,0.05))\n",
    "interactive_plot"
   ]
  },
  {
   "cell_type": "markdown",
   "id": "0877720d-8a9d-475e-a366-00156dc53776",
   "metadata": {},
   "source": [
    "There is no line that perfectly separates the blue dots and orange circles - so what can we say about this dataset?"
   ]
  },
  {
   "cell_type": "markdown",
   "id": "9cfa25d7-5097-4d80-9b7b-e9042dc03635",
   "metadata": {},
   "source": [
    "### Rolling our own"
   ]
  },
  {
   "cell_type": "code",
   "execution_count": null,
   "id": "fdd6c51e-5e9d-48f8-b45f-209d245966a4",
   "metadata": {},
   "outputs": [],
   "source": [
    "scaler = StandardScaler()\n",
    "X_train_scaled = scaler.fit_transform(X_train)\n",
    "X_test_scaled = scaler.transform(X_test)"
   ]
  },
  {
   "cell_type": "code",
   "execution_count": null,
   "id": "da0c27cb-4872-4e99-8ef3-c32fd5d96fff",
   "metadata": {},
   "outputs": [],
   "source": [
    "X_train_scaled = add_dummy_feature(X_train_scaled)\n",
    "X_test_scaled = add_dummy_feature(X_test_scaled)"
   ]
  },
  {
   "cell_type": "code",
   "execution_count": null,
   "id": "0713022a-0395-437b-94c4-a16783889719",
   "metadata": {},
   "outputs": [],
   "source": [
    "def sigmoid(z):\n",
    "    return 1/(1 + np.exp(-z))"
   ]
  },
  {
   "cell_type": "code",
   "execution_count": null,
   "id": "185af64d-8f97-4fe4-9991-2eea7d41cfab",
   "metadata": {},
   "outputs": [],
   "source": [
    "def J(X, y, params):\n",
    "    h = sigmoid(X.dot(params))\n",
    "    return - np.mean(y * np.log(h) + (1 - y) * np.log(1 - h))"
   ]
  },
  {
   "cell_type": "code",
   "execution_count": null,
   "id": "21298e35-56cd-489e-952a-b6acd3b88383",
   "metadata": {},
   "outputs": [],
   "source": [
    "def stochastic_gradient_descent(X, y, alpha, num_epochs):\n",
    "\n",
    "    m, n = X.shape\n",
    "    params = rng.standard_normal(n) \n",
    "    Jvals = np.zeros(num_epochs * m)\n",
    "    \n",
    "    for epoch in range(num_epochs):\n",
    "        perm = rng.permutation(m)\n",
    "        for idx, i in enumerate(perm):\n",
    "            x_i = X[i:i+1]\n",
    "            y_i = y[i:i+1]\n",
    "            params -= alpha * x_i.T.dot(sigmoid(x_i.dot(params)) - y_i) \n",
    "            Jvals[epoch * m + idx] = J(X, y, params)\n",
    " \n",
    "    return params, Jvals"
   ]
  },
  {
   "cell_type": "code",
   "execution_count": null,
   "id": "175a81d1-e721-42e2-8780-1067a0b1f441",
   "metadata": {},
   "outputs": [],
   "source": [
    "# Run the Stochastic Gradient Descent\n",
    "params, Jvals = stochastic_gradient_descent(X_train_scaled, y_train, alpha = 0.003, num_epochs = 500)"
   ]
  },
  {
   "cell_type": "code",
   "execution_count": null,
   "id": "62ff43e6-1268-44dd-863d-7e8dc2889e4f",
   "metadata": {},
   "outputs": [],
   "source": [
    "def plot_loss(Jvals):\n",
    "    fig, ax = plt.subplots(figsize=(20,8))\n",
    "    xvals = np.linspace(1, Jvals.size, Jvals.size)\n",
    "    ax = sns.scatterplot(x=xvals, y=Jvals)\n",
    "    ax.set_title(\"J during learning\")\n",
    "    ax.set_ylabel(\"J\")\n",
    "    ax.set_xlabel(\"Number of iterations\")\n",
    "    plt.show()"
   ]
  },
  {
   "cell_type": "code",
   "execution_count": null,
   "id": "62d8fa08-bffe-48df-aa44-03c99223f8f7",
   "metadata": {},
   "outputs": [],
   "source": [
    "plot_loss(Jvals[:40000])"
   ]
  },
  {
   "cell_type": "code",
   "execution_count": null,
   "id": "42f9ecd4-3dad-4d0e-9b38-80498c0bc60b",
   "metadata": {},
   "outputs": [],
   "source": [
    "# Display params it learned\n",
    "\n",
    "params"
   ]
  },
  {
   "cell_type": "markdown",
   "id": "d3f85adf-11da-42c7-96e5-7c18940128ca",
   "metadata": {},
   "source": [
    "Remember these parameter values are for scaled data."
   ]
  },
  {
   "cell_type": "code",
   "execution_count": null,
   "id": "1b1ac4fa-ba23-444c-a37d-49f3794f0fb5",
   "metadata": {},
   "outputs": [],
   "source": [
    "# Let's make a prediction for a student whose lecture attendance was 60 and lab attendance was 25.\n",
    "\n",
    "students = pd.DataFrame([\n",
    "    {\"lect\" : 60, \"lab\" : 25},\n",
    "])\n",
    "\n",
    "students_scaled = scaler.transform(students)\n",
    "\n",
    "students_scaled"
   ]
  },
  {
   "cell_type": "code",
   "execution_count": null,
   "id": "3d586843-7abc-4d9b-be5b-59b3dcba8223",
   "metadata": {},
   "outputs": [],
   "source": [
    "y = sigmoid(0.2557774 + 0.22449731 * -0.8213866 + 1.80580958 * -2.36049218)\n",
    "y"
   ]
  },
  {
   "cell_type": "markdown",
   "id": "4e4c74a4-5a93-47fe-a29f-8a4dfaa7597a",
   "metadata": {},
   "source": [
    "So the probability of the positive class (that this student passes) is approximately 0.015. In other words, we predict they will fail!"
   ]
  },
  {
   "cell_type": "markdown",
   "id": "d8f54376-5c9a-4725-9b3b-f5730780baea",
   "metadata": {},
   "source": [
    "### Logistic Regression in scikit-learn"
   ]
  },
  {
   "cell_type": "markdown",
   "id": "0eb71591-1c62-49cf-883c-d1f64d350859",
   "metadata": {},
   "source": [
    "We don't need to 'roll our own'. scikit-learn has a class that we can use. It is implemented using Stochastic Gradient Descent. It has many arguments, e.g. max_iter controls the number of epochs. We will discuss the penalty argument in a later lecture."
   ]
  },
  {
   "cell_type": "code",
   "execution_count": null,
   "id": "62873368-488d-4b53-b3f7-278b67ebf4e9",
   "metadata": {},
   "outputs": [],
   "source": [
    "logistic_model = Pipeline([\n",
    "    (\"scaler\", StandardScaler()),\n",
    "    (\"predictor\", LogisticRegression(penalty=None, random_state=rng))])"
   ]
  },
  {
   "cell_type": "markdown",
   "id": "46877a77-86af-4544-9292-688c5d4a5009",
   "metadata": {},
   "source": [
    "Training: fit the model to the scaled data."
   ]
  },
  {
   "cell_type": "code",
   "execution_count": null,
   "id": "be59ed84-2c25-4dfd-9f3d-e6ad9b99f8df",
   "metadata": {},
   "outputs": [],
   "source": [
    "logistic_model.fit(X_train, y_train)"
   ]
  },
  {
   "cell_type": "markdown",
   "id": "37973296-ac74-48ef-b81a-fcf39ad0ef6e",
   "metadata": {},
   "source": [
    "Inference: make some predictions"
   ]
  },
  {
   "cell_type": "code",
   "execution_count": null,
   "id": "a9be61d8-d4cb-4e90-aca1-1919e202e2a5",
   "metadata": {},
   "outputs": [],
   "source": [
    "students = pd.DataFrame([[60, 25], [80, 90], [95, 70]], columns=[\"lect\", \"lab\"])"
   ]
  },
  {
   "cell_type": "code",
   "execution_count": null,
   "id": "a789d0d8-0c49-456a-ba48-6289e4cd5261",
   "metadata": {},
   "outputs": [],
   "source": [
    "logistic_model.predict_proba(students)"
   ]
  },
  {
   "cell_type": "code",
   "execution_count": null,
   "id": "031636e6-a8b9-4f12-8061-5f2d595dacf1",
   "metadata": {},
   "outputs": [],
   "source": [
    "label_encoder.inverse_transform(logistic_model.predict(students))"
   ]
  },
  {
   "cell_type": "markdown",
   "id": "2a4fbb40-1610-47e9-9773-e654442262a9",
   "metadata": {},
   "source": [
    "Error estimation - How good is it?"
   ]
  },
  {
   "cell_type": "code",
   "execution_count": null,
   "id": "ae883c91-1139-4413-8dbc-8b583c033dd1",
   "metadata": {},
   "outputs": [],
   "source": [
    "accuracy_score(logistic_model.predict(X_test), y_test)"
   ]
  },
  {
   "cell_type": "markdown",
   "id": "76ca318b-31d5-4bbf-96d9-e4583928f2b3",
   "metadata": {},
   "source": [
    "scikit-learn's `LogisticRegression` class sits on top of the `SGDClassifier` class. We would use the latter if we wanted finer-grained control. For example, it allows us to set the learning rate."
   ]
  },
  {
   "cell_type": "markdown",
   "id": "826f2c4e-287e-4319-b402-0be86c691451",
   "metadata": {},
   "source": [
    "## Multiclass Classification"
   ]
  },
  {
   "cell_type": "markdown",
   "id": "c4b05106-f43d-4903-8ea7-9d91cc7deee5",
   "metadata": {},
   "source": [
    "### Read in the iris dataset - shuffle - split"
   ]
  },
  {
   "cell_type": "code",
   "execution_count": null,
   "id": "3426f87a-5245-41c7-ae89-4b74a07babf3",
   "metadata": {},
   "outputs": [],
   "source": [
    "# We don't need to read in a csv. scikit-learn has a copy of the dataset and a function to load it.\n",
    "iris = load_iris(as_frame=True)"
   ]
  },
  {
   "cell_type": "code",
   "execution_count": null,
   "id": "808ef6ba-0f5c-49d2-8581-55b6b069fe4a",
   "metadata": {},
   "outputs": [],
   "source": [
    "iris.frame.head()"
   ]
  },
  {
   "cell_type": "code",
   "execution_count": null,
   "id": "0d3d7db1-d680-4aba-a9a0-c1a4bf7a4626",
   "metadata": {},
   "outputs": [],
   "source": [
    "iris.frame.shape"
   ]
  },
  {
   "cell_type": "code",
   "execution_count": null,
   "id": "e13982dc-4666-467a-a923-4075c602e891",
   "metadata": {},
   "outputs": [],
   "source": [
    "iris.frame.info()"
   ]
  },
  {
   "cell_type": "code",
   "execution_count": null,
   "id": "58eefb51-71c9-47ca-9ce8-16542fc57e37",
   "metadata": {},
   "outputs": [],
   "source": [
    "iris.frame.describe(include=\"all\")"
   ]
  },
  {
   "cell_type": "code",
   "execution_count": null,
   "id": "0e6a0d58-d0f8-4756-80c3-963333277196",
   "metadata": {},
   "outputs": [],
   "source": [
    "X = iris.data\n",
    "y = iris.target"
   ]
  },
  {
   "cell_type": "code",
   "execution_count": null,
   "id": "93a59dae-c6fd-4af8-8cd9-19c70b497584",
   "metadata": {},
   "outputs": [],
   "source": [
    "y.value_counts()"
   ]
  },
  {
   "cell_type": "markdown",
   "id": "de8cbb89-2ad3-4da0-b0d6-3e70dc17cbe7",
   "metadata": {},
   "source": [
    "We can see the this dataset need shuffling:"
   ]
  },
  {
   "cell_type": "code",
   "execution_count": null,
   "id": "d2b6d86c-966b-449b-829e-7108de042b7b",
   "metadata": {},
   "outputs": [],
   "source": [
    "y"
   ]
  },
  {
   "cell_type": "markdown",
   "id": "81c41e19-bf0f-4e92-a350-4b0e3493158e",
   "metadata": {},
   "source": [
    "Happily, by default, `train_test_split` shhuffles before it splits."
   ]
  },
  {
   "cell_type": "code",
   "execution_count": null,
   "id": "551482dc-423a-42dc-84c1-017b2b0fd111",
   "metadata": {},
   "outputs": [],
   "source": [
    "X_train, X_test, y_train, y_test = train_test_split(X, y, test_size=0.2, stratify=y, random_state=rng)"
   ]
  },
  {
   "cell_type": "code",
   "execution_count": null,
   "id": "dffb39be-1965-4976-b958-06eef43918d5",
   "metadata": {},
   "outputs": [],
   "source": [
    "# There are four features. We'll choose two of them for our scatter plot.\n",
    "sns.scatterplot(data=X_train, x=\"petal length (cm)\", y=\"petal width (cm)\", hue=y_train, style=y_train)"
   ]
  },
  {
   "cell_type": "markdown",
   "id": "b96d12d9-b60a-434c-914f-9c255504c8d4",
   "metadata": {},
   "source": [
    "What do you notice from the diagram?"
   ]
  },
  {
   "cell_type": "markdown",
   "id": "df17b621-fcb4-4f28-9e30-c289ec97864a",
   "metadata": {},
   "source": [
    "### Decision Tree"
   ]
  },
  {
   "cell_type": "code",
   "execution_count": null,
   "id": "e71f1dc4-3670-49d2-b1dd-682a66caa0be",
   "metadata": {},
   "outputs": [],
   "source": [
    "decision_tree = DecisionTreeClassifier(max_depth=3, random_state=rng)"
   ]
  },
  {
   "cell_type": "code",
   "execution_count": null,
   "id": "b86112a7-7e45-4d74-9c80-6e812a56dfd3",
   "metadata": {},
   "outputs": [],
   "source": [
    "decision_tree.fit(X_train, y_train)"
   ]
  },
  {
   "cell_type": "code",
   "execution_count": null,
   "id": "7e045b75-d032-42ad-8f15-125de8b733b2",
   "metadata": {},
   "outputs": [],
   "source": [
    "fig = plt.figure(figsize=(20,8))\n",
    "plot_tree(decision_tree, feature_names=iris.feature_names, class_names=iris.target_names, fontsize=12)\n",
    "plt.show()"
   ]
  },
  {
   "cell_type": "markdown",
   "id": "9ae0368f-7d0e-47bf-bd53-6f4431e3b750",
   "metadata": {},
   "source": [
    "### kNN"
   ]
  },
  {
   "cell_type": "code",
   "execution_count": null,
   "id": "61d80d48-8e6d-42b5-bd97-528f2d6e136e",
   "metadata": {},
   "outputs": [],
   "source": [
    "knn = Pipeline([\n",
    "    (\"scaler\", StandardScaler()),\n",
    "    (\"predictor\", KNeighborsClassifier(n_neighbors=3))])"
   ]
  },
  {
   "cell_type": "code",
   "execution_count": null,
   "id": "6c95a33c-2c6c-4201-8765-d120911a9928",
   "metadata": {},
   "outputs": [],
   "source": [
    "knn.fit(X_train, y_train)"
   ]
  },
  {
   "cell_type": "markdown",
   "id": "60f34ab3-fb55-4cff-903b-1fbbf85e09dc",
   "metadata": {},
   "source": [
    "### Multinomial Logistic Regression"
   ]
  },
  {
   "cell_type": "code",
   "execution_count": null,
   "id": "1b57824f-65b1-46f9-88cd-a6fc0a61dccc",
   "metadata": {},
   "outputs": [],
   "source": [
    "logistic_model = Pipeline([\n",
    "    (\"scaler\", StandardScaler()),\n",
    "    (\"predictor\", LogisticRegression(penalty=None, random_state=rng))])"
   ]
  },
  {
   "cell_type": "code",
   "execution_count": null,
   "id": "b7a862db-9e2c-406d-9f13-3e09aac23f9a",
   "metadata": {},
   "outputs": [],
   "source": [
    "logistic_model.fit(X_train, y_train)"
   ]
  },
  {
   "cell_type": "markdown",
   "id": "aab203c2-aa93-4321-b19b-b0f6c7f4f74a",
   "metadata": {},
   "source": [
    "### Error estimation - evaluate on the test set"
   ]
  },
  {
   "cell_type": "code",
   "execution_count": null,
   "id": "55ab1594-0218-47b0-9d6a-8ff3218fe493",
   "metadata": {},
   "outputs": [],
   "source": [
    "[accuracy_score(model.predict(X_test), y_test) for model in [decision_tree, knn, logistic_model]]"
   ]
  },
  {
   "cell_type": "markdown",
   "id": "b5c83367-9375-402e-b227-855fbac259fb",
   "metadata": {},
   "source": [
    "Of course, long before we evaluated on the test set, we should have used a validation set to choose hyperparameter values. Maybe Decision Trees and kNN would have done better if we had chosen their hyperparameters using a grid search."
   ]
  },
  {
   "cell_type": "code",
   "execution_count": null,
   "id": "81e58331-1ab4-451c-83ea-f54e08140d50",
   "metadata": {},
   "outputs": [],
   "source": []
  }
 ],
 "metadata": {
  "kernelspec": {
   "display_name": "Python 3 (ipykernel)",
   "language": "python",
   "name": "python3"
  },
  "language_info": {
   "codemirror_mode": {
    "name": "ipython",
    "version": 3
   },
   "file_extension": ".py",
   "mimetype": "text/x-python",
   "name": "python",
   "nbconvert_exporter": "python",
   "pygments_lexer": "ipython3",
   "version": "3.12.4"
  }
 },
 "nbformat": 4,
 "nbformat_minor": 5
}
