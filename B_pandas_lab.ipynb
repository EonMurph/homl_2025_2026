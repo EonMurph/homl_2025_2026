{
 "cells": [
  {
   "cell_type": "markdown",
   "id": "24e68c8e",
   "metadata": {},
   "source": [
    "# B: Pandas"
   ]
  },
  {
   "cell_type": "markdown",
   "id": "8c787965",
   "metadata": {},
   "source": [
    "Pandas is a library that is built on top of NumPy. It offers several data structures include `Series` (one-dimensional) and `DataFrames` (two-dimensional). It is higher-level than NumPy and allows us to 'name' the rows and columns of the data structures. We might say that NumPy is about efficiency, while Pandas is about ease-of-use. "
   ]
  },
  {
   "cell_type": "code",
   "execution_count": 8,
   "id": "0e95d2b2",
   "metadata": {},
   "outputs": [],
   "source": [
    "import pandas as pd\n",
    "import numpy as np"
   ]
  },
  {
   "cell_type": "markdown",
   "id": "60e07067",
   "metadata": {},
   "source": [
    "If you execute the next cell, then hints and answers will be available to you, like they were in the previous lab."
   ]
  },
  {
   "cell_type": "code",
   "execution_count": 10,
   "id": "3c459fbd",
   "metadata": {},
   "outputs": [],
   "source": [
    "%run do_install_HAs.py B_pandas_lab"
   ]
  },
  {
   "cell_type": "markdown",
   "id": "d796eaca",
   "metadata": {},
   "source": [
    "## Series"
   ]
  },
  {
   "cell_type": "markdown",
   "id": "729e86f8",
   "metadata": {},
   "source": [
    "A `Series` is like a one-dimensional array. The values in the `Series` have an index, which, by default, is made of consecutive integers from 0.\n",
    "\n",
    "We can create a `Series` from a Python list, e.g.:"
   ]
  },
  {
   "cell_type": "code",
   "execution_count": 11,
   "id": "d494fb1a",
   "metadata": {},
   "outputs": [],
   "source": [
    "s = pd.Series([5, 7, 10, 10, 7])"
   ]
  },
  {
   "cell_type": "markdown",
   "id": "5c0da417",
   "metadata": {},
   "source": [
    "When we display it, you will see its contents, but also the index:"
   ]
  },
  {
   "cell_type": "code",
   "execution_count": 12,
   "id": "b0a7c4ef",
   "metadata": {},
   "outputs": [
    {
     "data": {
      "text/plain": [
       "0     5\n",
       "1     7\n",
       "2    10\n",
       "3    10\n",
       "4     7\n",
       "dtype: int64"
      ]
     },
     "execution_count": 12,
     "metadata": {},
     "output_type": "execute_result"
    }
   ],
   "source": [
    "s"
   ]
  },
  {
   "cell_type": "markdown",
   "id": "869e86bb",
   "metadata": {},
   "source": [
    "We can get the index itself:"
   ]
  },
  {
   "cell_type": "code",
   "execution_count": 13,
   "id": "af53d081",
   "metadata": {},
   "outputs": [
    {
     "data": {
      "text/plain": [
       "RangeIndex(start=0, stop=5, step=1)"
      ]
     },
     "execution_count": 13,
     "metadata": {},
     "output_type": "execute_result"
    }
   ],
   "source": [
    "s.index"
   ]
  },
  {
   "cell_type": "markdown",
   "id": "f121d1ac",
   "metadata": {},
   "source": [
    "And we can get the values (as a NumPy array):"
   ]
  },
  {
   "cell_type": "code",
   "execution_count": 14,
   "id": "3bfa4e8a",
   "metadata": {},
   "outputs": [
    {
     "data": {
      "text/plain": [
       "array([ 5,  7, 10, 10,  7])"
      ]
     },
     "execution_count": 14,
     "metadata": {},
     "output_type": "execute_result"
    }
   ],
   "source": [
    "s.values"
   ]
  },
  {
   "cell_type": "markdown",
   "id": "8b038b2e",
   "metadata": {},
   "source": [
    "An initial source of confusion is that index and position are not the same thing. Sure, at the moment, the value 5 in the `Series` above is in position 0 and its index is 0. But the index 'stays with' a value, even when positions change.\n",
    "\n",
    "A simple example is if we 'shuffle' the values in `s`. The Pandas way of doing this is to take a sample from `s`:"
   ]
  },
  {
   "cell_type": "code",
   "execution_count": 15,
   "id": "01bc69e3",
   "metadata": {},
   "outputs": [
    {
     "data": {
      "text/plain": [
       "2    10\n",
       "4     7\n",
       "1     7\n",
       "3    10\n",
       "0     5\n",
       "dtype: int64"
      ]
     },
     "execution_count": 15,
     "metadata": {},
     "output_type": "execute_result"
    }
   ],
   "source": [
    "s.sample(frac=1.0, random_state=2)"
   ]
  },
  {
   "cell_type": "markdown",
   "id": "75a79f51",
   "metadata": {},
   "source": [
    "If we set `frac` to be 0.8, for example, then we take 80% of the values in `s` as our sample. By using `frac = 1.0` as we did above, we take all the values. By setting the random number state, we ensure reproducibility: we get the same result each time we run this Notebook (ta least, we get the same result if we use the same hardware/software).\n",
    "\n",
    "But the key point here is that indexes have 'stayed with' values. The value 5 is now in position 4 but its index is still 0. (In the case of the `sample` method, there is the option of saying that the indexes should not stay with the values: `ignore_index=True`.)"
   ]
  },
  {
   "cell_type": "markdown",
   "id": "5aaa24f0",
   "metadata": {},
   "source": [
    "Pretty much everything else we learned about NumPy one-dimensional arrays applies equally to Panda `Series`. Here are some examples."
   ]
  },
  {
   "cell_type": "code",
   "execution_count": 16,
   "id": "b656e75e",
   "metadata": {},
   "outputs": [
    {
     "data": {
      "text/plain": [
       "dtype('int64')"
      ]
     },
     "execution_count": 16,
     "metadata": {},
     "output_type": "execute_result"
    }
   ],
   "source": [
    "s.dtype # The data type that Pandas has inferred"
   ]
  },
  {
   "cell_type": "code",
   "execution_count": 17,
   "id": "f997af08",
   "metadata": {},
   "outputs": [
    {
     "data": {
      "text/plain": [
       "1"
      ]
     },
     "execution_count": 17,
     "metadata": {},
     "output_type": "execute_result"
    }
   ],
   "source": [
    "s.ndim # The number of dimensions"
   ]
  },
  {
   "cell_type": "code",
   "execution_count": 18,
   "id": "32cb17f0",
   "metadata": {},
   "outputs": [
    {
     "data": {
      "text/plain": [
       "(5,)"
      ]
     },
     "execution_count": 18,
     "metadata": {},
     "output_type": "execute_result"
    }
   ],
   "source": [
    "s.shape # The shape"
   ]
  },
  {
   "cell_type": "code",
   "execution_count": 19,
   "id": "0647e312",
   "metadata": {},
   "outputs": [
    {
     "data": {
      "text/plain": [
       "5"
      ]
     },
     "execution_count": 19,
     "metadata": {},
     "output_type": "execute_result"
    }
   ],
   "source": [
    "len(s) # The length"
   ]
  },
  {
   "cell_type": "code",
   "execution_count": 20,
   "id": "db980aba",
   "metadata": {},
   "outputs": [
    {
     "data": {
      "text/plain": [
       "5"
      ]
     },
     "execution_count": 20,
     "metadata": {},
     "output_type": "execute_result"
    }
   ],
   "source": [
    "s.size # The size"
   ]
  },
  {
   "cell_type": "code",
   "execution_count": 21,
   "id": "33739775",
   "metadata": {},
   "outputs": [
    {
     "data": {
      "text/plain": [
       "0     7\n",
       "1     9\n",
       "2    12\n",
       "3    12\n",
       "4     9\n",
       "dtype: int64"
      ]
     },
     "execution_count": 21,
     "metadata": {},
     "output_type": "execute_result"
    }
   ],
   "source": [
    "s + 2 # Elementwise addition"
   ]
  },
  {
   "cell_type": "code",
   "execution_count": 22,
   "id": "6c118ce5",
   "metadata": {},
   "outputs": [
    {
     "data": {
      "text/plain": [
       "0     25\n",
       "1     49\n",
       "2    100\n",
       "3    100\n",
       "4     49\n",
       "dtype: int64"
      ]
     },
     "execution_count": 22,
     "metadata": {},
     "output_type": "execute_result"
    }
   ],
   "source": [
    "s ** 2 # Elementwise squaring"
   ]
  },
  {
   "cell_type": "code",
   "execution_count": 23,
   "id": "4e0e98a7",
   "metadata": {},
   "outputs": [
    {
     "data": {
      "text/plain": [
       "0    False\n",
       "1     True\n",
       "2     True\n",
       "3     True\n",
       "4     True\n",
       "dtype: bool"
      ]
     },
     "execution_count": 23,
     "metadata": {},
     "output_type": "execute_result"
    }
   ],
   "source": [
    "s > 6 # Elementwise comparisons"
   ]
  },
  {
   "cell_type": "code",
   "execution_count": 24,
   "id": "f7f80367",
   "metadata": {},
   "outputs": [],
   "source": [
    "s1 = pd.Series([5, 7, 10, 10, 7])\n",
    "s2 = pd.Series([1, 2, 3, 4, 5])"
   ]
  },
  {
   "cell_type": "code",
   "execution_count": 25,
   "id": "7d70de89",
   "metadata": {},
   "outputs": [
    {
     "data": {
      "text/plain": [
       "0     6\n",
       "1     9\n",
       "2    13\n",
       "3    14\n",
       "4    12\n",
       "dtype: int64"
      ]
     },
     "execution_count": 25,
     "metadata": {},
     "output_type": "execute_result"
    }
   ],
   "source": [
    "s1 + s2 # Adding corresponding elements of two same-dimension Series"
   ]
  },
  {
   "cell_type": "code",
   "execution_count": 26,
   "id": "9aa0aba3",
   "metadata": {},
   "outputs": [
    {
     "data": {
      "text/plain": [
       "0     5\n",
       "1    14\n",
       "2    30\n",
       "3    40\n",
       "4    35\n",
       "dtype: int64"
      ]
     },
     "execution_count": 26,
     "metadata": {},
     "output_type": "execute_result"
    }
   ],
   "source": [
    "s1 * s2 # Multiplying corresponding elements of two same-dimension Series"
   ]
  },
  {
   "cell_type": "code",
   "execution_count": 27,
   "id": "d8a54404",
   "metadata": {},
   "outputs": [
    {
     "data": {
      "text/plain": [
       "124"
      ]
     },
     "execution_count": 27,
     "metadata": {},
     "output_type": "execute_result"
    }
   ],
   "source": [
    "s1 @ s2 # Dot product of two same-dimension Series"
   ]
  },
  {
   "cell_type": "code",
   "execution_count": 28,
   "id": "4b1805ee",
   "metadata": {},
   "outputs": [
    {
     "data": {
      "text/plain": [
       "0    2.236068\n",
       "1    2.645751\n",
       "2    3.162278\n",
       "3    3.162278\n",
       "4    2.645751\n",
       "dtype: float64"
      ]
     },
     "execution_count": 28,
     "metadata": {},
     "output_type": "execute_result"
    }
   ],
   "source": [
    "np.sqrt(s) # Applying a NumPy universal function elementwise"
   ]
  },
  {
   "cell_type": "code",
   "execution_count": 29,
   "id": "ee798fd8",
   "metadata": {},
   "outputs": [
    {
     "data": {
      "text/plain": [
       "39"
      ]
     },
     "execution_count": 29,
     "metadata": {},
     "output_type": "execute_result"
    }
   ],
   "source": [
    "s.sum() # Applying a NumPy method"
   ]
  },
  {
   "cell_type": "code",
   "execution_count": 30,
   "id": "a74d5b44",
   "metadata": {},
   "outputs": [
    {
     "data": {
      "text/plain": [
       "7.8"
      ]
     },
     "execution_count": 30,
     "metadata": {},
     "output_type": "execute_result"
    }
   ],
   "source": [
    "s.mean() # Another NumPy method"
   ]
  },
  {
   "cell_type": "markdown",
   "id": "5323d365",
   "metadata": {},
   "source": [
    "Here are a couple of methods we did not study when we looked at NumpPy. The first return a `Series` with no duplicates:"
   ]
  },
  {
   "cell_type": "code",
   "execution_count": 31,
   "id": "5a64fe15",
   "metadata": {},
   "outputs": [
    {
     "data": {
      "text/plain": [
       "array([ 5,  7, 10])"
      ]
     },
     "execution_count": 31,
     "metadata": {},
     "output_type": "execute_result"
    }
   ],
   "source": [
    "s.unique()"
   ]
  },
  {
   "cell_type": "markdown",
   "id": "7534d52b",
   "metadata": {},
   "source": [
    "The second returns the values with their frequencies."
   ]
  },
  {
   "cell_type": "code",
   "execution_count": 32,
   "id": "6a4c2a86",
   "metadata": {},
   "outputs": [
    {
     "data": {
      "text/plain": [
       "7     2\n",
       "10    2\n",
       "5     1\n",
       "Name: count, dtype: int64"
      ]
     },
     "execution_count": 32,
     "metadata": {},
     "output_type": "execute_result"
    }
   ],
   "source": [
    "s.value_counts()"
   ]
  },
  {
   "cell_type": "markdown",
   "id": "96e67db7",
   "metadata": {},
   "source": [
    "The result is itself a `Series`. The values in the `Series` are the frequencies. Interestingly, the unique values in `s` have become the index."
   ]
  },
  {
   "cell_type": "markdown",
   "id": "3eaa9572",
   "metadata": {},
   "source": [
    "## Indexing and slicing of Series"
   ]
  },
  {
   "cell_type": "code",
   "execution_count": 33,
   "id": "d744abc3",
   "metadata": {},
   "outputs": [],
   "source": [
    "s = pd.Series([5, 7, 10, 10, 7])"
   ]
  },
  {
   "cell_type": "code",
   "execution_count": 34,
   "id": "94fec9ff",
   "metadata": {},
   "outputs": [],
   "source": [
    "s = s.sample(frac=1.0, random_state=2)"
   ]
  },
  {
   "cell_type": "code",
   "execution_count": 35,
   "id": "14a54370",
   "metadata": {},
   "outputs": [
    {
     "data": {
      "text/plain": [
       "2    10\n",
       "4     7\n",
       "1     7\n",
       "3    10\n",
       "0     5\n",
       "dtype: int64"
      ]
     },
     "execution_count": 35,
     "metadata": {},
     "output_type": "execute_result"
    }
   ],
   "source": [
    "s"
   ]
  },
  {
   "cell_type": "markdown",
   "id": "c6406132",
   "metadata": {},
   "source": [
    "We can access elements by index and by slicing and also by Boolean indexing and fancy indexing - all as in NumPy.\n",
    "\n",
    "But, hold on! There's an obvious question: do indexing and slicing use the index or the positions? For example, is `s[0]` the item in position 0 or the item whose index is 0? Is `s[1:3]` a slice based on the index or the positions?\n",
    "\n",
    "The bad news is: it's not consistent. `s[0]` uses the index, not the positions. `s[1:3]` uses the positions, not the index.\n",
    "\n",
    "It's better to be explicit. Pandas has a way for us to explicitly say we want to use the index: `loc`. And it has a way for us to say we want to use the positions: `iloc`. Here are some examples."
   ]
  },
  {
   "cell_type": "code",
   "execution_count": 36,
   "id": "95296e7d",
   "metadata": {},
   "outputs": [
    {
     "data": {
      "text/plain": [
       "5"
      ]
     },
     "execution_count": 36,
     "metadata": {},
     "output_type": "execute_result"
    }
   ],
   "source": [
    "s[0] # index"
   ]
  },
  {
   "cell_type": "code",
   "execution_count": 37,
   "id": "d37a2721",
   "metadata": {},
   "outputs": [
    {
     "data": {
      "text/plain": [
       "5"
      ]
     },
     "execution_count": 37,
     "metadata": {},
     "output_type": "execute_result"
    }
   ],
   "source": [
    "s.loc[0] # index"
   ]
  },
  {
   "cell_type": "code",
   "execution_count": 38,
   "id": "4135ba35",
   "metadata": {},
   "outputs": [
    {
     "data": {
      "text/plain": [
       "10"
      ]
     },
     "execution_count": 38,
     "metadata": {},
     "output_type": "execute_result"
    }
   ],
   "source": [
    "s.iloc[0] # position"
   ]
  },
  {
   "cell_type": "code",
   "execution_count": 39,
   "id": "e350dd1c",
   "metadata": {},
   "outputs": [
    {
     "data": {
      "text/plain": [
       "4     7\n",
       "1     7\n",
       "3    10\n",
       "0     5\n",
       "dtype: int64"
      ]
     },
     "execution_count": 39,
     "metadata": {},
     "output_type": "execute_result"
    }
   ],
   "source": [
    "s[1:] # A slice from position 1"
   ]
  },
  {
   "cell_type": "code",
   "execution_count": 40,
   "id": "a4d7e565",
   "metadata": {},
   "outputs": [
    {
     "data": {
      "text/plain": [
       "1     7\n",
       "3    10\n",
       "0     5\n",
       "dtype: int64"
      ]
     },
     "execution_count": 40,
     "metadata": {},
     "output_type": "execute_result"
    }
   ],
   "source": [
    "s.loc[1:] # A slice from index 1"
   ]
  },
  {
   "cell_type": "code",
   "execution_count": 41,
   "id": "02fa99c1",
   "metadata": {},
   "outputs": [
    {
     "data": {
      "text/plain": [
       "4     7\n",
       "1     7\n",
       "3    10\n",
       "0     5\n",
       "dtype: int64"
      ]
     },
     "execution_count": 41,
     "metadata": {},
     "output_type": "execute_result"
    }
   ],
   "source": [
    "s.iloc[1:] # A slice from position 1"
   ]
  },
  {
   "cell_type": "code",
   "execution_count": 42,
   "id": "47249850",
   "metadata": {},
   "outputs": [
    {
     "data": {
      "text/plain": [
       "4    7\n",
       "1    7\n",
       "dtype: int64"
      ]
     },
     "execution_count": 42,
     "metadata": {},
     "output_type": "execute_result"
    }
   ],
   "source": [
    "s[1:3] # A slice from position 1 up to but excluding position 3"
   ]
  },
  {
   "cell_type": "code",
   "execution_count": 43,
   "id": "8830b534",
   "metadata": {},
   "outputs": [
    {
     "data": {
      "text/plain": [
       "1     7\n",
       "3    10\n",
       "dtype: int64"
      ]
     },
     "execution_count": 43,
     "metadata": {},
     "output_type": "execute_result"
    }
   ],
   "source": [
    "s.loc[1:3] # A slice from index 1 up to and including index 3 "
   ]
  },
  {
   "cell_type": "code",
   "execution_count": 44,
   "id": "8cf354c4",
   "metadata": {},
   "outputs": [
    {
     "data": {
      "text/plain": [
       "4    7\n",
       "1    7\n",
       "dtype: int64"
      ]
     },
     "execution_count": 44,
     "metadata": {},
     "output_type": "execute_result"
    }
   ],
   "source": [
    "s.iloc[1:3] # A slice from position 1 up to but excluding position 3"
   ]
  },
  {
   "cell_type": "markdown",
   "id": "19b74d96",
   "metadata": {},
   "source": [
    "Boolean indexing works the same way whether you write `loc`, `iloc` or neither."
   ]
  },
  {
   "cell_type": "code",
   "execution_count": 45,
   "id": "257f010a",
   "metadata": {},
   "outputs": [
    {
     "data": {
      "text/plain": [
       "2    10\n",
       "4     7\n",
       "0     5\n",
       "dtype: int64"
      ]
     },
     "execution_count": 45,
     "metadata": {},
     "output_type": "execute_result"
    }
   ],
   "source": [
    "s[[True, True, False, False, True]] # Boolean indexing "
   ]
  },
  {
   "cell_type": "code",
   "execution_count": 46,
   "id": "ed814a75",
   "metadata": {},
   "outputs": [
    {
     "data": {
      "text/plain": [
       "2    10\n",
       "4     7\n",
       "0     5\n",
       "dtype: int64"
      ]
     },
     "execution_count": 46,
     "metadata": {},
     "output_type": "execute_result"
    }
   ],
   "source": [
    "s.loc[[True, True, False, False, True]] # Boolean indexing"
   ]
  },
  {
   "cell_type": "code",
   "execution_count": 47,
   "id": "34e343a5",
   "metadata": {},
   "outputs": [
    {
     "data": {
      "text/plain": [
       "2    10\n",
       "4     7\n",
       "0     5\n",
       "dtype: int64"
      ]
     },
     "execution_count": 47,
     "metadata": {},
     "output_type": "execute_result"
    }
   ],
   "source": [
    "s.iloc[[True, True, False, False, True]] # Boolean indexing"
   ]
  },
  {
   "cell_type": "markdown",
   "id": "0a5c9024",
   "metadata": {},
   "source": [
    "Fancy indexing uses the index by default, not the position."
   ]
  },
  {
   "cell_type": "code",
   "execution_count": 48,
   "id": "b4993cd8",
   "metadata": {},
   "outputs": [
    {
     "data": {
      "text/plain": [
       "4     7\n",
       "3    10\n",
       "2    10\n",
       "1     7\n",
       "0     5\n",
       "dtype: int64"
      ]
     },
     "execution_count": 48,
     "metadata": {},
     "output_type": "execute_result"
    }
   ],
   "source": [
    "s[[4, 3, 2, 1, 0]] # Fancy indexing - uses the index"
   ]
  },
  {
   "cell_type": "code",
   "execution_count": 49,
   "id": "e704316b",
   "metadata": {},
   "outputs": [
    {
     "data": {
      "text/plain": [
       "4     7\n",
       "3    10\n",
       "2    10\n",
       "1     7\n",
       "0     5\n",
       "dtype: int64"
      ]
     },
     "execution_count": 49,
     "metadata": {},
     "output_type": "execute_result"
    }
   ],
   "source": [
    "s.loc[[4, 3, 2, 1, 0]] # Fancy indexing - uses the index"
   ]
  },
  {
   "cell_type": "code",
   "execution_count": 50,
   "id": "bdfd20f3",
   "metadata": {},
   "outputs": [
    {
     "data": {
      "text/plain": [
       "0     5\n",
       "3    10\n",
       "1     7\n",
       "4     7\n",
       "2    10\n",
       "dtype: int64"
      ]
     },
     "execution_count": 50,
     "metadata": {},
     "output_type": "execute_result"
    }
   ],
   "source": [
    "s.iloc[[4, 3, 2, 1, 0]] # Fancy indexing - uses the position"
   ]
  },
  {
   "cell_type": "markdown",
   "id": "c1e0a06f",
   "metadata": {},
   "source": [
    "This may all seem depressingly complicated. But, remember: we shouldn't be doing much indexing. We should be using vectorized operations to work on the whole data structure. In particular, we should be able to avoid the classic Python programs that you wrote in the past that had a loop and used indexing to access the elements of the data structure."
   ]
  },
  {
   "cell_type": "markdown",
   "id": "20f8d0e6",
   "metadata": {},
   "source": [
    "## DataFrame"
   ]
  },
  {
   "cell_type": "markdown",
   "id": "1ab8b065",
   "metadata": {},
   "source": [
    "A `DataFrame` is a table of data, comprising rows and columns. The rows and columns both have an index. If you want more dimensions (we won't), then `DataFrames` also support hierarchical indexing."
   ]
  },
  {
   "cell_type": "markdown",
   "id": "369fca23",
   "metadata": {},
   "source": [
    "We can create a `DataFrame` from a nested Python list - as we did with NumPy two-dimensional arrays."
   ]
  },
  {
   "cell_type": "code",
   "execution_count": 51,
   "id": "959c934d",
   "metadata": {},
   "outputs": [],
   "source": [
    "df = pd.DataFrame([[1, 2, 3], [4, 5, 6], [1, 5, 3], [4, 2, 6]])"
   ]
  },
  {
   "cell_type": "code",
   "execution_count": 52,
   "id": "faf0ad74",
   "metadata": {},
   "outputs": [
    {
     "data": {
      "text/html": [
       "<div>\n",
       "<style scoped>\n",
       "    .dataframe tbody tr th:only-of-type {\n",
       "        vertical-align: middle;\n",
       "    }\n",
       "\n",
       "    .dataframe tbody tr th {\n",
       "        vertical-align: top;\n",
       "    }\n",
       "\n",
       "    .dataframe thead th {\n",
       "        text-align: right;\n",
       "    }\n",
       "</style>\n",
       "<table border=\"1\" class=\"dataframe\">\n",
       "  <thead>\n",
       "    <tr style=\"text-align: right;\">\n",
       "      <th></th>\n",
       "      <th>0</th>\n",
       "      <th>1</th>\n",
       "      <th>2</th>\n",
       "    </tr>\n",
       "  </thead>\n",
       "  <tbody>\n",
       "    <tr>\n",
       "      <th>0</th>\n",
       "      <td>1</td>\n",
       "      <td>2</td>\n",
       "      <td>3</td>\n",
       "    </tr>\n",
       "    <tr>\n",
       "      <th>1</th>\n",
       "      <td>4</td>\n",
       "      <td>5</td>\n",
       "      <td>6</td>\n",
       "    </tr>\n",
       "    <tr>\n",
       "      <th>2</th>\n",
       "      <td>1</td>\n",
       "      <td>5</td>\n",
       "      <td>3</td>\n",
       "    </tr>\n",
       "    <tr>\n",
       "      <th>3</th>\n",
       "      <td>4</td>\n",
       "      <td>2</td>\n",
       "      <td>6</td>\n",
       "    </tr>\n",
       "  </tbody>\n",
       "</table>\n",
       "</div>"
      ],
      "text/plain": [
       "   0  1  2\n",
       "0  1  2  3\n",
       "1  4  5  6\n",
       "2  1  5  3\n",
       "3  4  2  6"
      ]
     },
     "execution_count": 52,
     "metadata": {},
     "output_type": "execute_result"
    }
   ],
   "source": [
    "df"
   ]
  },
  {
   "cell_type": "markdown",
   "id": "627a3d16",
   "metadata": {},
   "source": [
    "You can see the rows have an index, and so do the columns.\n",
    "\n",
    "More normal is to give the columns names:"
   ]
  },
  {
   "cell_type": "code",
   "execution_count": 53,
   "id": "b0ad91d1",
   "metadata": {},
   "outputs": [],
   "source": [
    "df = pd.DataFrame([[1, 2, 3], [4, 5, 6], [1, 5, 3], [4, 2, 6]], columns=[\"A\", \"B\", \"C\"])"
   ]
  },
  {
   "cell_type": "code",
   "execution_count": 54,
   "id": "2255e585",
   "metadata": {},
   "outputs": [
    {
     "data": {
      "text/html": [
       "<div>\n",
       "<style scoped>\n",
       "    .dataframe tbody tr th:only-of-type {\n",
       "        vertical-align: middle;\n",
       "    }\n",
       "\n",
       "    .dataframe tbody tr th {\n",
       "        vertical-align: top;\n",
       "    }\n",
       "\n",
       "    .dataframe thead th {\n",
       "        text-align: right;\n",
       "    }\n",
       "</style>\n",
       "<table border=\"1\" class=\"dataframe\">\n",
       "  <thead>\n",
       "    <tr style=\"text-align: right;\">\n",
       "      <th></th>\n",
       "      <th>A</th>\n",
       "      <th>B</th>\n",
       "      <th>C</th>\n",
       "    </tr>\n",
       "  </thead>\n",
       "  <tbody>\n",
       "    <tr>\n",
       "      <th>0</th>\n",
       "      <td>1</td>\n",
       "      <td>2</td>\n",
       "      <td>3</td>\n",
       "    </tr>\n",
       "    <tr>\n",
       "      <th>1</th>\n",
       "      <td>4</td>\n",
       "      <td>5</td>\n",
       "      <td>6</td>\n",
       "    </tr>\n",
       "    <tr>\n",
       "      <th>2</th>\n",
       "      <td>1</td>\n",
       "      <td>5</td>\n",
       "      <td>3</td>\n",
       "    </tr>\n",
       "    <tr>\n",
       "      <th>3</th>\n",
       "      <td>4</td>\n",
       "      <td>2</td>\n",
       "      <td>6</td>\n",
       "    </tr>\n",
       "  </tbody>\n",
       "</table>\n",
       "</div>"
      ],
      "text/plain": [
       "   A  B  C\n",
       "0  1  2  3\n",
       "1  4  5  6\n",
       "2  1  5  3\n",
       "3  4  2  6"
      ]
     },
     "execution_count": 54,
     "metadata": {},
     "output_type": "execute_result"
    }
   ],
   "source": [
    "df"
   ]
  },
  {
   "cell_type": "markdown",
   "id": "fd0058f9",
   "metadata": {},
   "source": [
    "An alternative is to create from a dictionary, where the keys are the column names and the values are lists of the data in the columns."
   ]
  },
  {
   "cell_type": "code",
   "execution_count": 55,
   "id": "1fea28e5",
   "metadata": {},
   "outputs": [],
   "source": [
    "df = pd.DataFrame({\"A\" : [1, 4, 1, 4], \n",
    "                   \"B\" : [2, 5,5, 2], \n",
    "                   \"C\" : [3, 6, 3, 6]})"
   ]
  },
  {
   "cell_type": "code",
   "execution_count": 56,
   "id": "bd2a8872",
   "metadata": {},
   "outputs": [
    {
     "data": {
      "text/html": [
       "<div>\n",
       "<style scoped>\n",
       "    .dataframe tbody tr th:only-of-type {\n",
       "        vertical-align: middle;\n",
       "    }\n",
       "\n",
       "    .dataframe tbody tr th {\n",
       "        vertical-align: top;\n",
       "    }\n",
       "\n",
       "    .dataframe thead th {\n",
       "        text-align: right;\n",
       "    }\n",
       "</style>\n",
       "<table border=\"1\" class=\"dataframe\">\n",
       "  <thead>\n",
       "    <tr style=\"text-align: right;\">\n",
       "      <th></th>\n",
       "      <th>A</th>\n",
       "      <th>B</th>\n",
       "      <th>C</th>\n",
       "    </tr>\n",
       "  </thead>\n",
       "  <tbody>\n",
       "    <tr>\n",
       "      <th>0</th>\n",
       "      <td>1</td>\n",
       "      <td>2</td>\n",
       "      <td>3</td>\n",
       "    </tr>\n",
       "    <tr>\n",
       "      <th>1</th>\n",
       "      <td>4</td>\n",
       "      <td>5</td>\n",
       "      <td>6</td>\n",
       "    </tr>\n",
       "    <tr>\n",
       "      <th>2</th>\n",
       "      <td>1</td>\n",
       "      <td>5</td>\n",
       "      <td>3</td>\n",
       "    </tr>\n",
       "    <tr>\n",
       "      <th>3</th>\n",
       "      <td>4</td>\n",
       "      <td>2</td>\n",
       "      <td>6</td>\n",
       "    </tr>\n",
       "  </tbody>\n",
       "</table>\n",
       "</div>"
      ],
      "text/plain": [
       "   A  B  C\n",
       "0  1  2  3\n",
       "1  4  5  6\n",
       "2  1  5  3\n",
       "3  4  2  6"
      ]
     },
     "execution_count": 56,
     "metadata": {},
     "output_type": "execute_result"
    }
   ],
   "source": [
    "df"
   ]
  },
  {
   "cell_type": "markdown",
   "id": "ed863b94",
   "metadata": {},
   "source": [
    "We can do all the same things to a `DataFrame` that we did to a two-dimensional NumPy array. For example, we can add a number to each element, we can subtract one `DataFrame` from another (if they have the same shape), and we can apply `np.sqrt` to each element.  A couple of examples should be enough:"
   ]
  },
  {
   "cell_type": "code",
   "execution_count": 57,
   "id": "a92d0b2e",
   "metadata": {},
   "outputs": [
    {
     "data": {
      "text/html": [
       "<div>\n",
       "<style scoped>\n",
       "    .dataframe tbody tr th:only-of-type {\n",
       "        vertical-align: middle;\n",
       "    }\n",
       "\n",
       "    .dataframe tbody tr th {\n",
       "        vertical-align: top;\n",
       "    }\n",
       "\n",
       "    .dataframe thead th {\n",
       "        text-align: right;\n",
       "    }\n",
       "</style>\n",
       "<table border=\"1\" class=\"dataframe\">\n",
       "  <thead>\n",
       "    <tr style=\"text-align: right;\">\n",
       "      <th></th>\n",
       "      <th>A</th>\n",
       "      <th>B</th>\n",
       "      <th>C</th>\n",
       "    </tr>\n",
       "  </thead>\n",
       "  <tbody>\n",
       "    <tr>\n",
       "      <th>0</th>\n",
       "      <td>1</td>\n",
       "      <td>4</td>\n",
       "      <td>9</td>\n",
       "    </tr>\n",
       "    <tr>\n",
       "      <th>1</th>\n",
       "      <td>16</td>\n",
       "      <td>25</td>\n",
       "      <td>36</td>\n",
       "    </tr>\n",
       "    <tr>\n",
       "      <th>2</th>\n",
       "      <td>1</td>\n",
       "      <td>25</td>\n",
       "      <td>9</td>\n",
       "    </tr>\n",
       "    <tr>\n",
       "      <th>3</th>\n",
       "      <td>16</td>\n",
       "      <td>4</td>\n",
       "      <td>36</td>\n",
       "    </tr>\n",
       "  </tbody>\n",
       "</table>\n",
       "</div>"
      ],
      "text/plain": [
       "    A   B   C\n",
       "0   1   4   9\n",
       "1  16  25  36\n",
       "2   1  25   9\n",
       "3  16   4  36"
      ]
     },
     "execution_count": 57,
     "metadata": {},
     "output_type": "execute_result"
    }
   ],
   "source": [
    "df ** 2"
   ]
  },
  {
   "cell_type": "code",
   "execution_count": 58,
   "id": "eaa732b0",
   "metadata": {},
   "outputs": [
    {
     "data": {
      "text/html": [
       "<div>\n",
       "<style scoped>\n",
       "    .dataframe tbody tr th:only-of-type {\n",
       "        vertical-align: middle;\n",
       "    }\n",
       "\n",
       "    .dataframe tbody tr th {\n",
       "        vertical-align: top;\n",
       "    }\n",
       "\n",
       "    .dataframe thead th {\n",
       "        text-align: right;\n",
       "    }\n",
       "</style>\n",
       "<table border=\"1\" class=\"dataframe\">\n",
       "  <thead>\n",
       "    <tr style=\"text-align: right;\">\n",
       "      <th></th>\n",
       "      <th>A</th>\n",
       "      <th>B</th>\n",
       "      <th>C</th>\n",
       "    </tr>\n",
       "  </thead>\n",
       "  <tbody>\n",
       "    <tr>\n",
       "      <th>0</th>\n",
       "      <td>1.0</td>\n",
       "      <td>1.414214</td>\n",
       "      <td>1.732051</td>\n",
       "    </tr>\n",
       "    <tr>\n",
       "      <th>1</th>\n",
       "      <td>2.0</td>\n",
       "      <td>2.236068</td>\n",
       "      <td>2.449490</td>\n",
       "    </tr>\n",
       "    <tr>\n",
       "      <th>2</th>\n",
       "      <td>1.0</td>\n",
       "      <td>2.236068</td>\n",
       "      <td>1.732051</td>\n",
       "    </tr>\n",
       "    <tr>\n",
       "      <th>3</th>\n",
       "      <td>2.0</td>\n",
       "      <td>1.414214</td>\n",
       "      <td>2.449490</td>\n",
       "    </tr>\n",
       "  </tbody>\n",
       "</table>\n",
       "</div>"
      ],
      "text/plain": [
       "     A         B         C\n",
       "0  1.0  1.414214  1.732051\n",
       "1  2.0  2.236068  2.449490\n",
       "2  1.0  2.236068  1.732051\n",
       "3  2.0  1.414214  2.449490"
      ]
     },
     "execution_count": 58,
     "metadata": {},
     "output_type": "execute_result"
    }
   ],
   "source": [
    "np.sqrt(df)"
   ]
  },
  {
   "cell_type": "markdown",
   "id": "b5073ddc",
   "metadata": {},
   "source": [
    "It's worth talking a little bit more about methods such as `sum`, `mean`, etc. We need to say whether we are applying the operation across values of the index (`axis=0`) or across values of the columns (`axis=1`) or to the whole `DataFrame` (`axis=None`):"
   ]
  },
  {
   "cell_type": "code",
   "execution_count": 59,
   "id": "e2a6ba27",
   "metadata": {},
   "outputs": [
    {
     "data": {
      "text/plain": [
       "3.5"
      ]
     },
     "execution_count": 59,
     "metadata": {},
     "output_type": "execute_result"
    }
   ],
   "source": [
    "df.mean(axis=None) "
   ]
  },
  {
   "cell_type": "code",
   "execution_count": 60,
   "id": "e7cbaf78",
   "metadata": {},
   "outputs": [
    {
     "data": {
      "text/plain": [
       "A    2.5\n",
       "B    3.5\n",
       "C    4.5\n",
       "dtype: float64"
      ]
     },
     "execution_count": 60,
     "metadata": {},
     "output_type": "execute_result"
    }
   ],
   "source": [
    "df.mean(axis=0) # This is the default"
   ]
  },
  {
   "cell_type": "code",
   "execution_count": 61,
   "id": "e0560f30",
   "metadata": {},
   "outputs": [
    {
     "data": {
      "text/plain": [
       "0    2.0\n",
       "1    5.0\n",
       "2    3.0\n",
       "3    4.0\n",
       "dtype: float64"
      ]
     },
     "execution_count": 61,
     "metadata": {},
     "output_type": "execute_result"
    }
   ],
   "source": [
    "df.mean(axis=1)"
   ]
  },
  {
   "cell_type": "markdown",
   "id": "ad51fb15",
   "metadata": {},
   "source": [
    "## Extracting rows and columns of a DataFrame"
   ]
  },
  {
   "cell_type": "code",
   "execution_count": 62,
   "id": "bc01d805",
   "metadata": {},
   "outputs": [],
   "source": [
    "df = pd.DataFrame([[1, 2, 3], [4, 5, 6], [1, 5, 3], [4, 2, 6]], columns=[\"A\", \"B\", \"C\"])"
   ]
  },
  {
   "cell_type": "code",
   "execution_count": 63,
   "id": "02e8917f",
   "metadata": {},
   "outputs": [
    {
     "data": {
      "text/html": [
       "<div>\n",
       "<style scoped>\n",
       "    .dataframe tbody tr th:only-of-type {\n",
       "        vertical-align: middle;\n",
       "    }\n",
       "\n",
       "    .dataframe tbody tr th {\n",
       "        vertical-align: top;\n",
       "    }\n",
       "\n",
       "    .dataframe thead th {\n",
       "        text-align: right;\n",
       "    }\n",
       "</style>\n",
       "<table border=\"1\" class=\"dataframe\">\n",
       "  <thead>\n",
       "    <tr style=\"text-align: right;\">\n",
       "      <th></th>\n",
       "      <th>A</th>\n",
       "      <th>B</th>\n",
       "      <th>C</th>\n",
       "    </tr>\n",
       "  </thead>\n",
       "  <tbody>\n",
       "    <tr>\n",
       "      <th>0</th>\n",
       "      <td>1</td>\n",
       "      <td>2</td>\n",
       "      <td>3</td>\n",
       "    </tr>\n",
       "    <tr>\n",
       "      <th>1</th>\n",
       "      <td>4</td>\n",
       "      <td>5</td>\n",
       "      <td>6</td>\n",
       "    </tr>\n",
       "    <tr>\n",
       "      <th>2</th>\n",
       "      <td>1</td>\n",
       "      <td>5</td>\n",
       "      <td>3</td>\n",
       "    </tr>\n",
       "    <tr>\n",
       "      <th>3</th>\n",
       "      <td>4</td>\n",
       "      <td>2</td>\n",
       "      <td>6</td>\n",
       "    </tr>\n",
       "  </tbody>\n",
       "</table>\n",
       "</div>"
      ],
      "text/plain": [
       "   A  B  C\n",
       "0  1  2  3\n",
       "1  4  5  6\n",
       "2  1  5  3\n",
       "3  4  2  6"
      ]
     },
     "execution_count": 63,
     "metadata": {},
     "output_type": "execute_result"
    }
   ],
   "source": [
    "df"
   ]
  },
  {
   "cell_type": "markdown",
   "id": "144ac41d",
   "metadata": {},
   "source": [
    "You can retrieve a whole column, as a `Series`, using column indexing:"
   ]
  },
  {
   "cell_type": "code",
   "execution_count": 64,
   "id": "b028b575",
   "metadata": {},
   "outputs": [
    {
     "data": {
      "text/plain": [
       "0    2\n",
       "1    5\n",
       "2    5\n",
       "3    2\n",
       "Name: B, dtype: int64"
      ]
     },
     "execution_count": 64,
     "metadata": {},
     "output_type": "execute_result"
    }
   ],
   "source": [
    "df[\"B\"]"
   ]
  },
  {
   "cell_type": "markdown",
   "id": "042b1b1e",
   "metadata": {},
   "source": [
    "If you ask for more than one column, then you must give them as a list (hence you'll have two pairs of brackets: one for indexing and the other because you are supplying a list). Then you don't get a Series, you get a DataFrame:"
   ]
  },
  {
   "cell_type": "code",
   "execution_count": 66,
   "id": "6ab6eed0",
   "metadata": {},
   "outputs": [
    {
     "data": {
      "text/html": [
       "<div>\n",
       "<style scoped>\n",
       "    .dataframe tbody tr th:only-of-type {\n",
       "        vertical-align: middle;\n",
       "    }\n",
       "\n",
       "    .dataframe tbody tr th {\n",
       "        vertical-align: top;\n",
       "    }\n",
       "\n",
       "    .dataframe thead th {\n",
       "        text-align: right;\n",
       "    }\n",
       "</style>\n",
       "<table border=\"1\" class=\"dataframe\">\n",
       "  <thead>\n",
       "    <tr style=\"text-align: right;\">\n",
       "      <th></th>\n",
       "      <th>A</th>\n",
       "      <th>B</th>\n",
       "    </tr>\n",
       "  </thead>\n",
       "  <tbody>\n",
       "    <tr>\n",
       "      <th>0</th>\n",
       "      <td>1</td>\n",
       "      <td>2</td>\n",
       "    </tr>\n",
       "    <tr>\n",
       "      <th>1</th>\n",
       "      <td>4</td>\n",
       "      <td>5</td>\n",
       "    </tr>\n",
       "    <tr>\n",
       "      <th>2</th>\n",
       "      <td>1</td>\n",
       "      <td>5</td>\n",
       "    </tr>\n",
       "    <tr>\n",
       "      <th>3</th>\n",
       "      <td>4</td>\n",
       "      <td>2</td>\n",
       "    </tr>\n",
       "  </tbody>\n",
       "</table>\n",
       "</div>"
      ],
      "text/plain": [
       "   A  B\n",
       "0  1  2\n",
       "1  4  5\n",
       "2  1  5\n",
       "3  4  2"
      ]
     },
     "execution_count": 66,
     "metadata": {},
     "output_type": "execute_result"
    }
   ],
   "source": [
    "df[[\"A\", \"B\"]]"
   ]
  },
  {
   "cell_type": "markdown",
   "id": "6a6cb65b",
   "metadata": {},
   "source": [
    "When we extract columns, as above, we get copies of the columns, rather than views."
   ]
  },
  {
   "cell_type": "markdown",
   "id": "285ba82b",
   "metadata": {},
   "source": [
    "How do we get an individual row? We cannot write `df[2]`, for example, because we have just seen that the square bracket notation is for accessing columns. Instead, you must use `loc` (index) or `iloc` (position). The result will be a `Series` and will be a view of the underlying data. If you are slicing, the result will be a `DataFrame` and will be a copy of the underlying data."
   ]
  },
  {
   "cell_type": "code",
   "execution_count": 67,
   "id": "75162b65",
   "metadata": {},
   "outputs": [
    {
     "data": {
      "text/plain": [
       "A    1\n",
       "B    5\n",
       "C    3\n",
       "Name: 2, dtype: int64"
      ]
     },
     "execution_count": 67,
     "metadata": {},
     "output_type": "execute_result"
    }
   ],
   "source": [
    "df.loc[2] # A view of this row"
   ]
  },
  {
   "cell_type": "code",
   "execution_count": 68,
   "id": "84d09ba6",
   "metadata": {},
   "outputs": [
    {
     "data": {
      "text/html": [
       "<div>\n",
       "<style scoped>\n",
       "    .dataframe tbody tr th:only-of-type {\n",
       "        vertical-align: middle;\n",
       "    }\n",
       "\n",
       "    .dataframe tbody tr th {\n",
       "        vertical-align: top;\n",
       "    }\n",
       "\n",
       "    .dataframe thead th {\n",
       "        text-align: right;\n",
       "    }\n",
       "</style>\n",
       "<table border=\"1\" class=\"dataframe\">\n",
       "  <thead>\n",
       "    <tr style=\"text-align: right;\">\n",
       "      <th></th>\n",
       "      <th>A</th>\n",
       "      <th>B</th>\n",
       "      <th>C</th>\n",
       "    </tr>\n",
       "  </thead>\n",
       "  <tbody>\n",
       "    <tr>\n",
       "      <th>2</th>\n",
       "      <td>1</td>\n",
       "      <td>5</td>\n",
       "      <td>3</td>\n",
       "    </tr>\n",
       "    <tr>\n",
       "      <th>3</th>\n",
       "      <td>4</td>\n",
       "      <td>2</td>\n",
       "      <td>6</td>\n",
       "    </tr>\n",
       "  </tbody>\n",
       "</table>\n",
       "</div>"
      ],
      "text/plain": [
       "   A  B  C\n",
       "2  1  5  3\n",
       "3  4  2  6"
      ]
     },
     "execution_count": 68,
     "metadata": {},
     "output_type": "execute_result"
    }
   ],
   "source": [
    "df.loc[2:3] # A copy of these rows"
   ]
  },
  {
   "cell_type": "markdown",
   "id": "820fd71c",
   "metadata": {},
   "source": [
    "How do we access an individual cell? We must specify both a column and a row. There are several ways."
   ]
  },
  {
   "cell_type": "code",
   "execution_count": 69,
   "id": "ff9603be",
   "metadata": {},
   "outputs": [
    {
     "data": {
      "text/plain": [
       "2"
      ]
     },
     "execution_count": 69,
     "metadata": {},
     "output_type": "execute_result"
    }
   ],
   "source": [
    "df[\"B\"][0] # Extract the column as a Series, then index into the Series"
   ]
  },
  {
   "cell_type": "code",
   "execution_count": 70,
   "id": "8a11082f",
   "metadata": {},
   "outputs": [
    {
     "data": {
      "text/plain": [
       "2"
      ]
     },
     "execution_count": 70,
     "metadata": {},
     "output_type": "execute_result"
    }
   ],
   "source": [
    "df[\"B\"].loc[0] # The same but being explicit that we want to use the index"
   ]
  },
  {
   "cell_type": "code",
   "execution_count": 71,
   "id": "5fcc7ed0",
   "metadata": {},
   "outputs": [
    {
     "data": {
      "text/plain": [
       "2"
      ]
     },
     "execution_count": 71,
     "metadata": {},
     "output_type": "execute_result"
    }
   ],
   "source": [
    "df[\"B\"].iloc[0] # The same but using position"
   ]
  },
  {
   "cell_type": "code",
   "execution_count": 72,
   "id": "2264e092",
   "metadata": {},
   "outputs": [
    {
     "data": {
      "text/plain": [
       "2"
      ]
     },
     "execution_count": 72,
     "metadata": {},
     "output_type": "execute_result"
    }
   ],
   "source": [
    "df.loc[0][\"B\"] # Extract the row as a Series using the index first, then index into the Series"
   ]
  },
  {
   "cell_type": "code",
   "execution_count": 73,
   "id": "d9f54fd3",
   "metadata": {},
   "outputs": [
    {
     "data": {
      "text/plain": [
       "2"
      ]
     },
     "execution_count": 73,
     "metadata": {},
     "output_type": "execute_result"
    }
   ],
   "source": [
    "df.iloc[0][\"B\"] # The same but using position"
   ]
  },
  {
   "cell_type": "markdown",
   "id": "2ca34dd5",
   "metadata": {},
   "source": [
    "And there is a shorthand version, where we write just one pair of brackets. In this case, we specify row first and then column. And this only works for `loc`."
   ]
  },
  {
   "cell_type": "code",
   "execution_count": 65,
   "id": "20bd3b14",
   "metadata": {},
   "outputs": [
    {
     "data": {
      "text/plain": [
       "2"
      ]
     },
     "execution_count": 65,
     "metadata": {},
     "output_type": "execute_result"
    }
   ],
   "source": [
    "df.loc[0, \"B\"] # Row whose index is 0, column \"B\""
   ]
  },
  {
   "cell_type": "markdown",
   "id": "2774f920",
   "metadata": {},
   "source": [
    "If you are changing a value, then the shorthand above is the *only* way of doing it. All the others raise exceptions."
   ]
  },
  {
   "cell_type": "code",
   "execution_count": 74,
   "id": "b08310fd",
   "metadata": {},
   "outputs": [],
   "source": [
    "df.loc[0, \"B\"] = 100 # Change the value in row whose index is 0, column \"B\""
   ]
  },
  {
   "cell_type": "code",
   "execution_count": 75,
   "id": "c133f19b",
   "metadata": {},
   "outputs": [
    {
     "data": {
      "text/html": [
       "<div>\n",
       "<style scoped>\n",
       "    .dataframe tbody tr th:only-of-type {\n",
       "        vertical-align: middle;\n",
       "    }\n",
       "\n",
       "    .dataframe tbody tr th {\n",
       "        vertical-align: top;\n",
       "    }\n",
       "\n",
       "    .dataframe thead th {\n",
       "        text-align: right;\n",
       "    }\n",
       "</style>\n",
       "<table border=\"1\" class=\"dataframe\">\n",
       "  <thead>\n",
       "    <tr style=\"text-align: right;\">\n",
       "      <th></th>\n",
       "      <th>A</th>\n",
       "      <th>B</th>\n",
       "      <th>C</th>\n",
       "    </tr>\n",
       "  </thead>\n",
       "  <tbody>\n",
       "    <tr>\n",
       "      <th>0</th>\n",
       "      <td>1</td>\n",
       "      <td>100</td>\n",
       "      <td>3</td>\n",
       "    </tr>\n",
       "    <tr>\n",
       "      <th>1</th>\n",
       "      <td>4</td>\n",
       "      <td>5</td>\n",
       "      <td>6</td>\n",
       "    </tr>\n",
       "    <tr>\n",
       "      <th>2</th>\n",
       "      <td>1</td>\n",
       "      <td>5</td>\n",
       "      <td>3</td>\n",
       "    </tr>\n",
       "    <tr>\n",
       "      <th>3</th>\n",
       "      <td>4</td>\n",
       "      <td>2</td>\n",
       "      <td>6</td>\n",
       "    </tr>\n",
       "  </tbody>\n",
       "</table>\n",
       "</div>"
      ],
      "text/plain": [
       "   A    B  C\n",
       "0  1  100  3\n",
       "1  4    5  6\n",
       "2  1    5  3\n",
       "3  4    2  6"
      ]
     },
     "execution_count": 75,
     "metadata": {},
     "output_type": "execute_result"
    }
   ],
   "source": [
    "df"
   ]
  },
  {
   "cell_type": "markdown",
   "id": "4cbdae8b",
   "metadata": {},
   "source": [
    "Again, let's repeat the point. This seems horrendous. But you should not be doing much indexing anyway!\n",
    "\n",
    "The exception is Boolean indexing. We're much more likely to want to select several rows (hence a `DataFrame`) using Boolean indexing. Typically, you will write a Boolean expression that defines a `Series` and then use that to index the `DataFrame`.\n",
    "\n",
    "For example, this Boolean expression extracts column \"C\" and compares elementwise with 6, giving a `Series` of Booleans:"
   ]
  },
  {
   "cell_type": "code",
   "execution_count": 76,
   "id": "67331700",
   "metadata": {},
   "outputs": [
    {
     "data": {
      "text/plain": [
       "0    False\n",
       "1     True\n",
       "2    False\n",
       "3     True\n",
       "Name: C, dtype: bool"
      ]
     },
     "execution_count": 76,
     "metadata": {},
     "output_type": "execute_result"
    }
   ],
   "source": [
    "df[\"C\"] == 6"
   ]
  },
  {
   "cell_type": "markdown",
   "id": "118e092f",
   "metadata": {},
   "source": [
    "And now let's use that as a Booelan index to select rows of `df`:"
   ]
  },
  {
   "cell_type": "code",
   "execution_count": 77,
   "id": "88b4f9c7",
   "metadata": {},
   "outputs": [
    {
     "data": {
      "text/html": [
       "<div>\n",
       "<style scoped>\n",
       "    .dataframe tbody tr th:only-of-type {\n",
       "        vertical-align: middle;\n",
       "    }\n",
       "\n",
       "    .dataframe tbody tr th {\n",
       "        vertical-align: top;\n",
       "    }\n",
       "\n",
       "    .dataframe thead th {\n",
       "        text-align: right;\n",
       "    }\n",
       "</style>\n",
       "<table border=\"1\" class=\"dataframe\">\n",
       "  <thead>\n",
       "    <tr style=\"text-align: right;\">\n",
       "      <th></th>\n",
       "      <th>A</th>\n",
       "      <th>B</th>\n",
       "      <th>C</th>\n",
       "    </tr>\n",
       "  </thead>\n",
       "  <tbody>\n",
       "    <tr>\n",
       "      <th>1</th>\n",
       "      <td>4</td>\n",
       "      <td>5</td>\n",
       "      <td>6</td>\n",
       "    </tr>\n",
       "    <tr>\n",
       "      <th>3</th>\n",
       "      <td>4</td>\n",
       "      <td>2</td>\n",
       "      <td>6</td>\n",
       "    </tr>\n",
       "  </tbody>\n",
       "</table>\n",
       "</div>"
      ],
      "text/plain": [
       "   A  B  C\n",
       "1  4  5  6\n",
       "3  4  2  6"
      ]
     },
     "execution_count": 77,
     "metadata": {},
     "output_type": "execute_result"
    }
   ],
   "source": [
    "df[ df[\"C\"] == 6 ]"
   ]
  },
  {
   "cell_type": "markdown",
   "id": "de1d3f91",
   "metadata": {},
   "source": [
    "<p>\n",
    "    We can do and, or and not (&, |, ~), with extra parentheses, e.g.\n",
    "</p>"
   ]
  },
  {
   "cell_type": "code",
   "execution_count": 78,
   "id": "2580d0c4",
   "metadata": {},
   "outputs": [
    {
     "data": {
      "text/html": [
       "<div>\n",
       "<style scoped>\n",
       "    .dataframe tbody tr th:only-of-type {\n",
       "        vertical-align: middle;\n",
       "    }\n",
       "\n",
       "    .dataframe tbody tr th {\n",
       "        vertical-align: top;\n",
       "    }\n",
       "\n",
       "    .dataframe thead th {\n",
       "        text-align: right;\n",
       "    }\n",
       "</style>\n",
       "<table border=\"1\" class=\"dataframe\">\n",
       "  <thead>\n",
       "    <tr style=\"text-align: right;\">\n",
       "      <th></th>\n",
       "      <th>A</th>\n",
       "      <th>B</th>\n",
       "      <th>C</th>\n",
       "    </tr>\n",
       "  </thead>\n",
       "  <tbody>\n",
       "    <tr>\n",
       "      <th>0</th>\n",
       "      <td>1</td>\n",
       "      <td>100</td>\n",
       "      <td>3</td>\n",
       "    </tr>\n",
       "    <tr>\n",
       "      <th>1</th>\n",
       "      <td>4</td>\n",
       "      <td>5</td>\n",
       "      <td>6</td>\n",
       "    </tr>\n",
       "    <tr>\n",
       "      <th>3</th>\n",
       "      <td>4</td>\n",
       "      <td>2</td>\n",
       "      <td>6</td>\n",
       "    </tr>\n",
       "  </tbody>\n",
       "</table>\n",
       "</div>"
      ],
      "text/plain": [
       "   A    B  C\n",
       "0  1  100  3\n",
       "1  4    5  6\n",
       "3  4    2  6"
      ]
     },
     "execution_count": 78,
     "metadata": {},
     "output_type": "execute_result"
    }
   ],
   "source": [
    "df[ (df[\"B\"] > 5) | (df[\"C\"] == 6) ]"
   ]
  },
  {
   "cell_type": "markdown",
   "id": "45b32305",
   "metadata": {},
   "source": [
    "## Deleting rows and columns of a DataFrame"
   ]
  },
  {
   "cell_type": "code",
   "execution_count": 79,
   "id": "b8f1060c",
   "metadata": {},
   "outputs": [],
   "source": [
    "original = pd.DataFrame([[1, 2, 3], [4, 5, 6], [1, 5, 3], [4, 2, 6]], columns=[\"A\", \"B\", \"C\"])"
   ]
  },
  {
   "cell_type": "code",
   "execution_count": 80,
   "id": "4767d3c2",
   "metadata": {},
   "outputs": [],
   "source": [
    "df = original.copy()"
   ]
  },
  {
   "cell_type": "markdown",
   "id": "f6b0d51c",
   "metadata": {},
   "source": [
    "We may want to delete rows or columns.\n",
    "\n",
    "One way is to extract the rows or columns that you wish to *keep* using the techniques from above, and then assign the result back to the original variable.\n",
    "\n",
    "For example, we know that `df[[\"A\", \"C\"]]` extracts columns \"A\" and \"C\" - in effect, dropping column \"B\". So we can write this:"
   ]
  },
  {
   "cell_type": "code",
   "execution_count": 81,
   "id": "a0b6a69b",
   "metadata": {},
   "outputs": [],
   "source": [
    "df = df[[\"A\", \"B\"]]"
   ]
  },
  {
   "cell_type": "code",
   "execution_count": 82,
   "id": "e32b55f6",
   "metadata": {},
   "outputs": [
    {
     "data": {
      "text/html": [
       "<div>\n",
       "<style scoped>\n",
       "    .dataframe tbody tr th:only-of-type {\n",
       "        vertical-align: middle;\n",
       "    }\n",
       "\n",
       "    .dataframe tbody tr th {\n",
       "        vertical-align: top;\n",
       "    }\n",
       "\n",
       "    .dataframe thead th {\n",
       "        text-align: right;\n",
       "    }\n",
       "</style>\n",
       "<table border=\"1\" class=\"dataframe\">\n",
       "  <thead>\n",
       "    <tr style=\"text-align: right;\">\n",
       "      <th></th>\n",
       "      <th>A</th>\n",
       "      <th>B</th>\n",
       "    </tr>\n",
       "  </thead>\n",
       "  <tbody>\n",
       "    <tr>\n",
       "      <th>0</th>\n",
       "      <td>1</td>\n",
       "      <td>2</td>\n",
       "    </tr>\n",
       "    <tr>\n",
       "      <th>1</th>\n",
       "      <td>4</td>\n",
       "      <td>5</td>\n",
       "    </tr>\n",
       "    <tr>\n",
       "      <th>2</th>\n",
       "      <td>1</td>\n",
       "      <td>5</td>\n",
       "    </tr>\n",
       "    <tr>\n",
       "      <th>3</th>\n",
       "      <td>4</td>\n",
       "      <td>2</td>\n",
       "    </tr>\n",
       "  </tbody>\n",
       "</table>\n",
       "</div>"
      ],
      "text/plain": [
       "   A  B\n",
       "0  1  2\n",
       "1  4  5\n",
       "2  1  5\n",
       "3  4  2"
      ]
     },
     "execution_count": 82,
     "metadata": {},
     "output_type": "execute_result"
    }
   ],
   "source": [
    "df"
   ]
  },
  {
   "cell_type": "markdown",
   "id": "de8eb845",
   "metadata": {},
   "source": [
    "Before the next example, let's undo what we just did."
   ]
  },
  {
   "cell_type": "code",
   "execution_count": 83,
   "id": "6a115c04",
   "metadata": {},
   "outputs": [],
   "source": [
    "df = original.copy()"
   ]
  },
  {
   "cell_type": "markdown",
   "id": "b27a77f4",
   "metadata": {},
   "source": [
    "In our next example, we get rid of some rows. We know that `df[ df[\"C\"] == 6 ]` extract rows where there is a 6 in column \"C\" - in effect dropping rows where this is not the case. So we can write this:"
   ]
  },
  {
   "cell_type": "code",
   "execution_count": 84,
   "id": "11f57b70",
   "metadata": {},
   "outputs": [],
   "source": [
    "df = df[ df[\"C\"] == 6 ]"
   ]
  },
  {
   "cell_type": "code",
   "execution_count": 85,
   "id": "57063c35",
   "metadata": {},
   "outputs": [
    {
     "data": {
      "text/html": [
       "<div>\n",
       "<style scoped>\n",
       "    .dataframe tbody tr th:only-of-type {\n",
       "        vertical-align: middle;\n",
       "    }\n",
       "\n",
       "    .dataframe tbody tr th {\n",
       "        vertical-align: top;\n",
       "    }\n",
       "\n",
       "    .dataframe thead th {\n",
       "        text-align: right;\n",
       "    }\n",
       "</style>\n",
       "<table border=\"1\" class=\"dataframe\">\n",
       "  <thead>\n",
       "    <tr style=\"text-align: right;\">\n",
       "      <th></th>\n",
       "      <th>A</th>\n",
       "      <th>B</th>\n",
       "      <th>C</th>\n",
       "    </tr>\n",
       "  </thead>\n",
       "  <tbody>\n",
       "    <tr>\n",
       "      <th>1</th>\n",
       "      <td>4</td>\n",
       "      <td>5</td>\n",
       "      <td>6</td>\n",
       "    </tr>\n",
       "    <tr>\n",
       "      <th>3</th>\n",
       "      <td>4</td>\n",
       "      <td>2</td>\n",
       "      <td>6</td>\n",
       "    </tr>\n",
       "  </tbody>\n",
       "</table>\n",
       "</div>"
      ],
      "text/plain": [
       "   A  B  C\n",
       "1  4  5  6\n",
       "3  4  2  6"
      ]
     },
     "execution_count": 85,
     "metadata": {},
     "output_type": "execute_result"
    }
   ],
   "source": [
    "df"
   ]
  },
  {
   "cell_type": "markdown",
   "id": "d651a049",
   "metadata": {},
   "source": [
    "In the two examples, we said what we wanted to keep and then assigned back to the original variable.\n",
    "\n",
    "For a more conventional approach to deletion, Pandas provides the `drop` method. You need to say whether you are deleting rows (dropping from the index, `axis=0`, the default) or columns (`axis=1`). By default, it will create a new `DataFrame`. If you want to update the original, you need to say `inplace=True`."
   ]
  },
  {
   "cell_type": "code",
   "execution_count": 86,
   "id": "c3b438a5",
   "metadata": {},
   "outputs": [],
   "source": [
    "df = original.copy()"
   ]
  },
  {
   "cell_type": "code",
   "execution_count": 87,
   "id": "ee8ccb56",
   "metadata": {},
   "outputs": [],
   "source": [
    "df.drop([\"A\"], axis=1, inplace=True) # Dropping column \"A\""
   ]
  },
  {
   "cell_type": "code",
   "execution_count": 88,
   "id": "b9fad39e",
   "metadata": {},
   "outputs": [
    {
     "data": {
      "text/html": [
       "<div>\n",
       "<style scoped>\n",
       "    .dataframe tbody tr th:only-of-type {\n",
       "        vertical-align: middle;\n",
       "    }\n",
       "\n",
       "    .dataframe tbody tr th {\n",
       "        vertical-align: top;\n",
       "    }\n",
       "\n",
       "    .dataframe thead th {\n",
       "        text-align: right;\n",
       "    }\n",
       "</style>\n",
       "<table border=\"1\" class=\"dataframe\">\n",
       "  <thead>\n",
       "    <tr style=\"text-align: right;\">\n",
       "      <th></th>\n",
       "      <th>B</th>\n",
       "      <th>C</th>\n",
       "    </tr>\n",
       "  </thead>\n",
       "  <tbody>\n",
       "    <tr>\n",
       "      <th>0</th>\n",
       "      <td>2</td>\n",
       "      <td>3</td>\n",
       "    </tr>\n",
       "    <tr>\n",
       "      <th>1</th>\n",
       "      <td>5</td>\n",
       "      <td>6</td>\n",
       "    </tr>\n",
       "    <tr>\n",
       "      <th>2</th>\n",
       "      <td>5</td>\n",
       "      <td>3</td>\n",
       "    </tr>\n",
       "    <tr>\n",
       "      <th>3</th>\n",
       "      <td>2</td>\n",
       "      <td>6</td>\n",
       "    </tr>\n",
       "  </tbody>\n",
       "</table>\n",
       "</div>"
      ],
      "text/plain": [
       "   B  C\n",
       "0  2  3\n",
       "1  5  6\n",
       "2  5  3\n",
       "3  2  6"
      ]
     },
     "execution_count": 88,
     "metadata": {},
     "output_type": "execute_result"
    }
   ],
   "source": [
    "df"
   ]
  },
  {
   "cell_type": "code",
   "execution_count": 89,
   "id": "812b886f",
   "metadata": {},
   "outputs": [],
   "source": [
    "df = original.copy()"
   ]
  },
  {
   "cell_type": "code",
   "execution_count": 90,
   "id": "c1ea5ac7",
   "metadata": {},
   "outputs": [],
   "source": [
    "df.drop([0, 3], inplace=True) # Dropping rows whose index values are 0 and 3"
   ]
  },
  {
   "cell_type": "code",
   "execution_count": 91,
   "id": "d1f6b332",
   "metadata": {},
   "outputs": [
    {
     "data": {
      "text/html": [
       "<div>\n",
       "<style scoped>\n",
       "    .dataframe tbody tr th:only-of-type {\n",
       "        vertical-align: middle;\n",
       "    }\n",
       "\n",
       "    .dataframe tbody tr th {\n",
       "        vertical-align: top;\n",
       "    }\n",
       "\n",
       "    .dataframe thead th {\n",
       "        text-align: right;\n",
       "    }\n",
       "</style>\n",
       "<table border=\"1\" class=\"dataframe\">\n",
       "  <thead>\n",
       "    <tr style=\"text-align: right;\">\n",
       "      <th></th>\n",
       "      <th>A</th>\n",
       "      <th>B</th>\n",
       "      <th>C</th>\n",
       "    </tr>\n",
       "  </thead>\n",
       "  <tbody>\n",
       "    <tr>\n",
       "      <th>1</th>\n",
       "      <td>4</td>\n",
       "      <td>5</td>\n",
       "      <td>6</td>\n",
       "    </tr>\n",
       "    <tr>\n",
       "      <th>2</th>\n",
       "      <td>1</td>\n",
       "      <td>5</td>\n",
       "      <td>3</td>\n",
       "    </tr>\n",
       "  </tbody>\n",
       "</table>\n",
       "</div>"
      ],
      "text/plain": [
       "   A  B  C\n",
       "1  4  5  6\n",
       "2  1  5  3"
      ]
     },
     "execution_count": 91,
     "metadata": {},
     "output_type": "execute_result"
    }
   ],
   "source": [
    "df"
   ]
  },
  {
   "cell_type": "code",
   "execution_count": 92,
   "id": "54d3cea8",
   "metadata": {},
   "outputs": [],
   "source": [
    "df = original.copy()"
   ]
  },
  {
   "cell_type": "code",
   "execution_count": 93,
   "id": "3e4e433a",
   "metadata": {},
   "outputs": [],
   "source": [
    "df.drop([0, 3], axis=0, inplace=True) # Same again, but being explicit"
   ]
  },
  {
   "cell_type": "code",
   "execution_count": 94,
   "id": "efd42f09",
   "metadata": {},
   "outputs": [
    {
     "data": {
      "text/html": [
       "<div>\n",
       "<style scoped>\n",
       "    .dataframe tbody tr th:only-of-type {\n",
       "        vertical-align: middle;\n",
       "    }\n",
       "\n",
       "    .dataframe tbody tr th {\n",
       "        vertical-align: top;\n",
       "    }\n",
       "\n",
       "    .dataframe thead th {\n",
       "        text-align: right;\n",
       "    }\n",
       "</style>\n",
       "<table border=\"1\" class=\"dataframe\">\n",
       "  <thead>\n",
       "    <tr style=\"text-align: right;\">\n",
       "      <th></th>\n",
       "      <th>A</th>\n",
       "      <th>B</th>\n",
       "      <th>C</th>\n",
       "    </tr>\n",
       "  </thead>\n",
       "  <tbody>\n",
       "    <tr>\n",
       "      <th>1</th>\n",
       "      <td>4</td>\n",
       "      <td>5</td>\n",
       "      <td>6</td>\n",
       "    </tr>\n",
       "    <tr>\n",
       "      <th>2</th>\n",
       "      <td>1</td>\n",
       "      <td>5</td>\n",
       "      <td>3</td>\n",
       "    </tr>\n",
       "  </tbody>\n",
       "</table>\n",
       "</div>"
      ],
      "text/plain": [
       "   A  B  C\n",
       "1  4  5  6\n",
       "2  1  5  3"
      ]
     },
     "execution_count": 94,
     "metadata": {},
     "output_type": "execute_result"
    }
   ],
   "source": [
    "df"
   ]
  },
  {
   "cell_type": "markdown",
   "id": "a71638e3",
   "metadata": {},
   "source": [
    "Of course, you can specify a Boolean index when dropping by row. But it's a bit cumbersome. The method of saying what you want to keep seems easier to me."
   ]
  },
  {
   "cell_type": "code",
   "execution_count": 95,
   "id": "07498c90",
   "metadata": {},
   "outputs": [],
   "source": [
    "df = original.copy()"
   ]
  },
  {
   "cell_type": "code",
   "execution_count": 96,
   "id": "b9fb50d9",
   "metadata": {},
   "outputs": [],
   "source": [
    "df.drop( df[df[\"C\"] != 6 ].index, inplace=True) # Dropping rows that don't have a 6 in column \"C\""
   ]
  },
  {
   "cell_type": "code",
   "execution_count": 97,
   "id": "5450a806",
   "metadata": {},
   "outputs": [
    {
     "data": {
      "text/html": [
       "<div>\n",
       "<style scoped>\n",
       "    .dataframe tbody tr th:only-of-type {\n",
       "        vertical-align: middle;\n",
       "    }\n",
       "\n",
       "    .dataframe tbody tr th {\n",
       "        vertical-align: top;\n",
       "    }\n",
       "\n",
       "    .dataframe thead th {\n",
       "        text-align: right;\n",
       "    }\n",
       "</style>\n",
       "<table border=\"1\" class=\"dataframe\">\n",
       "  <thead>\n",
       "    <tr style=\"text-align: right;\">\n",
       "      <th></th>\n",
       "      <th>A</th>\n",
       "      <th>B</th>\n",
       "      <th>C</th>\n",
       "    </tr>\n",
       "  </thead>\n",
       "  <tbody>\n",
       "    <tr>\n",
       "      <th>1</th>\n",
       "      <td>4</td>\n",
       "      <td>5</td>\n",
       "      <td>6</td>\n",
       "    </tr>\n",
       "    <tr>\n",
       "      <th>3</th>\n",
       "      <td>4</td>\n",
       "      <td>2</td>\n",
       "      <td>6</td>\n",
       "    </tr>\n",
       "  </tbody>\n",
       "</table>\n",
       "</div>"
      ],
      "text/plain": [
       "   A  B  C\n",
       "1  4  5  6\n",
       "3  4  2  6"
      ]
     },
     "execution_count": 97,
     "metadata": {},
     "output_type": "execute_result"
    }
   ],
   "source": [
    "df"
   ]
  },
  {
   "cell_type": "markdown",
   "id": "3ed4ba67",
   "metadata": {},
   "source": [
    "Very handy are two other methods for dropping rows. `drop_duplicates` and `drop_na`. The former looks for repeated rows and keeps only one of them. The latter looks for rows that contain `NaN` and drops them. In both cases, you can tell the method to look at only certain columns (using the `subset` argument) and to update the original (`inplace=True`). If you want to see the rows that will be dropped, then there is a method called `duplicated` and another (that we mentioned before) called `isna` - look them up if you ever need them."
   ]
  },
  {
   "cell_type": "markdown",
   "id": "90762d8b",
   "metadata": {},
   "source": [
    "Keep in mind that deletion of rows will mean that values in the index now differ from the positions of the rows. "
   ]
  },
  {
   "cell_type": "markdown",
   "id": "18e29140",
   "metadata": {},
   "source": [
    "## Creating DataFrames from CSV files"
   ]
  },
  {
   "cell_type": "markdown",
   "id": "20ed0268",
   "metadata": {},
   "source": [
    "Earlier, we created `DataFrames` from Python nested lists and dictionaries. This is fine if we are creating small `DataFrames`, e.g. for testing something. \n",
    "\n",
    "Much, much, much more common is to read the data in from a CSV file. Usually, the first line of the file contains the names of the columns. Then each subsequent line in the file becomes a row of data in the `DataFrame`.\n",
    "\n",
    "Take a look at the file called `stop_and_search_small.csv` in the `datasets` folder. We can read it in using the `pd.read_csv` function: we provide its pathname or a URL. For generality, we will jon the filename onto the pathame for the folder - that way we can change the location of the folder more easily. And, for even more generality, we'll anticipate working on Google Colab."
   ]
  },
  {
   "cell_type": "code",
   "execution_count": 98,
   "id": "f5bf5b26",
   "metadata": {},
   "outputs": [],
   "source": [
    "import os\n",
    "if 'google.colab' in str(get_ipython()):\n",
    "    from google.colab import drive\n",
    "    drive.mount('/content/drive')\n",
    "    base_dir = \"./drive/My Drive/Colab Notebooks/\" # You may need to change this, depending on where your notebooks are on Google Drive\n",
    "else:\n",
    "    base_dir = \".\"\n",
    "dataset_dir = os.path.join(base_dir, \"datasets\")"
   ]
  },
  {
   "cell_type": "code",
   "execution_count": 99,
   "id": "7bca80c7",
   "metadata": {},
   "outputs": [],
   "source": [
    "df = pd.read_csv(os.path.join(dataset_dir, \"stop_and_search_small.csv\"))"
   ]
  },
  {
   "cell_type": "markdown",
   "id": "b49ae4d5",
   "metadata": {},
   "source": [
    "We can take a cheeky look at the data."
   ]
  },
  {
   "cell_type": "code",
   "execution_count": 100,
   "id": "ac72a684",
   "metadata": {},
   "outputs": [
    {
     "data": {
      "text/html": [
       "<div>\n",
       "<style scoped>\n",
       "    .dataframe tbody tr th:only-of-type {\n",
       "        vertical-align: middle;\n",
       "    }\n",
       "\n",
       "    .dataframe tbody tr th {\n",
       "        vertical-align: top;\n",
       "    }\n",
       "\n",
       "    .dataframe thead th {\n",
       "        text-align: right;\n",
       "    }\n",
       "</style>\n",
       "<table border=\"1\" class=\"dataframe\">\n",
       "  <thead>\n",
       "    <tr style=\"text-align: right;\">\n",
       "      <th></th>\n",
       "      <th>Gender</th>\n",
       "      <th>Age</th>\n",
       "      <th>Suspect-ethnicity</th>\n",
       "      <th>Officer-ethnicity</th>\n",
       "      <th>Object-of-search</th>\n",
       "      <th>Outcome</th>\n",
       "    </tr>\n",
       "  </thead>\n",
       "  <tbody>\n",
       "    <tr>\n",
       "      <th>0</th>\n",
       "      <td>Male</td>\n",
       "      <td>NaN</td>\n",
       "      <td>Other ethnic group - Not stated</td>\n",
       "      <td>Black</td>\n",
       "      <td>Offensive weapons</td>\n",
       "      <td>A no further action disposal</td>\n",
       "    </tr>\n",
       "    <tr>\n",
       "      <th>1</th>\n",
       "      <td>Male</td>\n",
       "      <td>18-24</td>\n",
       "      <td>Other ethnic group - Not stated</td>\n",
       "      <td>Asian</td>\n",
       "      <td>Controlled drugs</td>\n",
       "      <td>A no further action disposal</td>\n",
       "    </tr>\n",
       "    <tr>\n",
       "      <th>2</th>\n",
       "      <td>Male</td>\n",
       "      <td>18-24</td>\n",
       "      <td>Other ethnic group - Not stated</td>\n",
       "      <td>Asian</td>\n",
       "      <td>Controlled drugs</td>\n",
       "      <td>A no further action disposal</td>\n",
       "    </tr>\n",
       "    <tr>\n",
       "      <th>3</th>\n",
       "      <td>Male</td>\n",
       "      <td>18-24</td>\n",
       "      <td>Other ethnic group - Not stated</td>\n",
       "      <td>Asian</td>\n",
       "      <td>Controlled drugs</td>\n",
       "      <td>Community resolution</td>\n",
       "    </tr>\n",
       "    <tr>\n",
       "      <th>4</th>\n",
       "      <td>Male</td>\n",
       "      <td>18-24</td>\n",
       "      <td>Other ethnic group - Not stated</td>\n",
       "      <td>Asian</td>\n",
       "      <td>Controlled drugs</td>\n",
       "      <td>Community resolution</td>\n",
       "    </tr>\n",
       "  </tbody>\n",
       "</table>\n",
       "</div>"
      ],
      "text/plain": [
       "  Gender    Age                Suspect-ethnicity Officer-ethnicity  \\\n",
       "0   Male    NaN  Other ethnic group - Not stated             Black   \n",
       "1   Male  18-24  Other ethnic group - Not stated             Asian   \n",
       "2   Male  18-24  Other ethnic group - Not stated             Asian   \n",
       "3   Male  18-24  Other ethnic group - Not stated             Asian   \n",
       "4   Male  18-24  Other ethnic group - Not stated             Asian   \n",
       "\n",
       "    Object-of-search                       Outcome  \n",
       "0  Offensive weapons  A no further action disposal  \n",
       "1   Controlled drugs  A no further action disposal  \n",
       "2   Controlled drugs  A no further action disposal  \n",
       "3   Controlled drugs          Community resolution  \n",
       "4   Controlled drugs          Community resolution  "
      ]
     },
     "execution_count": 100,
     "metadata": {},
     "output_type": "execute_result"
    }
   ],
   "source": [
    "df.head() # By default, shows the first 5 rows"
   ]
  },
  {
   "cell_type": "markdown",
   "id": "c12f4542",
   "metadata": {},
   "source": [
    "Already we see a problem: missing data. See the Age in row 0. \n",
    "\n",
    "In the CSV file, a pair of consecutive commas signals that a value is missing. But when Pandas reads the data in, it stores `NaN` for this value - as you know, `NaN` means 'not a number' and its type is float."
   ]
  },
  {
   "cell_type": "code",
   "execution_count": 101,
   "id": "cb17f4b6",
   "metadata": {},
   "outputs": [
    {
     "data": {
      "text/plain": [
       "Index(['Gender', 'Age', 'Suspect-ethnicity', 'Officer-ethnicity',\n",
       "       'Object-of-search', 'Outcome'],\n",
       "      dtype='object')"
      ]
     },
     "execution_count": 101,
     "metadata": {},
     "output_type": "execute_result"
    }
   ],
   "source": [
    "df.columns"
   ]
  },
  {
   "cell_type": "code",
   "execution_count": 102,
   "id": "43856ce1",
   "metadata": {},
   "outputs": [
    {
     "data": {
      "text/plain": [
       "Gender               object\n",
       "Age                  object\n",
       "Suspect-ethnicity    object\n",
       "Officer-ethnicity    object\n",
       "Object-of-search     object\n",
       "Outcome              object\n",
       "dtype: object"
      ]
     },
     "execution_count": 102,
     "metadata": {},
     "output_type": "execute_result"
    }
   ],
   "source": [
    "df.dtypes # Note dtypes, not dtype"
   ]
  },
  {
   "cell_type": "markdown",
   "id": "3fafe512",
   "metadata": {},
   "source": [
    "When a column's data type is `object`, it means that there are strings in the column."
   ]
  },
  {
   "cell_type": "code",
   "execution_count": 103,
   "id": "7686d33c",
   "metadata": {},
   "outputs": [
    {
     "data": {
      "text/plain": [
       "2"
      ]
     },
     "execution_count": 103,
     "metadata": {},
     "output_type": "execute_result"
    }
   ],
   "source": [
    "df.ndim"
   ]
  },
  {
   "cell_type": "code",
   "execution_count": 104,
   "id": "d32551d7",
   "metadata": {},
   "outputs": [
    {
     "data": {
      "text/plain": [
       "(40, 6)"
      ]
     },
     "execution_count": 104,
     "metadata": {},
     "output_type": "execute_result"
    }
   ],
   "source": [
    "df.shape"
   ]
  },
  {
   "cell_type": "code",
   "execution_count": 105,
   "id": "fd6cb400",
   "metadata": {},
   "outputs": [
    {
     "data": {
      "text/plain": [
       "40"
      ]
     },
     "execution_count": 105,
     "metadata": {},
     "output_type": "execute_result"
    }
   ],
   "source": [
    "len(df)"
   ]
  },
  {
   "cell_type": "code",
   "execution_count": 106,
   "id": "90036d16",
   "metadata": {},
   "outputs": [
    {
     "data": {
      "text/plain": [
       "240"
      ]
     },
     "execution_count": 106,
     "metadata": {},
     "output_type": "execute_result"
    }
   ],
   "source": [
    "df.size"
   ]
  },
  {
   "cell_type": "markdown",
   "id": "eb820fc9",
   "metadata": {},
   "source": [
    "The `info()` method provides a lot of the above information in one go. We can see the column names, the number of rows and columns, and the data types. We can see how many values are non-null. Non-null means neither `NaN` nor `None`. In particular, in this example, we see we are missing 4 values for `Age`."
   ]
  },
  {
   "cell_type": "code",
   "execution_count": 107,
   "id": "a61c8254",
   "metadata": {},
   "outputs": [
    {
     "name": "stdout",
     "output_type": "stream",
     "text": [
      "<class 'pandas.core.frame.DataFrame'>\n",
      "RangeIndex: 40 entries, 0 to 39\n",
      "Data columns (total 6 columns):\n",
      " #   Column             Non-Null Count  Dtype \n",
      "---  ------             --------------  ----- \n",
      " 0   Gender             40 non-null     object\n",
      " 1   Age                36 non-null     object\n",
      " 2   Suspect-ethnicity  40 non-null     object\n",
      " 3   Officer-ethnicity  40 non-null     object\n",
      " 4   Object-of-search   40 non-null     object\n",
      " 5   Outcome            40 non-null     object\n",
      "dtypes: object(6)\n",
      "memory usage: 2.0+ KB\n"
     ]
    }
   ],
   "source": [
    "df.info()"
   ]
  },
  {
   "cell_type": "markdown",
   "id": "c0912d69",
   "metadata": {},
   "source": [
    "The `describe()` method compute summary statistics. Where the `dtype` is `object`, it shows us `count` (how many non-nulls),  `unique` (how many distinct values, excluding nulls), `top` (the mode, the most frequent of the values) and `freq` (how many rows contain the mode).\n",
    "\n",
    "In a `DataFrame` that contains numeric columns, it shows other statistics, such as the mean and the median instead.\n",
    "\n",
    "If the `DataFrame` has numeric and non-numeric columns, we need to write `include=\"all\"`, otherwise it will only summarize the numeric columns."
   ]
  },
  {
   "cell_type": "code",
   "execution_count": 108,
   "id": "6faf04ce",
   "metadata": {},
   "outputs": [
    {
     "data": {
      "text/html": [
       "<div>\n",
       "<style scoped>\n",
       "    .dataframe tbody tr th:only-of-type {\n",
       "        vertical-align: middle;\n",
       "    }\n",
       "\n",
       "    .dataframe tbody tr th {\n",
       "        vertical-align: top;\n",
       "    }\n",
       "\n",
       "    .dataframe thead th {\n",
       "        text-align: right;\n",
       "    }\n",
       "</style>\n",
       "<table border=\"1\" class=\"dataframe\">\n",
       "  <thead>\n",
       "    <tr style=\"text-align: right;\">\n",
       "      <th></th>\n",
       "      <th>Gender</th>\n",
       "      <th>Age</th>\n",
       "      <th>Suspect-ethnicity</th>\n",
       "      <th>Officer-ethnicity</th>\n",
       "      <th>Object-of-search</th>\n",
       "      <th>Outcome</th>\n",
       "    </tr>\n",
       "  </thead>\n",
       "  <tbody>\n",
       "    <tr>\n",
       "      <th>count</th>\n",
       "      <td>40</td>\n",
       "      <td>36</td>\n",
       "      <td>40</td>\n",
       "      <td>40</td>\n",
       "      <td>40</td>\n",
       "      <td>40</td>\n",
       "    </tr>\n",
       "    <tr>\n",
       "      <th>unique</th>\n",
       "      <td>2</td>\n",
       "      <td>4</td>\n",
       "      <td>10</td>\n",
       "      <td>4</td>\n",
       "      <td>4</td>\n",
       "      <td>3</td>\n",
       "    </tr>\n",
       "    <tr>\n",
       "      <th>top</th>\n",
       "      <td>Male</td>\n",
       "      <td>18-24</td>\n",
       "      <td>Other ethnic group - Not stated</td>\n",
       "      <td>Black</td>\n",
       "      <td>Controlled drugs</td>\n",
       "      <td>A no further action disposal</td>\n",
       "    </tr>\n",
       "    <tr>\n",
       "      <th>freq</th>\n",
       "      <td>37</td>\n",
       "      <td>22</td>\n",
       "      <td>12</td>\n",
       "      <td>16</td>\n",
       "      <td>22</td>\n",
       "      <td>24</td>\n",
       "    </tr>\n",
       "  </tbody>\n",
       "</table>\n",
       "</div>"
      ],
      "text/plain": [
       "       Gender    Age                Suspect-ethnicity Officer-ethnicity  \\\n",
       "count      40     36                               40                40   \n",
       "unique      2      4                               10                 4   \n",
       "top      Male  18-24  Other ethnic group - Not stated             Black   \n",
       "freq       37     22                               12                16   \n",
       "\n",
       "        Object-of-search                       Outcome  \n",
       "count                 40                            40  \n",
       "unique                 4                             3  \n",
       "top     Controlled drugs  A no further action disposal  \n",
       "freq                  22                            24  "
      ]
     },
     "execution_count": 108,
     "metadata": {},
     "output_type": "execute_result"
    }
   ],
   "source": [
    "df.describe(include=\"all\")"
   ]
  },
  {
   "cell_type": "markdown",
   "id": "205a7997",
   "metadata": {},
   "source": [
    "You might want to see the unique values for each column: "
   ]
  },
  {
   "cell_type": "code",
   "execution_count": 109,
   "id": "274fdaaa",
   "metadata": {},
   "outputs": [
    {
     "name": "stdout",
     "output_type": "stream",
     "text": [
      "Gender ['Male' 'Female']\n",
      "Age [nan '18-24' '25-34' '10-17' 'over 34']\n",
      "Suspect-ethnicity ['Other ethnic group - Not stated' 'White - Any other White background'\n",
      " 'Asian/Asian British - Indian'\n",
      " 'Other ethnic group - Any other ethnic group'\n",
      " 'Black/African/Caribbean/Black British - Any other Black/African/Caribbean background'\n",
      " 'Black/African/Caribbean/Black British - African'\n",
      " 'Black/African/Caribbean/Black British - Caribbean'\n",
      " 'Mixed/Multiple ethnic groups - White and Black African'\n",
      " 'White - English/Welsh/Scottish/Northern Irish/British'\n",
      " 'Asian/Asian British - Any other Asian background']\n",
      "Officer-ethnicity ['Black' 'Asian' 'White' 'Other']\n",
      "Object-of-search ['Offensive weapons' 'Controlled drugs' 'Stolen goods'\n",
      " 'Evidence of offences under the Act']\n",
      "Outcome ['A no further action disposal' 'Community resolution' 'Arrest']\n"
     ]
    }
   ],
   "source": [
    "for col in df.columns:\n",
    "    print( col, df[col].unique() )"
   ]
  },
  {
   "cell_type": "markdown",
   "id": "89c0f325",
   "metadata": {},
   "source": [
    "Or even their frequencies:"
   ]
  },
  {
   "cell_type": "code",
   "execution_count": 110,
   "id": "a19d6e4c",
   "metadata": {},
   "outputs": [
    {
     "name": "stdout",
     "output_type": "stream",
     "text": [
      "Gender\n",
      "Male      37\n",
      "Female     3\n",
      "Name: count, dtype: int64\n",
      "\n",
      "Age\n",
      "18-24      22\n",
      "25-34       9\n",
      "10-17       3\n",
      "over 34     2\n",
      "Name: count, dtype: int64\n",
      "\n",
      "Suspect-ethnicity\n",
      "Other ethnic group - Not stated                                                         12\n",
      "White - Any other White background                                                       7\n",
      "Black/African/Caribbean/Black British - Any other Black/African/Caribbean background     5\n",
      "Asian/Asian British - Any other Asian background                                         4\n",
      "White - English/Welsh/Scottish/Northern Irish/British                                    4\n",
      "Black/African/Caribbean/Black British - Caribbean                                        3\n",
      "Black/African/Caribbean/Black British - African                                          2\n",
      "Other ethnic group - Any other ethnic group                                              1\n",
      "Asian/Asian British - Indian                                                             1\n",
      "Mixed/Multiple ethnic groups - White and Black African                                   1\n",
      "Name: count, dtype: int64\n",
      "\n",
      "Officer-ethnicity\n",
      "Black    16\n",
      "White    12\n",
      "Asian    11\n",
      "Other     1\n",
      "Name: count, dtype: int64\n",
      "\n",
      "Object-of-search\n",
      "Controlled drugs                      22\n",
      "Offensive weapons                      8\n",
      "Stolen goods                           6\n",
      "Evidence of offences under the Act     4\n",
      "Name: count, dtype: int64\n",
      "\n",
      "Outcome\n",
      "A no further action disposal    24\n",
      "Arrest                          11\n",
      "Community resolution             5\n",
      "Name: count, dtype: int64\n",
      "\n"
     ]
    }
   ],
   "source": [
    "for col in df.columns:\n",
    "    print( df[col].value_counts() )\n",
    "    print()"
   ]
  },
  {
   "cell_type": "markdown",
   "id": "8755dc3e",
   "metadata": {},
   "source": [
    "## Exercises"
   ]
  },
  {
   "cell_type": "markdown",
   "id": "43993a5a",
   "metadata": {},
   "source": [
    "**Exercise 1.** Write an expression that returns a `Series` of Booleans: True only where the police where looking for \"Stolen goods\"."
   ]
  },
  {
   "cell_type": "code",
   "execution_count": null,
   "id": "f9211545",
   "metadata": {},
   "outputs": [],
   "source": []
  },
  {
   "cell_type": "markdown",
   "id": "225a36e2",
   "metadata": {},
   "source": [
    "**Exercise 2.** Write an expression that extracts the rows where the police were looking for \"Stolen goods\"."
   ]
  },
  {
   "cell_type": "code",
   "execution_count": null,
   "id": "a10b32b8",
   "metadata": {},
   "outputs": [],
   "source": []
  },
  {
   "cell_type": "markdown",
   "id": "2a9e9bda",
   "metadata": {},
   "source": [
    "**Exercise 3.** Write an expression that calculates how many times the police were looking for \"Stolen goods\"."
   ]
  },
  {
   "cell_type": "code",
   "execution_count": null,
   "id": "0a0a6970",
   "metadata": {},
   "outputs": [],
   "source": []
  },
  {
   "cell_type": "markdown",
   "id": "c8f47d3d",
   "metadata": {},
   "source": [
    "**Exercise 4.** What proportion of stop-and-searches result in an arrest?"
   ]
  },
  {
   "cell_type": "code",
   "execution_count": null,
   "id": "23cf7407",
   "metadata": {},
   "outputs": [],
   "source": []
  },
  {
   "cell_type": "markdown",
   "id": "366a7a7b",
   "metadata": {},
   "source": [
    "**Exercise 5.** Extract the rows where a white officer stops and searches a white suspect."
   ]
  },
  {
   "cell_type": "code",
   "execution_count": null,
   "id": "65b23ede",
   "metadata": {},
   "outputs": [],
   "source": []
  },
  {
   "cell_type": "markdown",
   "id": "5dee4c37",
   "metadata": {},
   "source": [
    "The dataset we've been using above is only a small extraxt from a much larger dataset which contains all stop-and-searches by Thames Valley Police for about a year (mid-2018 to mid-2019).\n",
    "\n",
    "Read it in and see its shape by executing the next two cells."
   ]
  },
  {
   "cell_type": "code",
   "execution_count": 116,
   "id": "cfafb5f6",
   "metadata": {},
   "outputs": [],
   "source": [
    "df = pd.read_csv(os.path.join(dataset_dir, \"stop_and_search.csv\"))"
   ]
  },
  {
   "cell_type": "code",
   "execution_count": 117,
   "id": "c4697db7",
   "metadata": {},
   "outputs": [
    {
     "data": {
      "text/plain": [
       "(169418, 6)"
      ]
     },
     "execution_count": 117,
     "metadata": {},
     "output_type": "execute_result"
    }
   ],
   "source": [
    "df.shape"
   ]
  },
  {
   "cell_type": "markdown",
   "id": "d66991c2",
   "metadata": {},
   "source": [
    "**Exercise 6.** Working in pairs if you wish, answer the following question: Are the Thames Valley Police racist?"
   ]
  },
  {
   "cell_type": "code",
   "execution_count": null,
   "id": "44d17f5a",
   "metadata": {},
   "outputs": [],
   "source": []
  },
  {
   "cell_type": "markdown",
   "id": "1346b46e",
   "metadata": {},
   "source": [
    "It's interesting that UK Police Forces publish such data. You can find more like it [here](https://data.police.uk/data/). The release is one example of a movement in modern democracies towards more open government. The UK Police Forces' data is far from perfect; for example, the Metropoliton Police publish some data, not stop-and-search data. (What are they hiding?)\n",
    "\n",
    "An Garda Síochána publish some statistics [here](https://www.garda.ie/en/information-centre/statistics/). But they prefer PDFs of summary statistics, rather than raw data that we can explore for ourselves.\n",
    "\n",
    "Think about what kind of open data you would like in a modern democracy."
   ]
  },
  {
   "cell_type": "code",
   "execution_count": null,
   "id": "1375fd13",
   "metadata": {},
   "outputs": [],
   "source": []
  }
 ],
 "metadata": {},
 "nbformat": 4,
 "nbformat_minor": 5
}
