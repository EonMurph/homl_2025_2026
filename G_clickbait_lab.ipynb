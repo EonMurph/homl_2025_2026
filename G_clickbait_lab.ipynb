{
 "cells": [
  {
   "cell_type": "markdown",
   "id": "ec02c415-becb-4625-bd39-7eea8a052bb2",
   "metadata": {},
   "source": [
    "# G: Clickbait"
   ]
  },
  {
   "cell_type": "markdown",
   "id": "a430b476-c904-4c9f-a02d-8aedeff89830",
   "metadata": {},
   "source": [
    "The best thing to do in this lab session is finalize your work on the first continuous assessment.\n",
    "\n",
    "However, if you would like to try out a text classification task, then I have one for you. The dataset (which is in `clickbait.csv`) contains 32000 headlines, manually labeled as either \"clickbait\" or \"news\". The dataset comes from [https://github.com/bhargaviparanjape/clickbait](https://github.com/bhargaviparanjape/clickbait)\n",
    "\n",
    "Try out some text classifiers. I spent 5 minutes on it and got 92% accuracy at my first attempt. Can you do better? Call me over to show me anything interesting. Once you've finished, get on with the continuous assessment.\n",
    "\n",
    "There are no hints and no answers in this lab sheet. "
   ]
  },
  {
   "cell_type": "code",
   "execution_count": 1,
   "id": "ab70af10-b3ab-47be-ad57-e3209458491c",
   "metadata": {},
   "outputs": [],
   "source": [
    "import pandas as pd\n",
    "import numpy as np"
   ]
  },
  {
   "cell_type": "code",
   "execution_count": 2,
   "id": "21ac92b8-491d-4ed2-886d-ea6c57d168de",
   "metadata": {},
   "outputs": [],
   "source": [
    "rng = np.random.RandomState(2)"
   ]
  },
  {
   "cell_type": "code",
   "execution_count": 4,
   "id": "d901d213-6e61-4ac5-86fb-363f12e05eec",
   "metadata": {},
   "outputs": [],
   "source": [
    "import os\n",
    "if 'google.colab' in str(get_ipython()):\n",
    "    from google.colab import drive\n",
    "    drive.mount('/content/drive')\n",
    "    base_dir = \"./drive/My Drive/Colab Notebooks/\" # You may need to change this, depending on where your notebooks are on Google Drive\n",
    "else:\n",
    "    base_dir = \".\"\n",
    "dataset_dir = os.path.join(base_dir, \"datasets\")"
   ]
  },
  {
   "cell_type": "code",
   "execution_count": 5,
   "id": "0393d343-bdca-421a-b950-424f19d79703",
   "metadata": {},
   "outputs": [],
   "source": [
    "df = pd.read_csv(os.path.join(dataset_dir, \"clickbait.csv\"))"
   ]
  },
  {
   "cell_type": "code",
   "execution_count": null,
   "id": "374d1dcf-8fd4-473e-aed3-6747d075308d",
   "metadata": {},
   "outputs": [],
   "source": []
  }
 ],
 "metadata": {},
 "nbformat": 4,
 "nbformat_minor": 5
}
