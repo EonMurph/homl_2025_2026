{
 "cells": [
  {
   "cell_type": "markdown",
   "id": "ec02c415-becb-4625-bd39-7eea8a052bb2",
   "metadata": {},
   "source": [
    "# Binary Classification"
   ]
  },
  {
   "cell_type": "code",
   "execution_count": null,
   "id": "fac60507",
   "metadata": {},
   "outputs": [],
   "source": [
    "import pandas as pd\n",
    "import numpy as np\n",
    "import matplotlib.pyplot as plt\n",
    "import seaborn as sns\n",
    "\n",
    "from sklearn.preprocessing import LabelEncoder\n",
    "\n",
    "from sklearn.model_selection import train_test_split\n",
    "\n",
    "from sklearn.tree import DecisionTreeClassifier\n",
    "\n",
    "from sklearn.metrics import accuracy_score\n",
    "\n",
    "from sklearn.tree import plot_tree\n",
    "from sklearn.inspection import DecisionBoundaryDisplay"
   ]
  },
  {
   "cell_type": "code",
   "execution_count": null,
   "id": "f0c57002-fa8d-4cc6-919b-c18db1bee877",
   "metadata": {},
   "outputs": [],
   "source": [
    "rng = np.random.RandomState(2)"
   ]
  },
  {
   "cell_type": "markdown",
   "id": "7469813b-e0c5-45b1-8f34-c4b60d89fcbe",
   "metadata": {},
   "source": [
    "## Read in dataset"
   ]
  },
  {
   "cell_type": "code",
   "execution_count": null,
   "id": "139d0d44-21c7-48c6-af92-748565c04458",
   "metadata": {},
   "outputs": [],
   "source": [
    "import os\n",
    "if 'google.colab' in str(get_ipython()):\n",
    "    from google.colab import drive\n",
    "    drive.mount('/content/drive')\n",
    "    base_dir = \"./drive/My Drive/Colab Notebooks/\" # You may need to change this, depending on where your notebooks are on Google Drive\n",
    "else:\n",
    "    base_dir = \".\"\n",
    "dataset_dir = os.path.join(base_dir, \"datasets\")"
   ]
  },
  {
   "cell_type": "code",
   "execution_count": null,
   "id": "19252902",
   "metadata": {},
   "outputs": [],
   "source": [
    "df = pd.read_csv(os.path.join(dataset_dir, \"cs1109.csv\"))"
   ]
  },
  {
   "cell_type": "markdown",
   "id": "7543c79d-a8f3-489d-ae6b-5620c6a06e65",
   "metadata": {},
   "source": [
    "## Take a cheeky look"
   ]
  },
  {
   "cell_type": "code",
   "execution_count": null,
   "id": "26f6f1b4-0444-4013-bbcb-ce634c0dba03",
   "metadata": {},
   "outputs": [],
   "source": [
    "df.head()"
   ]
  },
  {
   "cell_type": "code",
   "execution_count": null,
   "id": "cc5f1ce9-814f-4957-bd97-ca2212c1077a",
   "metadata": {},
   "outputs": [],
   "source": [
    "df.shape"
   ]
  },
  {
   "cell_type": "code",
   "execution_count": null,
   "id": "961a083c-7eb1-4bf5-80da-54eb723f8464",
   "metadata": {},
   "outputs": [],
   "source": [
    "df.info()"
   ]
  },
  {
   "cell_type": "code",
   "execution_count": null,
   "id": "496bfb39-7e31-45fa-a785-360ca1ad07c5",
   "metadata": {},
   "outputs": [],
   "source": [
    "df.describe(include=\"all\")"
   ]
  },
  {
   "cell_type": "code",
   "execution_count": null,
   "id": "9689df3e-2b7d-4a8a-bd2a-e2b78326e882",
   "metadata": {},
   "outputs": [],
   "source": [
    "# Proportion of the dataset who passed\n",
    "\n",
    "print((df[\"outcome\"] == \"Pass\").sum() / df.shape[0])"
   ]
  },
  {
   "cell_type": "code",
   "execution_count": null,
   "id": "402c658c-cf73-43a1-856e-08b05cc1bc1c",
   "metadata": {},
   "outputs": [],
   "source": [
    "features = [\"lect\", \"lab\"]\n",
    "\n",
    "X = df[features]\n",
    "\n",
    "label_encoder = LabelEncoder()\n",
    "y = label_encoder.fit_transform(df[\"outcome\"])"
   ]
  },
  {
   "cell_type": "code",
   "execution_count": null,
   "id": "988aae19-8369-4d61-8c61-2be9a00b3ff9",
   "metadata": {},
   "outputs": [],
   "source": [
    "label_encoder.inverse_transform([0, 1])"
   ]
  },
  {
   "cell_type": "markdown",
   "id": "179d6efb-651f-403b-bbbc-d27b15a04602",
   "metadata": {},
   "source": [
    "## Split into training set and test set - stratified holdout"
   ]
  },
  {
   "cell_type": "code",
   "execution_count": null,
   "id": "29697efd-d658-43b3-bc13-32e644f3f69e",
   "metadata": {},
   "outputs": [],
   "source": [
    "X_train, X_test, y_train, y_test = train_test_split(X, y, test_size=0.2, stratify=df[\"outcome\"], random_state=rng)"
   ]
  },
  {
   "cell_type": "code",
   "execution_count": null,
   "id": "5ab72445-c117-4993-8eb7-040fc2528dcc",
   "metadata": {},
   "outputs": [],
   "source": [
    "# Proportion of training set who passed, and same for the test set\n",
    "\n",
    "y_train.sum() / y_train.shape[0], y_test.sum() / y_test.shape[0]"
   ]
  },
  {
   "cell_type": "markdown",
   "id": "b21108ef-2121-4a93-a246-1cf7015d84c4",
   "metadata": {},
   "source": [
    "## Exploratory Data Analysis (EDA) - it's safe now - on the training set"
   ]
  },
  {
   "cell_type": "code",
   "execution_count": null,
   "id": "9fe1ca46-40fd-478f-8cd6-e0b3d167828f",
   "metadata": {},
   "outputs": [],
   "source": [
    "# Histograms\n",
    "\n",
    "fig, axes = plt.subplots(1, 2, figsize=(10, 5))\n",
    "sns.histplot(data=X_train, x=\"lect\", binwidth=10, ax=axes[0])\n",
    "sns.histplot(data=X_train, x=\"lab\", binwidth=10, ax=axes[1])\n",
    "plt.show()"
   ]
  },
  {
   "cell_type": "code",
   "execution_count": null,
   "id": "95c6cf71-b5ef-4e59-85f0-3ccbd19a0d4e",
   "metadata": {},
   "outputs": [],
   "source": [
    "# Histograms within class\n",
    "\n",
    "fig, axes = plt.subplots(1, 2, figsize=(10, 5))\n",
    "sns.histplot(data=X_train, x=\"lect\", hue=y_train, binwidth=10, multiple=\"stack\", ax=axes[0])\n",
    "sns.histplot(data=X_train, x=\"lab\", hue=y_train, binwidth=10, multiple=\"stack\", ax=axes[1])\n",
    "plt.show()"
   ]
  },
  {
   "cell_type": "code",
   "execution_count": null,
   "id": "4cbe85bf-ae82-4c03-863b-8cef040dcb10",
   "metadata": {},
   "outputs": [],
   "source": [
    "# Scatter plot\n",
    "\n",
    "plot = sns.scatterplot(data=X_train, x=\"lect\", y=\"lab\", hue=y_train, style=y_train)"
   ]
  },
  {
   "cell_type": "code",
   "execution_count": null,
   "id": "b3990277-7f5a-4f82-b033-5a8e00d326a8",
   "metadata": {},
   "outputs": [],
   "source": [
    "# Strip plots - with jitter!\n",
    "\n",
    "fig, axes = plt.subplots(1, 2, figsize=(10, 5))\n",
    "sns.stripplot(data=X_train, y=\"lect\", x=y_train, ax=axes[0])\n",
    "sns.stripplot(data=X_train, y=\"lab\", x=y_train, ax=axes[1])\n",
    "plt.show()"
   ]
  },
  {
   "cell_type": "code",
   "execution_count": null,
   "id": "e8b7eb88-ecdd-429a-a29b-52a7c1502308",
   "metadata": {},
   "outputs": [],
   "source": [
    "# Box-and-whisker plots\n",
    "\n",
    "fig, axes = plt.subplots(1, 2, figsize=(10, 5))\n",
    "sns.boxplot(data=X_train, y=\"lect\", x=y_train, ax=axes[0])\n",
    "sns.boxplot(data=X_train, y=\"lab\", x=y_train, ax=axes[1])\n",
    "plt.show()"
   ]
  },
  {
   "cell_type": "markdown",
   "id": "df17b621-fcb4-4f28-9e30-c289ec97864a",
   "metadata": {},
   "source": [
    "## Train: fit a Decision Tree to the training set"
   ]
  },
  {
   "cell_type": "code",
   "execution_count": null,
   "id": "e71f1dc4-3670-49d2-b1dd-682a66caa0be",
   "metadata": {},
   "outputs": [],
   "source": [
    "decision_tree = DecisionTreeClassifier(max_depth=3, random_state=rng)"
   ]
  },
  {
   "cell_type": "code",
   "execution_count": null,
   "id": "b86112a7-7e45-4d74-9c80-6e812a56dfd3",
   "metadata": {},
   "outputs": [],
   "source": [
    "decision_tree.fit(X_train, y_train)"
   ]
  },
  {
   "cell_type": "markdown",
   "id": "d9af5390-eefc-4aad-8d03-6400cfa6b8fc",
   "metadata": {},
   "source": [
    "## Visualise the model (tree) it has learned"
   ]
  },
  {
   "cell_type": "code",
   "execution_count": null,
   "id": "7e045b75-d032-42ad-8f15-125de8b733b2",
   "metadata": {},
   "outputs": [],
   "source": [
    "fig = plt.figure(figsize=(20,8))\n",
    "plot_tree(decision_tree, feature_names=features, class_names=[\"Fail\", \"Pass\"], fontsize=12)\n",
    "plt.show()"
   ]
  },
  {
   "cell_type": "markdown",
   "id": "aab203c2-aa93-4321-b19b-b0f6c7f4f74a",
   "metadata": {},
   "source": [
    "## Inference - let's make some predictions"
   ]
  },
  {
   "cell_type": "code",
   "execution_count": null,
   "id": "077fc8fb-4b59-42da-a3c0-ae119616f70f",
   "metadata": {},
   "outputs": [],
   "source": [
    "students = pd.DataFrame([[60, 25], [80, 90], [95, 70]], columns=[\"lect\", \"lab\"])"
   ]
  },
  {
   "cell_type": "code",
   "execution_count": null,
   "id": "382f6d18-c068-451f-8343-95865a8a4bef",
   "metadata": {},
   "outputs": [],
   "source": [
    "label_encoder.inverse_transform(decision_tree.predict(students))"
   ]
  },
  {
   "cell_type": "code",
   "execution_count": null,
   "id": "57506bc0-4821-4393-a536-0d35efdd4f6b",
   "metadata": {},
   "outputs": [],
   "source": [
    "decision_tree.predict_proba(students)"
   ]
  },
  {
   "cell_type": "markdown",
   "id": "79ae2f33-af1f-43a8-9923-bd1d824a4c6a",
   "metadata": {},
   "source": [
    "## Visualise what it has learned"
   ]
  },
  {
   "cell_type": "code",
   "execution_count": null,
   "id": "a4250fe4-c68e-4573-9469-cabeeb86ea57",
   "metadata": {},
   "outputs": [],
   "source": [
    "fig, ax = plt.subplots()\n",
    "DecisionBoundaryDisplay.from_estimator(\n",
    "    decision_tree, X_train, cmap=plt.cm.RdBu, response_method=\"predict\", xlabel=\"lect\", ylabel=\"lab\", ax=ax)\n",
    "sns.scatterplot(data=X_train, x=\"lect\", y=\"lab\", hue=y_train, style=y_train, ax=ax)\n",
    "plt.show()"
   ]
  },
  {
   "cell_type": "markdown",
   "id": "a4cd6068-807b-4211-87bf-5eb7d680f9a3",
   "metadata": {},
   "source": [
    "## Interpretability and Explainability"
   ]
  },
  {
   "cell_type": "code",
   "execution_count": null,
   "id": "28e7c6ca-4846-45af-b839-124014afe95e",
   "metadata": {},
   "outputs": [],
   "source": [
    "# Based on code from https://scikit-learn.org/stable/auto_examples/tree/plot_unveil_tree_structure.html\n",
    "# My code assumes Pandas DataFrames with column names both for X and for the data the tree was trained on. \n",
    "\n",
    "def explain(decision_tree, X):\n",
    "    features = decision_tree.tree_.feature\n",
    "    thresholds = decision_tree.tree_.threshold\n",
    "    node_indicator = decision_tree.decision_path(X)\n",
    "    leaf_ids = decision_tree.apply(X)\n",
    "    explanations = []\n",
    "    for i in range(X.shape[0]):\n",
    "        explanation = []\n",
    "        node_index = node_indicator.indices[node_indicator.indptr[i] : node_indicator.indptr[i + 1]]\n",
    "        for node_id in node_index:\n",
    "            if leaf_ids[i] == node_id:\n",
    "                continue\n",
    "            sign = \"<=\" if X.at[i, df.columns[features[node_id]]] <= thresholds[node_id] else \">\"\n",
    "            explanation.append(\"({feature} = {value}) {sign} {threshold}\".format(\n",
    "                feature=df.columns[features[node_id]], \n",
    "                value=X.at[i, df.columns[features[node_id]]], \n",
    "                sign=sign, \n",
    "                threshold=thresholds[node_id]))\n",
    "        explanations.append(explanation)\n",
    "    return explanations"
   ]
  },
  {
   "cell_type": "code",
   "execution_count": null,
   "id": "22a2bbba-5f24-407f-bd7d-24f7e8b47235",
   "metadata": {},
   "outputs": [],
   "source": [
    "explain(decision_tree, students)"
   ]
  },
  {
   "cell_type": "markdown",
   "id": "b3789b95-1475-46e0-99c7-f84edec8e201",
   "metadata": {},
   "source": [
    "## Error estimation - evaluate the model - accuracy"
   ]
  },
  {
   "cell_type": "code",
   "execution_count": null,
   "id": "55ab1594-0218-47b0-9d6a-8ff3218fe493",
   "metadata": {},
   "outputs": [],
   "source": [
    "accuracy_score(decision_tree.predict(X_test), y_test)"
   ]
  },
  {
   "cell_type": "markdown",
   "id": "84352c95-0bbb-4d5c-8089-91012c3da30a",
   "metadata": {},
   "source": [
    "## What happens if we increase the maximum depth?"
   ]
  },
  {
   "cell_type": "code",
   "execution_count": null,
   "id": "a4b5915f-ab36-413b-ab1a-bb9f46394c83",
   "metadata": {},
   "outputs": [],
   "source": [
    "decision_tree = DecisionTreeClassifier(max_depth=4, random_state=rng)"
   ]
  },
  {
   "cell_type": "code",
   "execution_count": null,
   "id": "ab90b9cb-0a20-4283-ab31-4fb2bffc1134",
   "metadata": {},
   "outputs": [],
   "source": [
    "decision_tree.fit(X_train, y_train)"
   ]
  },
  {
   "cell_type": "code",
   "execution_count": null,
   "id": "fa3dc0e2-c624-4494-82e2-3a2c75033ea8",
   "metadata": {},
   "outputs": [],
   "source": [
    "fig = plt.figure(figsize=(20,8))\n",
    "plot_tree(decision_tree, feature_names=features, class_names=[\"Fail\", \"Pass\"], fontsize=10, label=\"none\")\n",
    "plt.show()"
   ]
  },
  {
   "cell_type": "code",
   "execution_count": null,
   "id": "2cab5ec5-84d5-4c90-9661-5f94e0c2187c",
   "metadata": {},
   "outputs": [],
   "source": [
    "fig, ax = plt.subplots()\n",
    "DecisionBoundaryDisplay.from_estimator(\n",
    "    decision_tree, X_train, cmap=plt.cm.RdBu, response_method=\"predict\", xlabel=\"lect\", ylabel=\"lab\", ax=ax)\n",
    "sns.scatterplot(data=X_train, x=\"lect\", y=\"lab\", hue=y_train, style=y_train, ax=ax)\n",
    "plt.show()"
   ]
  },
  {
   "cell_type": "code",
   "execution_count": null,
   "id": "714a6d6a-0c02-4d1e-8fa5-40b4e535bbc7",
   "metadata": {},
   "outputs": [],
   "source": [
    "accuracy_score(decision_tree.predict(X_test), y_test)"
   ]
  },
  {
   "cell_type": "markdown",
   "id": "c0dda979-bc9b-4219-9619-1faa8422122c",
   "metadata": {},
   "source": [
    "## What if we have no maximum depth?"
   ]
  },
  {
   "cell_type": "code",
   "execution_count": null,
   "id": "eaad2bbd-c903-4812-af60-15919572cbf0",
   "metadata": {},
   "outputs": [],
   "source": [
    "decision_tree = DecisionTreeClassifier(random_state=rng)"
   ]
  },
  {
   "cell_type": "code",
   "execution_count": null,
   "id": "bdc47018-ced9-45f7-a00b-0b2f02974066",
   "metadata": {},
   "outputs": [],
   "source": [
    "decision_tree.fit(X_train, y_train)"
   ]
  },
  {
   "cell_type": "code",
   "execution_count": null,
   "id": "04a1802d-f539-43ea-918f-28094072e5c5",
   "metadata": {},
   "outputs": [],
   "source": [
    "fig = plt.figure(figsize=(20,8))\n",
    "plot_tree(decision_tree, feature_names=features, class_names=[\"Fail\", \"Pass\"], fontsize=1, label=\"none\")\n",
    "plt.show()"
   ]
  },
  {
   "cell_type": "code",
   "execution_count": null,
   "id": "3e443e7f-532f-4bb7-89ed-5219f0b607da",
   "metadata": {},
   "outputs": [],
   "source": [
    "fig, ax = plt.subplots()\n",
    "DecisionBoundaryDisplay.from_estimator(\n",
    "    decision_tree, X_train, cmap=plt.cm.RdBu, response_method=\"predict\", xlabel=\"lect\", ylabel=\"lab\", ax=ax)\n",
    "sns.scatterplot(data=X_train, x=\"lect\", y=\"lab\", hue=y_train, style=y_train, ax=ax)\n",
    "plt.show()"
   ]
  },
  {
   "cell_type": "code",
   "execution_count": null,
   "id": "c5e396c9-81f6-4c58-bf2c-7b64974ecd24",
   "metadata": {},
   "outputs": [],
   "source": [
    "accuracy_score(decision_tree.predict(X_test), y_test)"
   ]
  },
  {
   "cell_type": "markdown",
   "id": "9054ef2d-b734-4623-8d3a-ea3665c64070",
   "metadata": {},
   "source": [
    "Turns out that depth of about 6 or 7 is the best."
   ]
  },
  {
   "cell_type": "code",
   "execution_count": null,
   "id": "8b71bfe0-040d-4195-8ec9-7a442c3cbca7",
   "metadata": {},
   "outputs": [],
   "source": []
  }
 ],
 "metadata": {
  "kernelspec": {
   "display_name": "Python 3 (ipykernel)",
   "language": "python",
   "name": "python3"
  },
  "language_info": {
   "codemirror_mode": {
    "name": "ipython",
    "version": 3
   },
   "file_extension": ".py",
   "mimetype": "text/x-python",
   "name": "python",
   "nbconvert_exporter": "python",
   "pygments_lexer": "ipython3",
   "version": "3.12.4"
  }
 },
 "nbformat": 4,
 "nbformat_minor": 5
}
