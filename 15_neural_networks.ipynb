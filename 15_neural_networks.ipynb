{
 "cells": [
  {
   "cell_type": "markdown",
   "id": "ec02c415-becb-4625-bd39-7eea8a052bb2",
   "metadata": {},
   "source": [
    "# Neural Networks"
   ]
  },
  {
   "cell_type": "code",
   "execution_count": null,
   "id": "fac60507",
   "metadata": {},
   "outputs": [],
   "source": [
    "import pandas as pd\n",
    "import numpy as np\n",
    "\n",
    "from sklearn.datasets import load_iris\n",
    "\n",
    "from sklearn.pipeline import Pipeline\n",
    "from sklearn.preprocessing import StandardScaler\n",
    "from sklearn.preprocessing import LabelEncoder\n",
    "\n",
    "from sklearn.model_selection import train_test_split\n",
    "from sklearn.model_selection import cross_validate\n",
    "\n",
    "from sklearn.linear_model import LinearRegression\n",
    "from sklearn.linear_model import LogisticRegression\n",
    "from sklearn.neural_network import MLPRegressor\n",
    "from sklearn.neural_network import MLPClassifier\n",
    "\n",
    "from sklearn.metrics import mean_squared_error\n",
    "from sklearn.metrics import accuracy_score"
   ]
  },
  {
   "cell_type": "code",
   "execution_count": null,
   "id": "57058cbf-2567-4efa-a643-f68f41489b56",
   "metadata": {},
   "outputs": [],
   "source": [
    "rng = np.random.RandomState(2)"
   ]
  },
  {
   "cell_type": "markdown",
   "id": "7469813b-e0c5-45b1-8f34-c4b60d89fcbe",
   "metadata": {},
   "source": [
    "## Read in datasets and split them"
   ]
  },
  {
   "cell_type": "code",
   "execution_count": null,
   "id": "139d0d44-21c7-48c6-af92-748565c04458",
   "metadata": {},
   "outputs": [],
   "source": [
    "import os\n",
    "if 'google.colab' in str(get_ipython()):\n",
    "    from google.colab import drive\n",
    "    drive.mount('/content/drive')\n",
    "    base_dir = \"./drive/My Drive/Colab Notebooks/\" # You may need to change this, depending on where your notebooks are on Google Drive\n",
    "else:\n",
    "    base_dir = \".\"\n",
    "dataset_dir = os.path.join(base_dir, \"datasets\")"
   ]
  },
  {
   "cell_type": "code",
   "execution_count": null,
   "id": "9f89109f-0052-4e33-9f11-cad1d7e2ff93",
   "metadata": {},
   "outputs": [],
   "source": [
    "df_housing = pd.read_csv(os.path.join(dataset_dir, \"housing.csv\"))"
   ]
  },
  {
   "cell_type": "code",
   "execution_count": null,
   "id": "5329d5aa-c9d7-4291-8629-99b686a8450d",
   "metadata": {},
   "outputs": [],
   "source": [
    "features = [\"BasementArea\", \"GroundFloorArea\", \"Bedrooms\", \"Condition\", ]\n",
    "\n",
    "X_housing = df_housing[features].values\n",
    "y_housing = df_housing[\"SalePrice\"].values"
   ]
  },
  {
   "cell_type": "code",
   "execution_count": null,
   "id": "60221ac8-b0b7-4a72-9a78-7ed92acdff16",
   "metadata": {},
   "outputs": [],
   "source": [
    "X_train_housing, X_test_housing, y_train_housing, y_test_housing = \\\n",
    "    train_test_split(X_housing, y_housing, test_size=0.2, random_state=rng)"
   ]
  },
  {
   "cell_type": "code",
   "execution_count": null,
   "id": "a0268e1e-2fa7-4309-aec3-5d6f97baedad",
   "metadata": {},
   "outputs": [],
   "source": [
    "df_cs1109 = pd.read_csv(os.path.join(dataset_dir, \"cs1109.csv\"))"
   ]
  },
  {
   "cell_type": "code",
   "execution_count": null,
   "id": "dd124af0-394a-44de-9440-ba9d59c20205",
   "metadata": {},
   "outputs": [],
   "source": [
    "features = [\"lect\", \"lab\"]\n",
    "\n",
    "X_cs1109 = df_cs1109[features]\n",
    "\n",
    "label_encoder = LabelEncoder()\n",
    "y_cs1109 = label_encoder.fit_transform(df_cs1109[\"outcome\"])"
   ]
  },
  {
   "cell_type": "code",
   "execution_count": null,
   "id": "a9be0a76-0055-4394-b878-fcb7167dca42",
   "metadata": {},
   "outputs": [],
   "source": [
    "X_train_cs1109, X_test_cs1109, y_train_cs1109, y_test_cs1109 = \\\n",
    "    train_test_split(X_cs1109, y_cs1109, test_size=0.2, stratify=df_cs1109[\"outcome\"], random_state=rng)"
   ]
  },
  {
   "cell_type": "code",
   "execution_count": null,
   "id": "dbd708b7-204d-4c04-a8d7-655ade52ea68",
   "metadata": {},
   "outputs": [],
   "source": [
    "# Load the dataset (a dictionary) and get the features DataFrame and target values from the dictionary\n",
    "iris = load_iris(as_frame=True)\n",
    "iris_df = iris.data\n",
    "iris_y = iris.target\n",
    "\n",
    "# Split off the test set: 20% of the dataset.\n",
    "train_iris_df, test_iris_df, train_iris_y, test_iris_y = \\\n",
    "    train_test_split(iris_df, iris_y, test_size=0.2, stratify=iris_y, random_state=rng)\n",
    "\n",
    "# Convert to numpy arrays\n",
    "X_train_iris = train_iris_df.values\n",
    "y_train_iris = train_iris_y.values\n",
    "X_test_iris = test_iris_df.values\n",
    "y_test_iris = test_iris_y.values"
   ]
  },
  {
   "cell_type": "code",
   "execution_count": null,
   "id": "dac1959a-af87-401d-8ce1-aef667c5c895",
   "metadata": {},
   "outputs": [],
   "source": [
    "def check_fit(model, X_train, y_train, cv, metric):\n",
    "    scores = cross_validate(model, X_train, y_train, cv=cv, scoring=metric, return_train_score=True, n_jobs=-1)\n",
    "    return scores[\"train_score\"].mean(), scores[\"test_score\"].mean()"
   ]
  },
  {
   "cell_type": "markdown",
   "id": "765ae8aa-47a0-4461-8b67-5c4f7042b692",
   "metadata": {},
   "source": [
    "## Models for Comparison"
   ]
  },
  {
   "cell_type": "code",
   "execution_count": null,
   "id": "6231cb50-66b0-4d0d-ad71-67592f66b0f5",
   "metadata": {},
   "outputs": [],
   "source": [
    "linear_model = LinearRegression()\n",
    "\n",
    "logistic_model = Pipeline([\n",
    "    (\"scaler\", StandardScaler()),\n",
    "    (\"predictor\", LogisticRegression(penalty=None, random_state=rng))\n",
    "])"
   ]
  },
  {
   "cell_type": "markdown",
   "id": "df17b621-fcb4-4f28-9e30-c289ec97864a",
   "metadata": {},
   "source": [
    "## Neural Networks in scikit-learn"
   ]
  },
  {
   "cell_type": "markdown",
   "id": "4057ca1f-6ba0-4258-a6b8-7f9a94d9f72e",
   "metadata": {},
   "source": [
    "scikit-learn's support for  neural networks has improved a lot with the introduction of two classes `MLPRegressor` and `MLPClassifier`. These classes are great for structured datasets (tabular datasets). We can put the `MLPRegressor` or `MLPClassifier` at the end of a pipeline that exploits sckit-learn's fantastic set of preprocessing classes (scalers, missing value imputers, and so on).\n",
    "\n",
    "When it comes to unstructured datasets (e.g. images), we would not currently consider using scikit-learn. We will use keras (next lecture).\n",
    "\n",
    "Both `MLPRegressor` and `MLPClassifier` have lots of arguments that we can set to control the training - but mostly we will stick with their default values. In any case, I'm not trying to get the best performance - I'm just showing you what the code looks like."
   ]
  },
  {
   "cell_type": "markdown",
   "id": "0f3f253a-cd0d-49b9-9ed3-d18269ccfdf0",
   "metadata": {},
   "source": [
    "### Regression on housing data"
   ]
  },
  {
   "cell_type": "code",
   "execution_count": null,
   "id": "1717d383-bd1d-41e6-96e7-e1ea59ecd755",
   "metadata": {},
   "outputs": [],
   "source": [
    "# Linear Regression - for comparison\n",
    "\n",
    "train_err, val_err = check_fit(linear_model, X_train_housing, y_train_housing, cv=10, metric=\"neg_mean_absolute_error\")\n",
    "train_err, val_err"
   ]
  },
  {
   "cell_type": "code",
   "execution_count": null,
   "id": "332e2fc5-c6ce-4929-9908-8e34295ad1cd",
   "metadata": {},
   "outputs": [],
   "source": [
    "# We'll try  a neural network with one hidden layer with 8 neurons in that layer.\n",
    "\n",
    "regressor_network = Pipeline([\n",
    "    (\"scaler\", StandardScaler()),\n",
    "    (\"predictor\", MLPRegressor(hidden_layer_sizes=[8], max_iter=800, learning_rate_init=0.1, random_state=rng))\n",
    "])"
   ]
  },
  {
   "cell_type": "code",
   "execution_count": null,
   "id": "d4bccd14-0dd8-4412-bff7-816dcd81f27d",
   "metadata": {},
   "outputs": [],
   "source": [
    "train_err, val_err = check_fit(regressor_network, X_train_housing, y_train_housing, cv=10, metric=\"neg_mean_absolute_error\")\n",
    "train_err, val_err"
   ]
  },
  {
   "cell_type": "code",
   "execution_count": null,
   "id": "9fc905df-027c-4605-93cc-119209850ab7",
   "metadata": {},
   "outputs": [],
   "source": [
    "# Now we'll try  a neural network with two hidden layers with 8 neurons in each layer.\n",
    "\n",
    "regressor_network = Pipeline([\n",
    "    (\"scaler\", StandardScaler()),\n",
    "    (\"predictor\", MLPRegressor(hidden_layer_sizes=[8, 8], max_iter=800, learning_rate_init=0.1, random_state=rng))\n",
    "])"
   ]
  },
  {
   "cell_type": "code",
   "execution_count": null,
   "id": "1d405c9c-bce9-4e60-8bee-885f83887d43",
   "metadata": {},
   "outputs": [],
   "source": [
    "train_err, val_err = check_fit(regressor_network, X_train_housing, y_train_housing, cv=10, metric=\"neg_mean_absolute_error\")\n",
    "train_err, val_err"
   ]
  },
  {
   "cell_type": "markdown",
   "id": "de779e63-2b18-4858-89d0-13f4f744cb47",
   "metadata": {},
   "source": [
    "### Binary classification on student data"
   ]
  },
  {
   "cell_type": "code",
   "execution_count": null,
   "id": "3db10864-2d37-4a6b-af1d-0b4714324c33",
   "metadata": {},
   "outputs": [],
   "source": [
    "# Logistic Regression - for comparison\n",
    "\n",
    "train_acc, val_acc = check_fit(logistic_model, X_train_cs1109, y_train_cs1109, cv=10, metric=\"accuracy\")\n",
    "train_acc, val_acc"
   ]
  },
  {
   "cell_type": "code",
   "execution_count": null,
   "id": "9ff516f8-66ad-4e93-b9f2-682a11cba110",
   "metadata": {},
   "outputs": [],
   "source": [
    "# We'll try a neural network with one hidden layer with 8 neurons in that layer.\n",
    "\n",
    "binary_classifier_network = Pipeline([\n",
    "    (\"scaler\", StandardScaler()),\n",
    "    (\"predictor\", MLPClassifier(hidden_layer_sizes=[8], max_iter=800, learning_rate_init=0.1, random_state=rng))\n",
    "])"
   ]
  },
  {
   "cell_type": "code",
   "execution_count": null,
   "id": "f68f8d5c-d26d-46bd-9840-c632dd4a441d",
   "metadata": {},
   "outputs": [],
   "source": [
    "train_acc, val_acc = check_fit(binary_classifier_network, X_train_cs1109, y_train_cs1109, cv=10, metric=\"accuracy\")\n",
    "train_acc, val_acc"
   ]
  },
  {
   "cell_type": "code",
   "execution_count": null,
   "id": "edb5900f-738f-462d-89b2-1b3792adbc92",
   "metadata": {},
   "outputs": [],
   "source": [
    "# Now we'll try a neural network with two hiddens layer with 8 and 4 neurons respetively.\n",
    "\n",
    "binary_classifier_network = Pipeline([\n",
    "    (\"scaler\", StandardScaler()),\n",
    "    (\"predictor\", MLPClassifier(hidden_layer_sizes=[8,4], max_iter=800, learning_rate_init=0.1, random_state=rng))\n",
    "])"
   ]
  },
  {
   "cell_type": "code",
   "execution_count": null,
   "id": "5137d2fb-476a-422e-8288-4f585ba9e841",
   "metadata": {},
   "outputs": [],
   "source": [
    "train_acc, val_acc = check_fit(binary_classifier_network, X_train_cs1109, y_train_cs1109, cv=10, metric=\"accuracy\")\n",
    "train_acc, val_acc"
   ]
  },
  {
   "cell_type": "markdown",
   "id": "e7303248-f92e-4e99-8a5e-eeacb0ac6fc6",
   "metadata": {},
   "source": [
    "### Multi-class classification on Iris data"
   ]
  },
  {
   "cell_type": "code",
   "execution_count": null,
   "id": "7a660b5a-4d55-49dc-891d-3d3ed3c4755c",
   "metadata": {},
   "outputs": [],
   "source": [
    "# Logistic Regression - for comparison\n",
    "\n",
    "train_acc, val_acc = check_fit(logistic_model, X_train_iris, y_train_iris, cv=10, metric=\"accuracy\")\n",
    "train_acc, val_acc"
   ]
  },
  {
   "cell_type": "code",
   "execution_count": null,
   "id": "bdd81259-c8c5-40f1-ad1e-b52de795986e",
   "metadata": {},
   "outputs": [],
   "source": [
    "# We'll try a neural network with one hidden layer with 8 neurons in that layer.\n",
    "\n",
    "multiclass_classifier_network = Pipeline([\n",
    "    (\"scaler\", StandardScaler()),\n",
    "    (\"predictor\", MLPClassifier(hidden_layer_sizes=[8], max_iter=800, learning_rate_init=0.1, random_state=rng))\n",
    "])"
   ]
  },
  {
   "cell_type": "code",
   "execution_count": null,
   "id": "de54aaba-6e50-43cd-acef-9ad7cd0c679a",
   "metadata": {},
   "outputs": [],
   "source": [
    "train_acc, val_acc = check_fit(multiclass_classifier_network, X_train_iris, y_train_iris, cv=10, metric=\"accuracy\")\n",
    "train_acc, val_acc"
   ]
  },
  {
   "cell_type": "code",
   "execution_count": null,
   "id": "da0db531-2aea-4170-8a8a-33efa1eed943",
   "metadata": {},
   "outputs": [],
   "source": [
    "# Now we'll try a neural network with three hidden layers with 8, 4 and 4 neurons respectively.\n",
    "# Note I needed a smaller learning rate to get the same level of performance\n",
    "\n",
    "multiclass_classifier_network = Pipeline([\n",
    "    (\"scaler\", StandardScaler()),\n",
    "    (\"predictor\", MLPClassifier(hidden_layer_sizes=[8, 4, 2], max_iter=800, learning_rate_init=0.01, random_state=rng))\n",
    "])"
   ]
  },
  {
   "cell_type": "code",
   "execution_count": null,
   "id": "294faa31-efcf-479c-ba14-354a688bb9e5",
   "metadata": {},
   "outputs": [],
   "source": [
    "train_acc, val_acc = check_fit(multiclass_classifier_network, X_train_iris, y_train_iris, cv=10, metric=\"accuracy\")\n",
    "train_acc, val_acc"
   ]
  },
  {
   "cell_type": "code",
   "execution_count": null,
   "id": "2b9cd74c-44af-445d-a494-253beb5e0e66",
   "metadata": {},
   "outputs": [],
   "source": []
  }
 ],
 "metadata": {
  "kernelspec": {
   "display_name": "Python 3 (ipykernel)",
   "language": "python",
   "name": "python3"
  },
  "language_info": {
   "codemirror_mode": {
    "name": "ipython",
    "version": 3
   },
   "file_extension": ".py",
   "mimetype": "text/x-python",
   "name": "python",
   "nbconvert_exporter": "python",
   "pygments_lexer": "ipython3",
   "version": "3.12.4"
  }
 },
 "nbformat": 4,
 "nbformat_minor": 5
}
