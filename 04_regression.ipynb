{
 "cells": [
  {
   "cell_type": "markdown",
   "id": "ec02c415-becb-4625-bd39-7eea8a052bb2",
   "metadata": {},
   "source": [
    "# Regression"
   ]
  },
  {
   "cell_type": "code",
   "execution_count": null,
   "id": "fac60507",
   "metadata": {},
   "outputs": [],
   "source": [
    "import pandas as pd\n",
    "import numpy as np\n",
    "import matplotlib.pyplot as plt\n",
    "import seaborn as sns\n",
    "\n",
    "from pandas.plotting import scatter_matrix\n",
    "\n",
    "from sklearn.pipeline import Pipeline\n",
    "from sklearn.preprocessing import StandardScaler\n",
    "\n",
    "from sklearn.model_selection import train_test_split\n",
    "\n",
    "from sklearn.tree import DecisionTreeRegressor\n",
    "from sklearn.neighbors import KNeighborsRegressor\n",
    "\n",
    "from sklearn.metrics import mean_absolute_error\n",
    "\n",
    "from sklearn.tree import plot_tree"
   ]
  },
  {
   "cell_type": "code",
   "execution_count": null,
   "id": "c1874685-225f-4d1c-abfd-430cc148640f",
   "metadata": {},
   "outputs": [],
   "source": [
    "rng = np.random.RandomState(2)"
   ]
  },
  {
   "cell_type": "markdown",
   "id": "7469813b-e0c5-45b1-8f34-c4b60d89fcbe",
   "metadata": {},
   "source": [
    "## Read in dataset"
   ]
  },
  {
   "cell_type": "code",
   "execution_count": null,
   "id": "c3ec3847-9769-47d3-b550-53d5d885d794",
   "metadata": {},
   "outputs": [],
   "source": [
    "import os\n",
    "if 'google.colab' in str(get_ipython()):\n",
    "    from google.colab import drive\n",
    "    drive.mount('/content/drive')\n",
    "    base_dir = \"./drive/My Drive/Colab Notebooks/\" # You may need to change this, depending on where your notebooks are on Google Drive\n",
    "else:\n",
    "    base_dir = \".\"\n",
    "dataset_dir = os.path.join(base_dir, \"datasets\")"
   ]
  },
  {
   "cell_type": "code",
   "execution_count": null,
   "id": "0596f166-1350-472f-bf70-bacdac1fbdb9",
   "metadata": {},
   "outputs": [],
   "source": [
    "df = pd.read_csv(os.path.join(dataset_dir, \"housing.csv\"))"
   ]
  },
  {
   "cell_type": "markdown",
   "id": "7543c79d-a8f3-489d-ae6b-5620c6a06e65",
   "metadata": {},
   "source": [
    "## Take a cheeky look"
   ]
  },
  {
   "cell_type": "code",
   "execution_count": null,
   "id": "26f6f1b4-0444-4013-bbcb-ce634c0dba03",
   "metadata": {},
   "outputs": [],
   "source": [
    "df.head()"
   ]
  },
  {
   "cell_type": "code",
   "execution_count": null,
   "id": "cc5f1ce9-814f-4957-bd97-ca2212c1077a",
   "metadata": {},
   "outputs": [],
   "source": [
    "df.shape"
   ]
  },
  {
   "cell_type": "code",
   "execution_count": null,
   "id": "961a083c-7eb1-4bf5-80da-54eb723f8464",
   "metadata": {},
   "outputs": [],
   "source": [
    "df.info()"
   ]
  },
  {
   "cell_type": "code",
   "execution_count": null,
   "id": "496bfb39-7e31-45fa-a785-360ca1ad07c5",
   "metadata": {},
   "outputs": [],
   "source": [
    "df.describe(include=\"all\")"
   ]
  },
  {
   "cell_type": "markdown",
   "id": "179d6efb-651f-403b-bbbc-d27b15a04602",
   "metadata": {},
   "source": [
    "## Split into training set and test set"
   ]
  },
  {
   "cell_type": "code",
   "execution_count": null,
   "id": "29697efd-d658-43b3-bc13-32e644f3f69e",
   "metadata": {},
   "outputs": [],
   "source": [
    "train, test = train_test_split(df, test_size=0.2, random_state=rng)"
   ]
  },
  {
   "cell_type": "code",
   "execution_count": null,
   "id": "402c658c-cf73-43a1-856e-08b05cc1bc1c",
   "metadata": {},
   "outputs": [],
   "source": [
    "features = [\"BasementArea\", \"GroundFloorArea\", \"Bedrooms\", \"Condition\"]\n",
    "\n",
    "X_train = train[features]\n",
    "y_train = train[\"SalePrice\"]\n",
    "X_test = test[features]\n",
    "y_test = test[\"SalePrice\"]"
   ]
  },
  {
   "cell_type": "markdown",
   "id": "b21108ef-2121-4a93-a246-1cf7015d84c4",
   "metadata": {},
   "source": [
    "## Exploratory Data Analysis (EDA)"
   ]
  },
  {
   "cell_type": "code",
   "execution_count": null,
   "id": "9fe1ca46-40fd-478f-8cd6-e0b3d167828f",
   "metadata": {},
   "outputs": [],
   "source": [
    "scatter_matrix(train, figsize=(10, 10))\n",
    "plt.show()"
   ]
  },
  {
   "cell_type": "code",
   "execution_count": null,
   "id": "95c6cf71-b5ef-4e59-85f0-3ccbd19a0d4e",
   "metadata": {},
   "outputs": [],
   "source": [
    "sns.heatmap(train.corr(numeric_only=True), annot=True)\n",
    "plt.show()"
   ]
  },
  {
   "cell_type": "markdown",
   "id": "df17b621-fcb4-4f28-9e30-c289ec97864a",
   "metadata": {},
   "source": [
    "## We can use a Decision Tree - a Decision Tree Regressor"
   ]
  },
  {
   "cell_type": "code",
   "execution_count": null,
   "id": "e71f1dc4-3670-49d2-b1dd-682a66caa0be",
   "metadata": {},
   "outputs": [],
   "source": [
    "decision_tree = DecisionTreeRegressor(max_depth=2, random_state=rng)"
   ]
  },
  {
   "cell_type": "code",
   "execution_count": null,
   "id": "78abb843-a806-42e4-beec-9cbd5d7d143f",
   "metadata": {},
   "outputs": [],
   "source": [
    "decision_tree.fit(X_train, y_train)"
   ]
  },
  {
   "cell_type": "code",
   "execution_count": null,
   "id": "7e045b75-d032-42ad-8f15-125de8b733b2",
   "metadata": {},
   "outputs": [],
   "source": [
    "fig = plt.figure(figsize=(20,8))\n",
    "plot_tree(decision_tree, feature_names=features, fontsize=12)\n",
    "plt.show()"
   ]
  },
  {
   "cell_type": "code",
   "execution_count": null,
   "id": "942ed515-c037-4a37-aba3-b6d5b032b543",
   "metadata": {},
   "outputs": [],
   "source": [
    "decision_tree = DecisionTreeRegressor(max_depth=9, random_state=rng)"
   ]
  },
  {
   "cell_type": "code",
   "execution_count": null,
   "id": "d487cac6-29e9-4630-9a1c-1aa20bc58673",
   "metadata": {},
   "outputs": [],
   "source": [
    "decision_tree.fit(X_train, y_train)"
   ]
  },
  {
   "cell_type": "code",
   "execution_count": null,
   "id": "55ab1594-0218-47b0-9d6a-8ff3218fe493",
   "metadata": {},
   "outputs": [],
   "source": [
    "mean_absolute_error(decision_tree.predict(X_test), y_test)"
   ]
  },
  {
   "cell_type": "markdown",
   "id": "9c264182-9335-48b9-a53c-a7f7a5a847a8",
   "metadata": {},
   "source": [
    "## k-Nearest-Neighbours Regressor - try it first - explain afterwards"
   ]
  },
  {
   "cell_type": "code",
   "execution_count": null,
   "id": "2f73c392-1a79-4b33-97e1-d37780976c70",
   "metadata": {},
   "outputs": [],
   "source": [
    "knn = Pipeline([\n",
    "    (\"scaler\", StandardScaler()),\n",
    "    (\"predictor\", KNeighborsRegressor(n_neighbors = 3))\n",
    "])"
   ]
  },
  {
   "cell_type": "code",
   "execution_count": null,
   "id": "f44849f9-c3dc-4c81-b46a-a17135f88527",
   "metadata": {},
   "outputs": [],
   "source": [
    "knn.fit(X_train, y_train)"
   ]
  },
  {
   "cell_type": "code",
   "execution_count": null,
   "id": "a5f44d72-24cd-4d31-b4f4-c255cfd31f9f",
   "metadata": {},
   "outputs": [],
   "source": [
    "mean_absolute_error(knn.predict(X_test), y_test)"
   ]
  },
  {
   "cell_type": "code",
   "execution_count": null,
   "id": "02ec8094-9718-4060-874b-3a797415e577",
   "metadata": {},
   "outputs": [],
   "source": [
    "knn = Pipeline([\n",
    "    (\"scaler\", StandardScaler()),\n",
    "    (\"predictor\", KNeighborsRegressor(n_neighbors = 9))\n",
    "])"
   ]
  },
  {
   "cell_type": "code",
   "execution_count": null,
   "id": "ce0ffdb1-1e4b-4371-a53b-b946be7f3c05",
   "metadata": {},
   "outputs": [],
   "source": [
    "knn.fit(X_train, y_train)"
   ]
  },
  {
   "cell_type": "code",
   "execution_count": null,
   "id": "3eae34a6-c380-47f0-af98-153e76f47c89",
   "metadata": {},
   "outputs": [],
   "source": [
    "mean_absolute_error(knn.predict(X_test), y_test)"
   ]
  },
  {
   "cell_type": "markdown",
   "id": "e062e190-c7fd-4cc4-ae7b-5808c3a26810",
   "metadata": {},
   "source": [
    "## Similarity - in fact, distance - in fact, Euclidean distance"
   ]
  },
  {
   "cell_type": "code",
   "execution_count": null,
   "id": "6c3cae81-f99a-412e-ba1f-6d7473cc21ad",
   "metadata": {},
   "outputs": [],
   "source": [
    "def euc(x, xprime):\n",
    "    return np.sqrt(np.sum((x - xprime)**2))"
   ]
  },
  {
   "cell_type": "code",
   "execution_count": null,
   "id": "dee1716e-f514-4eb6-ba5e-6b4d35900415",
   "metadata": {},
   "outputs": [],
   "source": [
    "# Example\n",
    "\n",
    "# Your house\n",
    "#    GrounfFloorArea 1652.0\n",
    "#    BasementArae     782.0\n",
    "#    Bedrooms           3.0\n",
    "#    Condition          5.0\n",
    "\n",
    "your_house = np.array([1652.0, 782.0, 3.0, 5.0])\n",
    "\n",
    "# My house\n",
    "#    GroundFloorArea  1518.0\n",
    "#    BasementArea     1518.0\n",
    "#    Bedrooms            1.0\n",
    "#    Condition           5.0\n",
    "\n",
    "my_house = np.array([1518.0, 1518.0, 1.0, 5.0])\n",
    "\n",
    "print( euc(your_house, my_house) )"
   ]
  },
  {
   "cell_type": "markdown",
   "id": "b4ab9a79-9d98-4296-9eaa-0a182bc86373",
   "metadata": {},
   "source": [
    "## Let's \"roll our own\" 1NN regressor - unnecessary - but informative"
   ]
  },
  {
   "cell_type": "code",
   "execution_count": null,
   "id": "28263a68-a504-4f22-9786-3e254ce7946e",
   "metadata": {},
   "outputs": [],
   "source": [
    "dists = [euc(your_house, x) for x in X_train.values]"
   ]
  },
  {
   "cell_type": "code",
   "execution_count": null,
   "id": "30316d72-343d-412a-be02-a00fa95b5477",
   "metadata": {},
   "outputs": [],
   "source": [
    "# Just to show you, here are the first 3 distances\n",
    "dists[:3]"
   ]
  },
  {
   "cell_type": "code",
   "execution_count": null,
   "id": "ea6d1149-40f1-4b1a-a1f1-889d89b24c23",
   "metadata": {},
   "outputs": [],
   "source": [
    "# Even better, we can, with one line of code, find the most similar house\n",
    "np.min([euc(your_house, x) for x in X_train.values])"
   ]
  },
  {
   "cell_type": "code",
   "execution_count": null,
   "id": "44493cd9-22d7-4c2c-b4f4-1f918b31eb2f",
   "metadata": {},
   "outputs": [],
   "source": [
    "# Even better again, we can find which house is the most similar\n",
    "np.argmin([euc(your_house, x) for x in X_train.values])"
   ]
  },
  {
   "cell_type": "code",
   "execution_count": null,
   "id": "c1e97a96-d9d7-4dcd-af27-ad64e52b65c8",
   "metadata": {},
   "outputs": [],
   "source": [
    "# Even better, we can display the most similar house\n",
    "X_train.iloc[np.argmin([euc(your_house, x) for x in X_train.values])]"
   ]
  },
  {
   "cell_type": "code",
   "execution_count": null,
   "id": "4694a35c-bc25-491b-a84d-63e0ad5a2b9e",
   "metadata": {},
   "outputs": [],
   "source": [
    "# Best of all, we can display the SalePrice of the most similar house\n",
    "y_train.iloc[np.argmin([euc(your_house, x) for x in X_train.values])]"
   ]
  },
  {
   "cell_type": "code",
   "execution_count": null,
   "id": "fff4831e-f23e-46af-ac0a-cd52c3387b0d",
   "metadata": {},
   "outputs": [],
   "source": [
    "# Put it all together\n",
    "\n",
    "def nn_regressor(your_house):\n",
    "    # Find which example in X_train is the most similar to your_house\n",
    "    index = np.argmin([euc(your_house, x) for x in X_train.values])\n",
    "    # Return the corresponding target value from y\n",
    "    return y_train.iloc[index]"
   ]
  },
  {
   "cell_type": "code",
   "execution_count": null,
   "id": "73dbd329-d267-441d-8d3f-f1a6e75392c8",
   "metadata": {},
   "outputs": [],
   "source": [
    "print( nn_regressor(your_house) )"
   ]
  },
  {
   "cell_type": "markdown",
   "id": "9a043c9f-bf92-47f6-8023-356c43c1d846",
   "metadata": {},
   "source": [
    "## And our own kNN regressor"
   ]
  },
  {
   "cell_type": "code",
   "execution_count": null,
   "id": "929b3489-00d0-4dd6-9b88-e6e66176504b",
   "metadata": {},
   "outputs": [],
   "source": [
    "def knn_regressor(your_house, k):\n",
    "    # Find which k examples in X are the most similar to x\n",
    "    indexes = np.argsort([euc(your_house, x) for x in X_train.values])[:k]\n",
    "    # Return the mean of the corresponding target values from y\n",
    "    return y_train.iloc[indexes].mean()"
   ]
  },
  {
   "cell_type": "code",
   "execution_count": null,
   "id": "9fd513b9-1124-4077-8c4f-6167837cba57",
   "metadata": {},
   "outputs": [],
   "source": [
    "print( knn_regressor(your_house, k=3) )"
   ]
  },
  {
   "cell_type": "markdown",
   "id": "5de8c29d-e329-4fb3-9ef8-6b5a8d3a799a",
   "metadata": {},
   "source": [
    "## An object-oriented version - closer to the one in scikit-learn"
   ]
  },
  {
   "cell_type": "code",
   "execution_count": null,
   "id": "be80205f-98b0-40e9-af49-c2bb1cf0e911",
   "metadata": {},
   "outputs": [],
   "source": [
    "class Our_kNN():\n",
    "\n",
    "    def __init__(self, k=3):\n",
    "        self.k = k\n",
    "        \n",
    "    def fit(self, X, y):\n",
    "        self.X = X\n",
    "        self.y = y\n",
    "    \n",
    "    def predict(self, q):\n",
    "        indexes = np.argsort([euc(q, x) for x in self.X])[:self.k]\n",
    "        return self.y.iloc[indexes].mean()"
   ]
  },
  {
   "cell_type": "code",
   "execution_count": null,
   "id": "9c2f950f-313c-4996-b4cf-1f81329e2208",
   "metadata": {},
   "outputs": [],
   "source": [
    "our_knn = Our_kNN(k = 3)\n",
    "\n",
    "our_knn.fit(X_train.values, y_train)\n",
    "\n",
    "our_knn.predict(your_house)"
   ]
  },
  {
   "cell_type": "markdown",
   "id": "07ee7a8a-cdda-4a43-97de-5365d3b2ba45",
   "metadata": {},
   "source": [
    "<p>This version emphasises how little work kNN does during <code>fit</code>. All the real work happens at inference time: when we call <code>predict</code>.</p>\n",
    "<p>By the way, this version is not identical to the one in scikit-learn because the one in scikit-learn can do multiple predictions at once, whereas our version makes just one prediction at a time.</p>"
   ]
  },
  {
   "cell_type": "markdown",
   "id": "56ac127e-f6d9-40ae-9c93-2f28fa4b44ea",
   "metadata": {},
   "source": [
    "## But we should scale the feature-values - compare with and without"
   ]
  },
  {
   "cell_type": "code",
   "execution_count": null,
   "id": "5975a017-9e6a-4257-aefd-af7845a617b1",
   "metadata": {},
   "outputs": [],
   "source": [
    "knn_without_scaling = KNeighborsRegressor(n_neighbors = 3)"
   ]
  },
  {
   "cell_type": "code",
   "execution_count": null,
   "id": "75bc2904-a2d4-42a8-a76e-6789c6ef52f2",
   "metadata": {},
   "outputs": [],
   "source": [
    "knn_without_scaling.fit(X_train, y_train)"
   ]
  },
  {
   "cell_type": "code",
   "execution_count": null,
   "id": "0983be66-c419-41a0-a47a-9dec2da3e91e",
   "metadata": {},
   "outputs": [],
   "source": [
    "mean_absolute_error(knn_without_scaling.predict(X_test), y_test)"
   ]
  },
  {
   "cell_type": "code",
   "execution_count": null,
   "id": "87f4cc2d-0a85-4d7d-b328-fd26e89a7829",
   "metadata": {},
   "outputs": [],
   "source": [
    "knn_with_scaling = Pipeline([\n",
    "    (\"scaler\", StandardScaler()),\n",
    "    (\"predictor\", KNeighborsRegressor(n_neighbors = 3))\n",
    "])"
   ]
  },
  {
   "cell_type": "code",
   "execution_count": null,
   "id": "2c05990b-4333-452e-8e99-39d62ecdbd97",
   "metadata": {},
   "outputs": [],
   "source": [
    "knn_with_scaling.fit(X_train, y_train)"
   ]
  },
  {
   "cell_type": "code",
   "execution_count": null,
   "id": "58eb0f6c-b934-471b-8037-2c81d7930cfd",
   "metadata": {},
   "outputs": [],
   "source": [
    "mean_absolute_error(knn_with_scaling.predict(X_test), y_test)"
   ]
  },
  {
   "cell_type": "markdown",
   "id": "2b9df510-a14c-4008-8ddb-5f846e8a466d",
   "metadata": {},
   "source": [
    "## Decison Trees, by the way, are scale-invariant - no need to scale - although it does no harm"
   ]
  },
  {
   "cell_type": "code",
   "execution_count": null,
   "id": "14770cdb-161b-4bda-b2a9-8982e873c6e0",
   "metadata": {},
   "outputs": [],
   "source": [
    "decision_tree_without_scaling = DecisionTreeRegressor(max_depth = 3, random_state=rng)"
   ]
  },
  {
   "cell_type": "code",
   "execution_count": null,
   "id": "2b9c0889-1bad-4295-93f2-c41b0afefebb",
   "metadata": {},
   "outputs": [],
   "source": [
    "decision_tree_without_scaling.fit(X_train, y_train)"
   ]
  },
  {
   "cell_type": "code",
   "execution_count": null,
   "id": "f7797eb6-d7e4-4ec9-9ebb-91a234bb0a02",
   "metadata": {},
   "outputs": [],
   "source": [
    "mean_absolute_error(decision_tree_without_scaling.predict(X_test), y_test)"
   ]
  },
  {
   "cell_type": "code",
   "execution_count": null,
   "id": "69f979eb-e057-4d04-ba50-1dfba4f32a7a",
   "metadata": {},
   "outputs": [],
   "source": [
    "decision_tree_with_scaling = Pipeline([\n",
    "    (\"scaler\", StandardScaler()),\n",
    "    (\"predictor\", DecisionTreeRegressor(max_depth = 3, random_state=rng))\n",
    "])"
   ]
  },
  {
   "cell_type": "code",
   "execution_count": null,
   "id": "a62e385f-a548-403d-a8be-19c5135cabec",
   "metadata": {},
   "outputs": [],
   "source": [
    "decision_tree_with_scaling.fit(X_train, y_train)"
   ]
  },
  {
   "cell_type": "code",
   "execution_count": null,
   "id": "515555ca-cfae-4ef6-af4f-cdb8fb42a7a3",
   "metadata": {},
   "outputs": [],
   "source": [
    "mean_absolute_error(decision_tree_with_scaling.predict(X_test), y_test)"
   ]
  },
  {
   "cell_type": "markdown",
   "id": "0c6af43c-c1ef-4106-a261-c0a815d28e2a",
   "metadata": {},
   "source": [
    "## BTW 1NN illustrates why we should use test error - not training error - for error estimation"
   ]
  },
  {
   "cell_type": "code",
   "execution_count": null,
   "id": "e5997b0c-3502-49b2-9cab-ed88a5078d13",
   "metadata": {},
   "outputs": [],
   "source": [
    "knn = Pipeline([\n",
    "    (\"scaler\", StandardScaler()),\n",
    "    (\"predictor\", KNeighborsRegressor(n_neighbors = 1))\n",
    "])"
   ]
  },
  {
   "cell_type": "code",
   "execution_count": null,
   "id": "df1087d3-a0a8-40f3-8f32-142fdea21bc6",
   "metadata": {},
   "outputs": [],
   "source": [
    "knn.fit(X_train, y_train)"
   ]
  },
  {
   "cell_type": "code",
   "execution_count": null,
   "id": "e30ce208-5391-4967-b243-2e6955fa9e87",
   "metadata": {},
   "outputs": [],
   "source": [
    "mean_absolute_error(knn.predict(X_test), y_test)"
   ]
  },
  {
   "cell_type": "code",
   "execution_count": null,
   "id": "75a28129-c85e-408f-bc34-dc0fd6b07de9",
   "metadata": {},
   "outputs": [],
   "source": [
    "mean_absolute_error(knn.predict(X_train), y_train)"
   ]
  },
  {
   "cell_type": "code",
   "execution_count": null,
   "id": "ed131ec2-25dd-45a9-9fde-74a78e620058",
   "metadata": {},
   "outputs": [],
   "source": []
  }
 ],
 "metadata": {
  "kernelspec": {
   "display_name": "Python 3 (ipykernel)",
   "language": "python",
   "name": "python3"
  },
  "language_info": {
   "codemirror_mode": {
    "name": "ipython",
    "version": 3
   },
   "file_extension": ".py",
   "mimetype": "text/x-python",
   "name": "python",
   "nbconvert_exporter": "python",
   "pygments_lexer": "ipython3",
   "version": "3.12.4"
  }
 },
 "nbformat": 4,
 "nbformat_minor": 5
}
