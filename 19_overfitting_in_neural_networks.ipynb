{
 "cells": [
  {
   "cell_type": "markdown",
   "id": "96cfb579-fd3b-4f9d-a846-bb44bc82131a",
   "metadata": {
    "id": "96cfb579-fd3b-4f9d-a846-bb44bc82131a"
   },
   "source": [
    "# Overfitting in Neural Networks"
   ]
  },
  {
   "cell_type": "markdown",
   "id": "0cd49f09-b892-4786-bf5c-f4f4bf385d82",
   "metadata": {
    "id": "0cd49f09-b892-4786-bf5c-f4f4bf385d82"
   },
   "source": [
    "You are advised to run this Jupyter Notebook on Google Colab. From the Colab toolbar, select *Runtime* > *Change runtime type* > *T4 GPU* > *Save* before running the Notebook."
   ]
  },
  {
   "cell_type": "code",
   "execution_count": null,
   "id": "7854c906-85f1-4c64-a831-2e5f61ac15e0",
   "metadata": {
    "executionInfo": {
     "elapsed": 5578,
     "status": "ok",
     "timestamp": 1753735840271,
     "user": {
      "displayName": "Derek Bridge",
      "userId": "01707280039117110470"
     },
     "user_tz": -60
    },
    "id": "7854c906-85f1-4c64-a831-2e5f61ac15e0"
   },
   "outputs": [],
   "source": [
    "import numpy as np\n",
    "import pandas as pd\n",
    "import matplotlib.pyplot as plt\n",
    "\n",
    "from sklearn.model_selection import train_test_split\n",
    "\n",
    "from keras.utils import img_to_array\n",
    "from keras.utils import load_img\n",
    "\n",
    "from keras import Model\n",
    "from keras import Sequential\n",
    "from keras import Input\n",
    "from keras.layers import Dense\n",
    "from keras.layers import Rescaling\n",
    "from keras.layers import Conv2D\n",
    "from keras.layers import MaxPooling2D\n",
    "from keras.layers import Flatten\n",
    "from keras.layers import Dropout\n",
    "from keras.layers import RandomFlip\n",
    "from keras.layers import RandomRotation\n",
    "from keras.layers import RandomZoom\n",
    "from keras.layers import RandomTranslation\n",
    "\n",
    "from keras.optimizers import RMSprop\n",
    "\n",
    "from keras.regularizers import l2\n",
    "\n",
    "from keras.callbacks import EarlyStopping\n",
    "\n",
    "from keras.datasets import cifar10"
   ]
  },
  {
   "cell_type": "code",
   "execution_count": null,
   "id": "8CtZ0D6FmLLs",
   "metadata": {
    "colab": {
     "base_uri": "https://localhost:8080/"
    },
    "executionInfo": {
     "elapsed": 37085,
     "status": "ok",
     "timestamp": 1753735877352,
     "user": {
      "displayName": "Derek Bridge",
      "userId": "01707280039117110470"
     },
     "user_tz": -60
    },
    "id": "8CtZ0D6FmLLs",
    "outputId": "b30ffb70-6a10-4087-8fc6-b50c41ce2900"
   },
   "outputs": [],
   "source": [
    "import os\n",
    "if 'google.colab' in str(get_ipython()):\n",
    "    from google.colab import drive\n",
    "    drive.mount('/content/drive')\n",
    "    base_dir = \"./drive/My Drive/Colab Notebooks/\" # You may need to change this, depending on where your notebooks are on Google Drive\n",
    "else:\n",
    "    base_dir = \".\"\n",
    "dataset_dir = os.path.join(base_dir, \"datasets\")"
   ]
  },
  {
   "cell_type": "code",
   "execution_count": null,
   "id": "593a441e-7ad5-46e4-8093-0d07945fbc50",
   "metadata": {
    "executionInfo": {
     "elapsed": 26,
     "status": "ok",
     "timestamp": 1753735877364,
     "user": {
      "displayName": "Derek Bridge",
      "userId": "01707280039117110470"
     },
     "user_tz": -60
    },
    "id": "593a441e-7ad5-46e4-8093-0d07945fbc50"
   },
   "outputs": [],
   "source": [
    "def plot_keras_history(history, metric):\n",
    "    fig, axes = plt.subplots(1, 2, figsize=(6, 3))\n",
    "    fig.tight_layout()\n",
    "    axes[0].plot(history.history[\"loss\"], label=\"train loss\")\n",
    "    axes[0].plot(history.history[\"val_loss\"], label=\"val loss\")\n",
    "    axes[0].set_title(\"Loss\")\n",
    "    axes[0].legend()\n",
    "    axes[1].plot(history.history[metric], label=\"train \" + metric)\n",
    "    axes[1].plot(history.history[\"val_\" + metric], label=\"val \" + metric)\n",
    "    axes[1].set_title(metric)\n",
    "    axes[1].legend()\n",
    "    plt.show()"
   ]
  },
  {
   "cell_type": "markdown",
   "id": "4P008x4UfDUV",
   "metadata": {
    "id": "4P008x4UfDUV"
   },
   "source": [
    "## CIFAR10 dataset"
   ]
  },
  {
   "cell_type": "markdown",
   "id": "_lzVoFs9r6LZ",
   "metadata": {
    "id": "_lzVoFs9r6LZ"
   },
   "source": [
    "The CIFAR10 dataset has 50,000 32x32 colour training images and 10,000 test images, with 10 classes: 0\tairplane, 1\tautomobile, 2\tbird, 3\tcat, 4\tdeer, 5\tdog, 6\tfrog, 7\thorse, 8\tship and 9\ttruck."
   ]
  },
  {
   "cell_type": "code",
   "execution_count": null,
   "id": "c36588a9-a989-4f59-8f32-c6e88a5c9ee8",
   "metadata": {
    "colab": {
     "base_uri": "https://localhost:8080/"
    },
    "executionInfo": {
     "elapsed": 14949,
     "status": "ok",
     "timestamp": 1753735892316,
     "user": {
      "displayName": "Derek Bridge",
      "userId": "01707280039117110470"
     },
     "user_tz": -60
    },
    "id": "c36588a9-a989-4f59-8f32-c6e88a5c9ee8",
    "outputId": "19299215-938a-4fd3-db46-c2d72b0c1c70"
   },
   "outputs": [],
   "source": [
    "(X_train, y_train), (X_test, y_test) = cifar10.load_data()"
   ]
  },
  {
   "cell_type": "code",
   "execution_count": null,
   "id": "VRfLISMsss2u",
   "metadata": {
    "colab": {
     "base_uri": "https://localhost:8080/",
     "height": 913
    },
    "executionInfo": {
     "elapsed": 1334,
     "status": "ok",
     "timestamp": 1753735893653,
     "user": {
      "displayName": "Derek Bridge",
      "userId": "01707280039117110470"
     },
     "user_tz": -60
    },
    "id": "VRfLISMsss2u",
    "outputId": "ee5c44c0-f552-4424-80ce-36ebcc04710a"
   },
   "outputs": [],
   "source": [
    "plt.figure(figsize=(8, 8))\n",
    "for i in range(12):\n",
    "    ax = plt.subplot(3, 4, i + 1)\n",
    "    plt.imshow(X_train[i])\n",
    "    plt.title(y_train[i])\n",
    "    plt.axis(\"off\")"
   ]
  },
  {
   "cell_type": "markdown",
   "id": "ae61ac37-8e09-47b1-a8e8-f59c732ee890",
   "metadata": {
    "id": "ae61ac37-8e09-47b1-a8e8-f59c732ee890"
   },
   "source": [
    "## A network that overfits"
   ]
  },
  {
   "cell_type": "code",
   "execution_count": null,
   "id": "33445cc5-eff1-46f3-b4cc-37231963afbf",
   "metadata": {
    "executionInfo": {
     "elapsed": 1497,
     "status": "ok",
     "timestamp": 1753735895152,
     "user": {
      "displayName": "Derek Bridge",
      "userId": "01707280039117110470"
     },
     "user_tz": -60
    },
    "id": "33445cc5-eff1-46f3-b4cc-37231963afbf"
   },
   "outputs": [],
   "source": [
    "inputs = Input(shape=(32, 32, 3))\n",
    "x = Rescaling(scale=1./255)(inputs)\n",
    "x = Conv2D(filters=128, kernel_size=(3, 3), activation=\"relu\")(x)\n",
    "x = MaxPooling2D(pool_size=(2, 2))(x)\n",
    "x = Conv2D(filters=64, kernel_size=(3, 3), activation=\"relu\")(x)\n",
    "x = MaxPooling2D(pool_size=(2, 2))(x)\n",
    "x = Flatten()(x)\n",
    "x = Dense(units=64, activation=\"relu\")(x)\n",
    "outputs = Dense(units=10, activation=\"softmax\")(x)\n",
    "overfitting_convnet = Model(inputs, outputs)"
   ]
  },
  {
   "cell_type": "code",
   "execution_count": null,
   "id": "2a126ebe-145f-4c45-96f2-b2e6c7ad55ca",
   "metadata": {
    "executionInfo": {
     "elapsed": 2,
     "status": "ok",
     "timestamp": 1753735895156,
     "user": {
      "displayName": "Derek Bridge",
      "userId": "01707280039117110470"
     },
     "user_tz": -60
    },
    "id": "2a126ebe-145f-4c45-96f2-b2e6c7ad55ca"
   },
   "outputs": [],
   "source": [
    "overfitting_convnet.compile(optimizer=RMSprop(learning_rate=0.001), loss=\"sparse_categorical_crossentropy\", metrics=[\"accuracy\"])"
   ]
  },
  {
   "cell_type": "code",
   "execution_count": null,
   "id": "9bfb6c16-8ea2-469c-b873-68c155b02cb8",
   "metadata": {
    "executionInfo": {
     "elapsed": 138863,
     "status": "ok",
     "timestamp": 1753736034021,
     "user": {
      "displayName": "Derek Bridge",
      "userId": "01707280039117110470"
     },
     "user_tz": -60
    },
    "id": "9bfb6c16-8ea2-469c-b873-68c155b02cb8"
   },
   "outputs": [],
   "source": [
    "overfitting_convnet_history = overfitting_convnet.fit(X_train, y_train, epochs=20, validation_split=0.25, batch_size=32, verbose=0)"
   ]
  },
  {
   "cell_type": "code",
   "execution_count": null,
   "id": "af8ced0b-4d94-45d6-ac5a-2cecc5985715",
   "metadata": {
    "colab": {
     "base_uri": "https://localhost:8080/"
    },
    "executionInfo": {
     "elapsed": 9,
     "status": "ok",
     "timestamp": 1753736034023,
     "user": {
      "displayName": "Derek Bridge",
      "userId": "01707280039117110470"
     },
     "user_tz": -60
    },
    "id": "af8ced0b-4d94-45d6-ac5a-2cecc5985715",
    "outputId": "98dd8d84-6261-4a6d-880a-71fb2c8f204a"
   },
   "outputs": [],
   "source": [
    "train_acc, val_acc = overfitting_convnet_history.history[\"accuracy\"][-1], overfitting_convnet_history.history[\"val_accuracy\"][-1]\n",
    "train_acc, val_acc"
   ]
  },
  {
   "cell_type": "markdown",
   "id": "45a05922-7fbf-43ef-b8b9-7ddb137bab85",
   "metadata": {
    "id": "45a05922-7fbf-43ef-b8b9-7ddb137bab85"
   },
   "source": [
    "## Reducing complexity - by reducing network size"
   ]
  },
  {
   "cell_type": "code",
   "execution_count": null,
   "id": "1365b4c9-903e-45b4-a0c2-e7ddcaeadb26",
   "metadata": {
    "executionInfo": {
     "elapsed": 5,
     "status": "ok",
     "timestamp": 1753736034024,
     "user": {
      "displayName": "Derek Bridge",
      "userId": "01707280039117110470"
     },
     "user_tz": -60
    },
    "id": "1365b4c9-903e-45b4-a0c2-e7ddcaeadb26"
   },
   "outputs": [],
   "source": [
    "inputs = Input(shape=(32, 32, 3))\n",
    "x = Rescaling(scale=1./255)(inputs)\n",
    "x = Conv2D(filters=64, kernel_size=(3, 3), activation=\"relu\")(x)\n",
    "x = MaxPooling2D(pool_size=(2, 2))(x)\n",
    "x = Conv2D(filters=32, kernel_size=(3, 3), activation=\"relu\")(x)\n",
    "x = MaxPooling2D(pool_size=(2, 2))(x)\n",
    "x = Flatten()(x)\n",
    "x = Dense(units=16, activation=\"relu\")(x)\n",
    "outputs = Dense(units=10, activation=\"softmax\")(x)\n",
    "convnet = Model(inputs, outputs)"
   ]
  },
  {
   "cell_type": "code",
   "execution_count": null,
   "id": "4a85dd6e-d370-4f3f-a701-ae092049ab4c",
   "metadata": {
    "executionInfo": {
     "elapsed": 1,
     "status": "ok",
     "timestamp": 1753736034026,
     "user": {
      "displayName": "Derek Bridge",
      "userId": "01707280039117110470"
     },
     "user_tz": -60
    },
    "id": "4a85dd6e-d370-4f3f-a701-ae092049ab4c",
    "scrolled": true
   },
   "outputs": [],
   "source": [
    "convnet.compile(optimizer=RMSprop(learning_rate=0.001), loss=\"sparse_categorical_crossentropy\", metrics=[\"accuracy\"])"
   ]
  },
  {
   "cell_type": "code",
   "execution_count": null,
   "id": "ea458dc7-b6c8-47d7-8445-f8210ac6c436",
   "metadata": {
    "executionInfo": {
     "elapsed": 108672,
     "status": "ok",
     "timestamp": 1753736142708,
     "user": {
      "displayName": "Derek Bridge",
      "userId": "01707280039117110470"
     },
     "user_tz": -60
    },
    "id": "ea458dc7-b6c8-47d7-8445-f8210ac6c436"
   },
   "outputs": [],
   "source": [
    "convnet_history = convnet.fit(X_train, y_train, epochs=20, validation_split=0.25, batch_size=32, verbose=0)"
   ]
  },
  {
   "cell_type": "code",
   "execution_count": null,
   "id": "b573909e-55c1-49d7-9a36-d1e214195268",
   "metadata": {
    "colab": {
     "base_uri": "https://localhost:8080/"
    },
    "executionInfo": {
     "elapsed": 8,
     "status": "ok",
     "timestamp": 1753736142721,
     "user": {
      "displayName": "Derek Bridge",
      "userId": "01707280039117110470"
     },
     "user_tz": -60
    },
    "id": "b573909e-55c1-49d7-9a36-d1e214195268",
    "outputId": "54b27465-d7d4-4dba-c69c-617f8e6862d1"
   },
   "outputs": [],
   "source": [
    "train_acc, val_acc = convnet_history.history[\"accuracy\"][-1], convnet_history.history[\"val_accuracy\"][-1]\n",
    "train_acc, val_acc"
   ]
  },
  {
   "cell_type": "markdown",
   "id": "edb42ac0-dad7-4169-98d3-1ae29278568d",
   "metadata": {
    "id": "edb42ac0-dad7-4169-98d3-1ae29278568d"
   },
   "source": [
    "## Weight regularization"
   ]
  },
  {
   "cell_type": "code",
   "execution_count": null,
   "id": "7294fc82-6c2a-4c42-8d7a-e599c9ef2810",
   "metadata": {
    "executionInfo": {
     "elapsed": 2,
     "status": "ok",
     "timestamp": 1753736142724,
     "user": {
      "displayName": "Derek Bridge",
      "userId": "01707280039117110470"
     },
     "user_tz": -60
    },
    "id": "7294fc82-6c2a-4c42-8d7a-e599c9ef2810"
   },
   "outputs": [],
   "source": [
    "inputs = Input(shape=(32, 32, 3))\n",
    "x = Rescaling(scale=1./255)(inputs)\n",
    "x = Conv2D(filters=128, kernel_size=(3, 3), activation=\"relu\", kernel_regularizer=l2(0.001))(x)\n",
    "x = MaxPooling2D(pool_size=(2, 2))(x)\n",
    "x = Conv2D(filters=64, kernel_size=(3, 3), activation=\"relu\", kernel_regularizer=l2(0.001))(x)\n",
    "x = MaxPooling2D(pool_size=(2, 2))(x)\n",
    "x = Flatten()(x)\n",
    "x = Dense(units=64, activation=\"relu\", kernel_regularizer=l2(0.001))(x)\n",
    "outputs = Dense(units=10, activation=\"softmax\", kernel_regularizer=l2(0.001))(x)\n",
    "convnet = Model(inputs, outputs)"
   ]
  },
  {
   "cell_type": "code",
   "execution_count": null,
   "id": "9c8da0a5-c523-41bc-80c4-f875e371156b",
   "metadata": {
    "executionInfo": {
     "elapsed": 3,
     "status": "ok",
     "timestamp": 1753736142729,
     "user": {
      "displayName": "Derek Bridge",
      "userId": "01707280039117110470"
     },
     "user_tz": -60
    },
    "id": "9c8da0a5-c523-41bc-80c4-f875e371156b"
   },
   "outputs": [],
   "source": [
    "convnet.compile(optimizer=RMSprop(learning_rate=0.001), loss=\"sparse_categorical_crossentropy\", metrics=[\"accuracy\"])"
   ]
  },
  {
   "cell_type": "code",
   "execution_count": null,
   "id": "931878d6-ea3e-450c-8614-2ed19f7cc554",
   "metadata": {
    "executionInfo": {
     "elapsed": 139765,
     "status": "ok",
     "timestamp": 1753736282492,
     "user": {
      "displayName": "Derek Bridge",
      "userId": "01707280039117110470"
     },
     "user_tz": -60
    },
    "id": "931878d6-ea3e-450c-8614-2ed19f7cc554"
   },
   "outputs": [],
   "source": [
    "convnet_history = convnet.fit(X_train, y_train, epochs=20, validation_split=0.25, batch_size=32, verbose=0)"
   ]
  },
  {
   "cell_type": "code",
   "execution_count": null,
   "id": "aea9132f-4a6f-4bff-b69d-0239e643fa4f",
   "metadata": {
    "colab": {
     "base_uri": "https://localhost:8080/"
    },
    "executionInfo": {
     "elapsed": 9,
     "status": "ok",
     "timestamp": 1753736282495,
     "user": {
      "displayName": "Derek Bridge",
      "userId": "01707280039117110470"
     },
     "user_tz": -60
    },
    "id": "aea9132f-4a6f-4bff-b69d-0239e643fa4f",
    "outputId": "81e10286-8310-419f-f626-4a70f9cf2ccc"
   },
   "outputs": [],
   "source": [
    "train_acc, val_acc = convnet_history.history[\"accuracy\"][-1], convnet_history.history[\"val_accuracy\"][-1]\n",
    "train_acc, val_acc"
   ]
  },
  {
   "cell_type": "markdown",
   "id": "oGqOZhEoZFpv",
   "metadata": {
    "id": "oGqOZhEoZFpv"
   },
   "source": [
    "## Dropout"
   ]
  },
  {
   "cell_type": "code",
   "execution_count": null,
   "id": "a16d96a6-3450-440a-a99f-139635aeb88e",
   "metadata": {
    "executionInfo": {
     "elapsed": 2,
     "status": "ok",
     "timestamp": 1753736282497,
     "user": {
      "displayName": "Derek Bridge",
      "userId": "01707280039117110470"
     },
     "user_tz": -60
    },
    "id": "a16d96a6-3450-440a-a99f-139635aeb88e"
   },
   "outputs": [],
   "source": [
    "inputs = Input(shape=(32, 32, 3))\n",
    "x = Rescaling(scale=1./255)(inputs)\n",
    "x = Conv2D(filters=128, kernel_size=(3, 3), activation=\"relu\")(x)\n",
    "x = MaxPooling2D(pool_size=(2, 2))(x)\n",
    "x = Dropout(rate=0.3)(x)\n",
    "x = Conv2D(filters=64, kernel_size=(3, 3), activation=\"relu\")(x)\n",
    "x = MaxPooling2D(pool_size=(2, 2))(x)\n",
    "x = Dropout(rate=0.3)(x)\n",
    "x = Flatten()(x)\n",
    "x = Dense(units=64, activation=\"relu\")(x)\n",
    "outputs = Dense(units=10, activation=\"softmax\")(x)\n",
    "convnet = Model(inputs, outputs)"
   ]
  },
  {
   "cell_type": "code",
   "execution_count": null,
   "id": "RbouljOzZYEd",
   "metadata": {
    "executionInfo": {
     "elapsed": 11,
     "status": "ok",
     "timestamp": 1753736282509,
     "user": {
      "displayName": "Derek Bridge",
      "userId": "01707280039117110470"
     },
     "user_tz": -60
    },
    "id": "RbouljOzZYEd"
   },
   "outputs": [],
   "source": [
    "convnet.compile(optimizer=RMSprop(learning_rate=0.001), loss=\"sparse_categorical_crossentropy\", metrics=[\"accuracy\"])"
   ]
  },
  {
   "cell_type": "code",
   "execution_count": null,
   "id": "kRPQ3YIKZbXf",
   "metadata": {
    "executionInfo": {
     "elapsed": 160619,
     "status": "ok",
     "timestamp": 1753736443130,
     "user": {
      "displayName": "Derek Bridge",
      "userId": "01707280039117110470"
     },
     "user_tz": -60
    },
    "id": "kRPQ3YIKZbXf"
   },
   "outputs": [],
   "source": [
    "convnet_history = convnet.fit(X_train, y_train, epochs=20, validation_split=0.25, batch_size=32, verbose=0)"
   ]
  },
  {
   "cell_type": "code",
   "execution_count": null,
   "id": "iPntca90ZdIn",
   "metadata": {
    "colab": {
     "base_uri": "https://localhost:8080/"
    },
    "executionInfo": {
     "elapsed": 13,
     "status": "ok",
     "timestamp": 1753736443132,
     "user": {
      "displayName": "Derek Bridge",
      "userId": "01707280039117110470"
     },
     "user_tz": -60
    },
    "id": "iPntca90ZdIn",
    "outputId": "955e5996-bea4-447b-cf73-555710224e47"
   },
   "outputs": [],
   "source": [
    "train_acc, val_acc = convnet_history.history[\"accuracy\"][-1], convnet_history.history[\"val_accuracy\"][-1]\n",
    "train_acc, val_acc"
   ]
  },
  {
   "cell_type": "markdown",
   "id": "Gj42xWLObhgY",
   "metadata": {
    "id": "Gj42xWLObhgY"
   },
   "source": [
    "## Early Stopping"
   ]
  },
  {
   "cell_type": "code",
   "execution_count": null,
   "id": "fmv5KdpIZni0",
   "metadata": {
    "colab": {
     "base_uri": "https://localhost:8080/",
     "height": 323
    },
    "executionInfo": {
     "elapsed": 361,
     "status": "ok",
     "timestamp": 1753736443489,
     "user": {
      "displayName": "Derek Bridge",
      "userId": "01707280039117110470"
     },
     "user_tz": -60
    },
    "id": "fmv5KdpIZni0",
    "outputId": "310e5944-9a5a-4c1b-dcc8-2babdcf36da4"
   },
   "outputs": [],
   "source": [
    "plot_keras_history(overfitting_convnet.history, \"accuracy\")"
   ]
  },
  {
   "cell_type": "code",
   "execution_count": null,
   "id": "OuV1XOzfhEzS",
   "metadata": {
    "executionInfo": {
     "elapsed": 7,
     "status": "ok",
     "timestamp": 1753736443497,
     "user": {
      "displayName": "Derek Bridge",
      "userId": "01707280039117110470"
     },
     "user_tz": -60
    },
    "id": "OuV1XOzfhEzS"
   },
   "outputs": [],
   "source": [
    "inputs = Input(shape=(32, 32, 3))\n",
    "x = Rescaling(scale=1./255)(inputs)\n",
    "x = Conv2D(filters=128, kernel_size=(3, 3), activation=\"relu\")(x)\n",
    "x = MaxPooling2D(pool_size=(2, 2))(x)\n",
    "x = Conv2D(filters=64, kernel_size=(3, 3), activation=\"relu\")(x)\n",
    "x = MaxPooling2D(pool_size=(2, 2))(x)\n",
    "x = Flatten()(x)\n",
    "x = Dense(units=64, activation=\"relu\")(x)\n",
    "outputs = Dense(units=10, activation=\"softmax\")(x)\n",
    "convnet = Model(inputs, outputs)"
   ]
  },
  {
   "cell_type": "code",
   "execution_count": null,
   "id": "rNGa6PkkhlGP",
   "metadata": {
    "executionInfo": {
     "elapsed": 6,
     "status": "ok",
     "timestamp": 1753736443498,
     "user": {
      "displayName": "Derek Bridge",
      "userId": "01707280039117110470"
     },
     "user_tz": -60
    },
    "id": "rNGa6PkkhlGP"
   },
   "outputs": [],
   "source": [
    "convnet.compile(optimizer=RMSprop(learning_rate=0.001), loss=\"sparse_categorical_crossentropy\", metrics=[\"accuracy\"])"
   ]
  },
  {
   "cell_type": "code",
   "execution_count": null,
   "id": "YCJIy_T0cZ4q",
   "metadata": {
    "executionInfo": {
     "elapsed": 62134,
     "status": "ok",
     "timestamp": 1753736505629,
     "user": {
      "displayName": "Derek Bridge",
      "userId": "01707280039117110470"
     },
     "user_tz": -60
    },
    "id": "YCJIy_T0cZ4q"
   },
   "outputs": [],
   "source": [
    "convnet_history = convnet.fit(X_train, y_train, epochs=20, validation_split=0.25, batch_size=32, verbose=0,\n",
    "                              callbacks=[EarlyStopping(monitor=\"val_loss\", patience=5, restore_best_weights=True)])\n"
   ]
  },
  {
   "cell_type": "code",
   "execution_count": null,
   "id": "suoI7sVQcxd5",
   "metadata": {
    "colab": {
     "base_uri": "https://localhost:8080/",
     "height": 323
    },
    "executionInfo": {
     "elapsed": 508,
     "status": "ok",
     "timestamp": 1753736506136,
     "user": {
      "displayName": "Derek Bridge",
      "userId": "01707280039117110470"
     },
     "user_tz": -60
    },
    "id": "suoI7sVQcxd5",
    "outputId": "ac3129ab-5d5f-4e15-f350-91c9c730d951"
   },
   "outputs": [],
   "source": [
    "plot_keras_history(convnet.history, \"accuracy\")"
   ]
  },
  {
   "cell_type": "code",
   "execution_count": null,
   "id": "GsANgTCLe0ur",
   "metadata": {
    "colab": {
     "base_uri": "https://localhost:8080/"
    },
    "executionInfo": {
     "elapsed": 5,
     "status": "ok",
     "timestamp": 1753736506143,
     "user": {
      "displayName": "Derek Bridge",
      "userId": "01707280039117110470"
     },
     "user_tz": -60
    },
    "id": "GsANgTCLe0ur",
    "outputId": "09eb7a7c-8cef-4ca3-8937-87ada93d3818"
   },
   "outputs": [],
   "source": [
    "train_acc, val_acc = convnet_history.history[\"accuracy\"][-1], convnet_history.history[\"val_accuracy\"][-1]\n",
    "train_acc, val_acc"
   ]
  },
  {
   "cell_type": "markdown",
   "id": "vZghrbPweDu6",
   "metadata": {
    "id": "vZghrbPweDu6"
   },
   "source": [
    "## Data Augmentation"
   ]
  },
  {
   "cell_type": "markdown",
   "id": "XRQXK81dnq6_",
   "metadata": {
    "id": "XRQXK81dnq6_"
   },
   "source": [
    "Let's see what data augmentation does - before we use it in our neural network.\n",
    "\n",
    "You can look-up the details in the Keras API documentation, but a quick summary is:\n",
    "- We may flip. For this dataset, only horizontal flipping makes sense.\n",
    "- We may rotate. Here the rotations are random in the range $[-0.1\\times 2\\pi, 0.1\\times\\pi]$ radians. (Recall radians from school: $2 \\pi$ radians is a full circle.)\n",
    "- We may zoom. Here aspect ratio is preserved because we only specify a height factor. Negative means zooming in; positive means zooming out.\n",
    "- And we may shift. Here, we've asked for left/right shifts of up to 20% and up/down shifts of up to 20%."
   ]
  },
  {
   "cell_type": "code",
   "execution_count": null,
   "id": "7ZXPHUtlhz01",
   "metadata": {
    "colab": {
     "base_uri": "https://localhost:8080/",
     "height": 753
    },
    "executionInfo": {
     "elapsed": 5962,
     "status": "ok",
     "timestamp": 1753736512119,
     "user": {
      "displayName": "Derek Bridge",
      "userId": "01707280039117110470"
     },
     "user_tz": -60
    },
    "id": "7ZXPHUtlhz01",
    "outputId": "c6d3d359-7118-49f2-8d99-9f5d9ef3571e"
   },
   "outputs": [],
   "source": [
    "# Load an image\n",
    "img = load_img(os.path.join(dataset_dir, \"wikipedia_cats_and_dogs/Retriever_in_water.jpg\"))\n",
    "input_array = np.array([img_to_array(img)])\n",
    "\n",
    "# Create some augmentation layers\n",
    "augmentation_layers = Sequential([\n",
    "   Input(shape=(244, 244, 3)),\n",
    "   RandomFlip(mode=\"horizontal\"),\n",
    "   RandomRotation(factor=0.1),\n",
    "   RandomZoom(height_factor=(-0.2, 0.2)),\n",
    "   RandomTranslation(height_factor=0.2, width_factor=0.2)\n",
    "])\n",
    "\n",
    "# Apply the augmentation layers to the image and display\n",
    "plt.figure(figsize=(10, 10))\n",
    "for i in range(9):\n",
    "    augmented_images = augmentation_layers(input_array)\n",
    "    ax = plt.subplot(3, 3, i + 1)\n",
    "    plt.imshow(augmented_images[0].numpy().astype(\"uint8\"))\n",
    "    plt.axis(\"off\")"
   ]
  },
  {
   "cell_type": "markdown",
   "id": "cYsOzxqUoFPq",
   "metadata": {
    "id": "cYsOzxqUoFPq"
   },
   "source": [
    "Now let's use these layers in our network. These layers will only augment the training data, not the validation or test data."
   ]
  },
  {
   "cell_type": "code",
   "execution_count": null,
   "id": "BcNTMMG6iDjE",
   "metadata": {
    "executionInfo": {
     "elapsed": 2,
     "status": "ok",
     "timestamp": 1753736512126,
     "user": {
      "displayName": "Derek Bridge",
      "userId": "01707280039117110470"
     },
     "user_tz": -60
    },
    "id": "BcNTMMG6iDjE"
   },
   "outputs": [],
   "source": [
    "inputs = Input(shape=(32, 32, 3))\n",
    "x = RandomFlip(mode=\"horizontal\")(x)\n",
    "x = RandomRotation(factor=0.1)(x)\n",
    "x = RandomZoom(height_factor=(-0.2, 0.2))(x)\n",
    "x = RandomTranslation(height_factor=0.2, width_factor=0.2)(x)\n",
    "x = Rescaling(scale=1./255)(inputs)\n",
    "x = Conv2D(filters=128, kernel_size=(3, 3), activation=\"relu\")(x)\n",
    "x = MaxPooling2D(pool_size=(2, 2))(x)\n",
    "x = Conv2D(filters=64, kernel_size=(3, 3), activation=\"relu\")(x)\n",
    "x = MaxPooling2D(pool_size=(2, 2))(x)\n",
    "x = Flatten()(x)\n",
    "x = Dense(units=64, activation=\"relu\")(x)\n",
    "outputs = Dense(units=10, activation=\"softmax\")(x)\n",
    "overfitting_convnet = Model(inputs, outputs)"
   ]
  },
  {
   "cell_type": "code",
   "execution_count": null,
   "id": "rG1SffNeilLY",
   "metadata": {
    "executionInfo": {
     "elapsed": 2,
     "status": "ok",
     "timestamp": 1753736512130,
     "user": {
      "displayName": "Derek Bridge",
      "userId": "01707280039117110470"
     },
     "user_tz": -60
    },
    "id": "rG1SffNeilLY"
   },
   "outputs": [],
   "source": [
    "convnet.compile(optimizer=RMSprop(learning_rate=0.001), loss=\"sparse_categorical_crossentropy\", metrics=[\"accuracy\"])"
   ]
  },
  {
   "cell_type": "markdown",
   "id": "qn-yKJqDoLYJ",
   "metadata": {
    "id": "qn-yKJqDoLYJ"
   },
   "source": [
    "We run for more epochs and it will synthesize new training examples on every batch. (On its own, it's not very effective here.)"
   ]
  },
  {
   "cell_type": "code",
   "execution_count": null,
   "id": "j6azzhkEipr4",
   "metadata": {
    "executionInfo": {
     "elapsed": 286886,
     "status": "ok",
     "timestamp": 1753736799018,
     "user": {
      "displayName": "Derek Bridge",
      "userId": "01707280039117110470"
     },
     "user_tz": -60
    },
    "id": "j6azzhkEipr4"
   },
   "outputs": [],
   "source": [
    "convnet_history = convnet.fit(X_train, y_train, epochs=40, validation_split=0.25, batch_size=32, verbose=0)"
   ]
  },
  {
   "cell_type": "code",
   "execution_count": null,
   "id": "tI7WD6ltivrt",
   "metadata": {
    "colab": {
     "base_uri": "https://localhost:8080/"
    },
    "executionInfo": {
     "elapsed": 11,
     "status": "ok",
     "timestamp": 1753736799020,
     "user": {
      "displayName": "Derek Bridge",
      "userId": "01707280039117110470"
     },
     "user_tz": -60
    },
    "id": "tI7WD6ltivrt",
    "outputId": "f62ef403-04ea-4b25-9594-69d7c8f6e1ec"
   },
   "outputs": [],
   "source": [
    "train_acc, val_acc = convnet_history.history[\"accuracy\"][-1], convnet_history.history[\"val_accuracy\"][-1]\n",
    "train_acc, val_acc"
   ]
  },
  {
   "cell_type": "markdown",
   "id": "15ab9ea7-df8c-4871-bbdf-08a63aa318c1",
   "metadata": {},
   "source": [
    "Finally, we should do Error Estimation - to compare the models on the test set. We should - but we won't, since you're already familiar with how to do it."
   ]
  },
  {
   "cell_type": "markdown",
   "id": "2J8enYcIq8GH",
   "metadata": {
    "id": "2J8enYcIq8GH"
   },
   "source": [
    "# Closing Remarks\n",
    "\n",
    "Don't forget that Batch Normalization also has a regularizing effect.\n",
    "\n",
    "CIFAR10 is a relatively easy dataset. Therefore, in practice, you wouldn't have started with such a large network. And, of course, you can use these solutions together. For example, I would have started with a smaller network, added a Dropout layer and Early Stopping - and I would see where that got me before trying other things."
   ]
  },
  {
   "cell_type": "code",
   "execution_count": null,
   "id": "EcY0dvEfixtc",
   "metadata": {
    "executionInfo": {
     "elapsed": 6,
     "status": "ok",
     "timestamp": 1753736799021,
     "user": {
      "displayName": "Derek Bridge",
      "userId": "01707280039117110470"
     },
     "user_tz": -60
    },
    "id": "EcY0dvEfixtc"
   },
   "outputs": [],
   "source": []
  }
 ],
 "metadata": {
  "accelerator": "GPU",
  "colab": {
   "gpuType": "T4",
   "provenance": []
  },
  "kernelspec": {
   "display_name": "Python 3 (ipykernel)",
   "language": "python",
   "name": "python3"
  },
  "language_info": {
   "codemirror_mode": {
    "name": "ipython",
    "version": 3
   },
   "file_extension": ".py",
   "mimetype": "text/x-python",
   "name": "python",
   "nbconvert_exporter": "python",
   "pygments_lexer": "ipython3",
   "version": "3.12.4"
  }
 },
 "nbformat": 4,
 "nbformat_minor": 5
}
