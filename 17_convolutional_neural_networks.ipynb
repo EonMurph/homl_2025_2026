{
 "cells": [
  {
   "cell_type": "markdown",
   "id": "96cfb579-fd3b-4f9d-a846-bb44bc82131a",
   "metadata": {},
   "source": [
    "# Convolutional Neural Networks"
   ]
  },
  {
   "cell_type": "markdown",
   "id": "0cd49f09-b892-4786-bf5c-f4f4bf385d82",
   "metadata": {},
   "source": [
    "From now on, it might be better to run these Jupyter Notebooks on Google Colab. From the Colab toolbar, select *Runtime* > *Change runtime type* > *T4 GPU* > *Save* before running the Notebook."
   ]
  },
  {
   "cell_type": "code",
   "execution_count": null,
   "id": "7854c906-85f1-4c64-a831-2e5f61ac15e0",
   "metadata": {},
   "outputs": [],
   "source": [
    "from keras import Model\n",
    "from keras import Input\n",
    "from keras.layers import Dense\n",
    "from keras.layers import Rescaling\n",
    "from tensorflow.keras.layers import Conv2D\n",
    "from tensorflow.keras.layers import MaxPooling2D\n",
    "from tensorflow.keras.layers import Flatten\n",
    "\n",
    "from keras.optimizers import RMSprop\n",
    "\n",
    "from keras.datasets.mnist import load_data\n",
    "\n",
    "from tensorflow.keras.callbacks import EarlyStopping\n",
    "\n",
    "from tensorflow.keras.datasets import mnist"
   ]
  },
  {
   "cell_type": "code",
   "execution_count": null,
   "id": "c36588a9-a989-4f59-8f32-c6e88a5c9ee8",
   "metadata": {},
   "outputs": [],
   "source": [
    "(X_train, y_train), (X_test, y_test) = mnist.load_data()"
   ]
  },
  {
   "cell_type": "markdown",
   "id": "b486b2e0-1933-43a3-8503-d96bdad3554d",
   "metadata": {},
   "source": [
    "## Reshaping the MNIST Dataset"
   ]
  },
  {
   "cell_type": "markdown",
   "id": "bd718015-916d-42f0-a370-cb4dc1b46df6",
   "metadata": {},
   "source": [
    "This is what we did in the previous lecture:"
   ]
  },
  {
   "cell_type": "code",
   "execution_count": null,
   "id": "923ece4d-c1ab-4167-9b2d-d465dc1fcc3d",
   "metadata": {},
   "outputs": [],
   "source": [
    "# X_train = X_train.reshape((60000, 28 * 28))\n",
    "# X_test = X_test.reshape((10000, 28 * 28))"
   ]
  },
  {
   "cell_type": "markdown",
   "id": "3e15c88f-9ca5-461c-b01d-dafc453b7fbc",
   "metadata": {},
   "source": [
    "But, from now on, we don't flatten. Instead, we add a dimension so that we have a rank 3 tensor:"
   ]
  },
  {
   "cell_type": "code",
   "execution_count": null,
   "id": "63d79ce4-c4bd-4f39-b6b4-0b8667c688a3",
   "metadata": {},
   "outputs": [],
   "source": [
    "X_train = X_train.reshape((60000, 28, 28, 1))\n",
    "X_test = X_test.reshape((10000, 28, 28, 1))"
   ]
  },
  {
   "cell_type": "markdown",
   "id": "e37cdd9c-9fad-426c-9354-07b413f9ab7c",
   "metadata": {},
   "source": [
    "## A 2D ConvNet for MNIST"
   ]
  },
  {
   "cell_type": "code",
   "execution_count": null,
   "id": "33445cc5-eff1-46f3-b4cc-37231963afbf",
   "metadata": {},
   "outputs": [],
   "source": [
    "inputs = Input(shape=(28, 28, 1))\n",
    "x = Rescaling(scale=1./255)(inputs)\n",
    "x = Conv2D(filters=32, kernel_size=(3, 3), activation=\"relu\")(x)\n",
    "x = MaxPooling2D(pool_size=(2, 2))(x)\n",
    "x = Conv2D(filters=64, kernel_size=(3, 3), activation=\"relu\")(x)\n",
    "x = MaxPooling2D(pool_size=(2, 2))(x)\n",
    "x = Conv2D(filters=64, kernel_size=(3, 3), activation=\"relu\")(x)\n",
    "x = Flatten()(x)\n",
    "x = Dense(units=64, activation=\"relu\")(x)\n",
    "outputs = Dense(units=10, activation=\"softmax\")(x)\n",
    "convnet = Model(inputs, outputs)"
   ]
  },
  {
   "cell_type": "code",
   "execution_count": null,
   "id": "2a126ebe-145f-4c45-96f2-b2e6c7ad55ca",
   "metadata": {},
   "outputs": [],
   "source": [
    "convnet.compile(optimizer=RMSprop(learning_rate=0.0001), loss=\"sparse_categorical_crossentropy\", metrics=[\"accuracy\"])"
   ]
  },
  {
   "cell_type": "code",
   "execution_count": null,
   "id": "2fb746ec-d043-4610-a3e8-b3afd5735f1b",
   "metadata": {},
   "outputs": [],
   "source": [
    "convnet.summary()"
   ]
  },
  {
   "cell_type": "markdown",
   "id": "d7bd393c-1d72-4c38-9ee9-0f1982a25400",
   "metadata": {},
   "source": [
    "Do you understand all the numbers in the table above?"
   ]
  },
  {
   "cell_type": "code",
   "execution_count": null,
   "id": "4a85dd6e-d370-4f3f-a701-ae092049ab4c",
   "metadata": {},
   "outputs": [],
   "source": [
    "convnet.fit(X_train, y_train, epochs=20, batch_size=32, \n",
    "            verbose=0, validation_split=0.25, \n",
    "            callbacks=[EarlyStopping(monitor=\"val_loss\", patience=4, restore_best_weights=True)])"
   ]
  },
  {
   "cell_type": "markdown",
   "id": "27fa3d8c-b87d-4418-93bb-0e4e73ce4f63",
   "metadata": {},
   "source": [
    "We'll explain early stopping in a subsequent lecture, when we discuss overfitting. "
   ]
  },
  {
   "cell_type": "code",
   "execution_count": null,
   "id": "b573909e-55c1-49d7-9a36-d1e214195268",
   "metadata": {},
   "outputs": [],
   "source": [
    "test_loss, test_acc = convnet.evaluate(X_test, y_test)\n",
    "test_acc"
   ]
  },
  {
   "cell_type": "markdown",
   "id": "bfe1e0e0-9179-4515-95f9-b1ab464c4816",
   "metadata": {},
   "source": [
    "A tiny bit more accurate than in the previous Notebook."
   ]
  },
  {
   "cell_type": "code",
   "execution_count": null,
   "id": "b0b050b0-9453-467d-a353-dc32a6defccd",
   "metadata": {},
   "outputs": [],
   "source": []
  }
 ],
 "metadata": {
  "kernelspec": {
   "display_name": "Python 3 (ipykernel)",
   "language": "python",
   "name": "python3"
  },
  "language_info": {
   "codemirror_mode": {
    "name": "ipython",
    "version": 3
   },
   "file_extension": ".py",
   "mimetype": "text/x-python",
   "name": "python",
   "nbconvert_exporter": "python",
   "pygments_lexer": "ipython3",
   "version": "3.12.4"
  }
 },
 "nbformat": 4,
 "nbformat_minor": 5
}
